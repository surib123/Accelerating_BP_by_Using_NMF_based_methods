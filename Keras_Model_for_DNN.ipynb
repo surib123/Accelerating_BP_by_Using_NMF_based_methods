{
  "nbformat": 4,
  "nbformat_minor": 0,
  "metadata": {
    "colab": {
      "name": "Keras_Model_for_DNN.ipynb",
      "provenance": [],
      "collapsed_sections": [],
      "toc_visible": true,
      "authorship_tag": "ABX9TyOLrU/vewh8xP55ZUefrbX7",
      "include_colab_link": true
    },
    "kernelspec": {
      "name": "python3",
      "display_name": "Python 3"
    }
  },
  "cells": [
    {
      "cell_type": "markdown",
      "metadata": {
        "id": "view-in-github",
        "colab_type": "text"
      },
      "source": [
        "<a href=\"https://colab.research.google.com/github/surib123/Accelerating_BP_by_Using_NMF_based_methods/blob/master/Keras_Model_for_DNN.ipynb\" target=\"_parent\"><img src=\"https://colab.research.google.com/assets/colab-badge.svg\" alt=\"Open In Colab\"/></a>"
      ]
    },
    {
      "cell_type": "markdown",
      "metadata": {
        "id": "H8TElapdwgzv",
        "colab_type": "text"
      },
      "source": [
        "# BP+NMF_hybrid_Optimization(v2)"
      ]
    },
    {
      "cell_type": "code",
      "metadata": {
        "id": "TQqgWPpRuz_B",
        "colab_type": "code",
        "colab": {
          "base_uri": "https://localhost:8080/",
          "height": 85
        },
        "outputId": "700e7c9f-e125-4988-e772-02ac1c69c556"
      },
      "source": [
        "import warnings\n",
        "warnings.filterwarnings('ignore')\n",
        "\n",
        "## Basic Import ##\n",
        "import numpy as np\n",
        "eps=np.finfo(np.float).eps\n",
        "from numpy import sqrt,zeros,ones,eye,diag,vstack,hstack,array\n",
        "from numpy.linalg import svd,norm,pinv,solve\n",
        "from numpy.random import permutation\n",
        "\n",
        "\n",
        "import pandas as pd\n",
        "import matplotlib.pyplot as plt\n",
        "import seaborn as sns\n",
        "\n",
        "\n",
        "## Tensorflow ## \n",
        "import tensorflow as tf\n",
        "from tensorflow import keras\n",
        "from tensorflow.keras import backend as K\n",
        "\n",
        "from keras.models import Sequential,Model\n",
        "from keras.layers import Input,Dense,Concatenate, Flatten\n",
        "from keras.layers import BatchNormalization,Dropout \n",
        "from keras.layers import Conv2D, MaxPooling2D,MaxPool2D,GlobalAveragePooling2D,AveragePooling2D\n",
        "from keras.layers import ReLU,LeakyReLU\n",
        "\n",
        "from keras.utils import to_categorical \n",
        "from keras.datasets import cifar10\n",
        "from keras.optimizers import Adam,Adamax\n",
        "from keras.callbacks import ModelCheckpoint\n",
        "\n",
        "from keras.preprocessing.image import ImageDataGenerator,load_img,img_to_array # Image Related\n",
        "\n",
        "## sklearn\n",
        "\n",
        "from sklearn.model_selection import train_test_split\n",
        "from sklearn.preprocessing import OneHotEncoder\n",
        "\n",
        "# scipy\n",
        "\n",
        "import scipy\n",
        "import scipy.misc as sm\n",
        "\n",
        "# google colab ##\n",
        "from google.colab import drive,files\n",
        "\n",
        "\n",
        "## Others\n",
        "import os\n",
        "import time\n",
        "from time import time as abtime\n",
        "import copy\n",
        "import itertools\n",
        "#from time import time as abtime\n",
        "import PIL\n",
        "from termcolor import colored\n",
        "from pprint import pprint\n",
        "import importlib as imp\n",
        "\n",
        "print('np.version is '+str(np.__version__))\n",
        "print('pd.version is '+str(pd.__version__))\n",
        "print('tf.version is '+str(tf.__version__))\n",
        "print('keras.version is '+str(keras.__version__))"
      ],
      "execution_count": null,
      "outputs": [
        {
          "output_type": "stream",
          "text": [
            "np.version is 1.18.5\n",
            "pd.version is 1.0.5\n",
            "tf.version is 2.3.0\n",
            "keras.version is 2.4.0\n"
          ],
          "name": "stdout"
        }
      ]
    },
    {
      "cell_type": "markdown",
      "metadata": {
        "id": "W8Dy_ArHveTK",
        "colab_type": "text"
      },
      "source": [
        "### tic & toc\n",
        "\n",
        "matlab-like tic&toc function"
      ]
    },
    {
      "cell_type": "code",
      "metadata": {
        "id": "R1Sf_h4wbWmS",
        "colab_type": "code",
        "colab": {}
      },
      "source": [
        "def tic():\n",
        "    #require to import time\n",
        "    global start_time_tictoc\n",
        "    start_time_tictoc = abtime()\n",
        "\n",
        "def toc():\n",
        "    if \"start_time_tictoc\" not in globals():\n",
        "        print(\"tic has not been called\")\n",
        "    \n",
        "    return abtime()-start_time_tictoc"
      ],
      "execution_count": null,
      "outputs": []
    },
    {
      "cell_type": "markdown",
      "metadata": {
        "id": "oLJeOFnvveUN",
        "colab_type": "text"
      },
      "source": [
        "## Basic Function"
      ]
    },
    {
      "cell_type": "code",
      "metadata": {
        "id": "-fgLv6vVzgan",
        "colab_type": "code",
        "colab": {}
      },
      "source": [
        "def tilde(A):\n",
        "    return vstack([A,ones(A.shape[1])])\n",
        "    \n",
        "def  appl_f(x,Type='relu'):\n",
        "    if Type=='relu':\n",
        "        return np.maximum(0,x)\n",
        "    elif Type=='sigmoid':\n",
        "        return 1/(1+np.exp(-x))\n",
        "def relu(x):\n",
        "    return np.maximum(0,x)"
      ],
      "execution_count": null,
      "outputs": []
    },
    {
      "cell_type": "markdown",
      "metadata": {
        "id": "MrkI2bs6veUq",
        "colab_type": "text"
      },
      "source": [
        "### check_br\n",
        "- itr, tt : iteration and time\n",
        "\n",
        "- X_train,X_test,Y_train,Y_test : Datasets for Check\n",
        "\n",
        "- check_factor: {'basic','hitachi'}\n",
        "\n"
      ]
    },
    {
      "cell_type": "code",
      "metadata": {
        "run_control": {
          "marked": true
        },
        "id": "OG7GgEu1veUq",
        "colab_type": "code",
        "colab": {}
      },
      "source": [
        " def  check_br(itr,tt,X_train,Y_train,X_test,Y_test,WZ,verbose=True):\n",
        "\n",
        "    L=len(WZ)\n",
        "    WZ_tmp = compute_z_br(X_train,WZ); \n",
        "    Z = WZ_tmp[L-1]['Z']\n",
        "\n",
        "    WZ_tmp = compute_z_br(X_test,WZ);\n",
        "    Z_test = WZ_tmp[L-1]['Z'];\n",
        "    \n",
        "        \n",
        "   ## Norm Check ###\n",
        "    RR=error_norm(Y_train,Z,normtype='RRN')\n",
        "    RR_each = list(norm(Y_train-Z,axis=1)/norm(Y_train,axis=1))\n",
        "\n",
        "    RR_test=error_norm(Y_test,Z_test,normtype='RRN')\n",
        "    RR_test_each = list(norm(Y_test-Z_test,axis=1)/norm(Y_test,axis=1) )\n",
        "    \n",
        "    ## Error check ###    \n",
        "    id_Ytrain = np.argmax(Y_train,axis=0);\n",
        "    id_Ztrain = np.argmax(Z,axis=0);\n",
        "    id_Ytest = np.argmax(Y_test,axis=0);\n",
        "    id_Ztest = np.argmax(Z_test,axis=0);\n",
        "    p_train = 100-np.sum(id_Ztrain==id_Ytrain)/len(id_Ytrain)*100;\n",
        "    p_test = 100-np.sum(id_Ztest==id_Ytest)/len(id_Ytest)*100; \n",
        "        \n",
        "#    if check_factor=='basic':\n",
        "    resvec=[itr,tt]+[RR]+[RR_test]+[p_train,p_test]\n",
        "#    elif check_factor=='hitachi':\n",
        "#        resvec = [itr,tt]+[RR]+RR_each+[RR_test]+RR_test_each+[p_train,p_test]\n",
        "    \n",
        "    \n",
        "    \n",
        "    if verbose==True:\n",
        "        if True:\n",
        "            print('{:3.3f}  {:6.3f}  {:12.3f} {:12.3f}  {:12.3f}  {:12.3f} \\n'.format(itr,tt,RR,RR_test,p_train,p_test))\n",
        "  #      elif check_factor=='hitachi':\n",
        "  #          print('{:3.3f}  {:6.3f}  ---☉  [{:6.3f}] {:6.3f}  {:6.3f}  {:6.3f} {:6.3f} ---  ♦︎[{:6.3f}] {:6.3f} {:6.3f}  {:6.3f}  {:6.3f} \\n'.format(itr,tt,RR,*RR_each,RR_test,*RR_test_each));        \n",
        "\n",
        "    return resvec"
      ],
      "execution_count": null,
      "outputs": []
    },
    {
      "cell_type": "markdown",
      "metadata": {
        "id": "jlj1Ws69veTq",
        "colab_type": "text"
      },
      "source": [
        "### error_norm\n",
        "[arg]\n",
        "\n",
        "data :<br>\n",
        "$X =[x_1,x_2,...,x_m]^T$<br>\n",
        "$Y =[y_1,y_2,...,y_m]^T$<br>\n",
        "normtype: the type of norm$\\in( ${'RRN','MSE''})\n",
        "\n",
        "[arg]\n",
        "S: the scaled data"
      ]
    },
    {
      "cell_type": "code",
      "metadata": {
        "id": "YgFB5S_BveTq",
        "colab_type": "code",
        "colab": {}
      },
      "source": [
        "def error_norm(X,Y,normtype='RRN'):\n",
        "    if normtype=='RRN':\n",
        "        err=norm(X-Y,'fro')/norm(X,'fro')\n",
        "    if normtype=='MSE':\n",
        "        err=norm(X-Y,'fro')/X.shape[0]\n",
        "    return err"
      ],
      "execution_count": null,
      "outputs": []
    },
    {
      "cell_type": "markdown",
      "metadata": {
        "id": "5ad7AG91veTd",
        "colab_type": "text"
      },
      "source": [
        "### weight_formatter"
      ]
    },
    {
      "cell_type": "code",
      "metadata": {
        "run_control": {
          "marked": true
        },
        "id": "aZmgYSLSveTd",
        "colab_type": "code",
        "colab": {}
      },
      "source": [
        "def weight_formatter(weights,Type='nmf_shape'):\n",
        "    \n",
        "\n",
        "# Evaluate  the type of input Weights\n",
        "   \n",
        "    if type(weights)==dict: # check wheteher it has WZ shape\n",
        "        input_type='WZ' \n",
        "        \n",
        "    else: \n",
        "        try: # when not it means nmf shape or keras shape\n",
        "            weights[1]# check if it has second value \n",
        "        except: # except means Wb has nmf_shape\n",
        "            input_type='nmf_shape'\n",
        "        else:\n",
        "            if len(weights[1].shape) !=1: # if second elements is vector ( it means bias )\n",
        "                input_type='nmf_shape'\n",
        "            else:\n",
        "                input_type='keras_shape'\n",
        "    \n",
        "    \n",
        "## Formmat the type of Input\n",
        "    new_weights=[]\n",
        "    \n",
        "    # the case of Type =='nmf shape'\n",
        "    if Type=='nmf_shape':\n",
        "        if input_type=='nmf_shape':\n",
        "            new_weights=weights\n",
        "        elif input_type=='keras_shape':\n",
        "            L=int(len(weights)/2)\n",
        "            for i in range(L):\n",
        "                new_weights.append(vstack([weights[2*i],weights[2*i+1]]).T )   # get \n",
        "        elif input_type=='WZ':\n",
        "            L=int(len(weights))\n",
        "            for i in range(L):\n",
        "                new_weights.append(weights[i]['W'] )\n",
        "                \n",
        "    if Type=='WZ':\n",
        "        if input_type=='nmf_shape':\n",
        "            L=int(len(weights))\n",
        "            for i in range(L):\n",
        "                new_weights.append(WZ_object(W=weights[i]) )\n",
        "        elif input_type=='keras_shape':\n",
        "            L=int(len(weights)/2)\n",
        "            for i in range(L):\n",
        "                new_weights.append(WZ_object(W=vstack([weights[2*i],weights[2*i+1]]).T) )\n",
        "        elif input_type=='WZ':\n",
        "            new_weights=weights\n",
        "            \n",
        "    if Type=='keras_shape':\n",
        "        if input_type=='nmf_shape':\n",
        "            new_weights=[]\n",
        "            for l in range (len(weights)):\n",
        "                new_weights.append(weights[l][:,:-1].T)\n",
        "                new_weights.append(weights[l][:,-1])\n",
        "        elif input_type=='WZ':\n",
        "            new_weights=[]\n",
        "            for l in range(len(weights)):\n",
        "                new_weights.append(weights[l].W[:,:-1].T)\n",
        "                new_weights.append(weights[l.W][:,-1])\n",
        "            \n",
        "                \n",
        "    \n",
        "    \n",
        "    return new_weights"
      ],
      "execution_count": null,
      "outputs": []
    },
    {
      "cell_type": "markdown",
      "metadata": {
        "id": "2Qwkxuy4veUN",
        "colab_type": "text"
      },
      "source": [
        "### low_rank_appl"
      ]
    },
    {
      "cell_type": "code",
      "metadata": {
        "run_control": {
          "marked": true
        },
        "id": "p9WduRIqveUN",
        "colab_type": "code",
        "colab": {}
      },
      "source": [
        "def low_rank_appl(A,delta):\n",
        "    U,s,V=np.linalg.svd(A,full_matrices=False)\n",
        "\n",
        "      # get maximum of singular values and normalize it to be 1\n",
        "    k=np.sum(s/s[0]>delta)\n",
        "    Asvd=dict([('U',U[:,0:k]),('S',np.diag(s[0:k])),('V',V[0:k,:].T)])\n",
        "    \n",
        "    return Asvd"
      ],
      "execution_count": null,
      "outputs": []
    },
    {
      "cell_type": "code",
      "metadata": {
        "id": "pVrwyTPAiMRM",
        "colab_type": "code",
        "colab": {
          "base_uri": "https://localhost:8080/",
          "height": 34
        },
        "outputId": "dbed2b20-3da0-456e-af95-4de8b96b89b3"
      },
      "source": [
        "low_rank_appl(np.random.randn(5,5),delta=0.1).keys()"
      ],
      "execution_count": null,
      "outputs": [
        {
          "output_type": "execute_result",
          "data": {
            "text/plain": [
              "dict_keys(['U', 'S', 'V'])"
            ]
          },
          "metadata": {
            "tags": []
          },
          "execution_count": 39
        }
      ]
    },
    {
      "cell_type": "code",
      "metadata": {
        "id": "3oz7VnkgWWYd",
        "colab_type": "code",
        "colab": {}
      },
      "source": [
        "def compute_z_br(X,WZ): # get all activations of FC-Layer\n",
        "    L=len(WZ)\n",
        "    WZ[0]['Z'] = appl_f(WZ[0]['W']@tilde(X));                                            # Forward Prop of Inpur layer\n",
        "\n",
        "    for i in range(1,L-1):                                                                 # Forward Prop of  Middle layer\n",
        "\n",
        "            WZ[i]['Z'] = appl_f(WZ[i]['W']@tilde(WZ[i-1]['Z']));\n",
        "\n",
        "    WZ[L-1]['Z'] = WZ[L-1]['W'] @tilde(WZ[L-2]['Z']);                                   #   Forward Prop of  Output layer\n",
        "\n",
        "    return WZ"
      ],
      "execution_count": null,
      "outputs": []
    },
    {
      "cell_type": "code",
      "metadata": {
        "id": "GA3jl3lUIB6c",
        "colab_type": "code",
        "colab": {}
      },
      "source": [
        "def nmf_br(Type,A,U,V,alpha,beta,iter1,iter2,iter3,delta,act_func='relu'):\n",
        "    \n",
        "    n=V.shape[1];\n",
        "    Va=vstack([V,ones(V.shape[1])]);\n",
        "    IE=ones([n,n])\n",
        "    \n",
        "    \n",
        "    if Type == 'N' :# Normal NMF: min_U,V ||A - U V|| s.t. U, V >= 0\n",
        "    \n",
        "        for i  in range(iter1) :\n",
        "            U_org=U[:,:-1]\n",
        "            \n",
        "            V = V * (U_org.T@A) / ((U_org.T@U)@Va+beta*V+eps)\n",
        "            Va=vstack([V,ones(V.shape[1])])\n",
        "            U = U * (A@Va.T) / (U@(Va@Va.T)+alpha*U+eps)\n",
        "            \n",
        "            \n",
        "            \n",
        "    elif Type == 'S': # Semi-NMF: min_U,V ||A - U V|| s.t. V >= 0\n",
        "    \n",
        "        for i   in range(iter1):\n",
        "            \n",
        "            Vsvd = low_rank_appl(Va,delta)\n",
        "            R=A-U@Va\n",
        "            U = U + (((R @ Vsvd['V']) / diag(Vsvd['S'])) @ Vsvd['U'].T)\n",
        "            ss=diag(Vsvd['S']);ss=ss**2/(alpha+ss**2)\n",
        "    \n",
        "                    \n",
        "                    \n",
        "            U = U@(( Vsvd['U']*ss) @ Vsvd['U'].T);        # U = A / V\n",
        "            UtA = U[:,:-1].T@A;\n",
        "            UtAp = (abs(UtA) + UtA) / 2;\n",
        "            UtAm = (abs(UtA) - UtA) / 2;\n",
        "            UtU =  U[:,:-1].T@U;\n",
        "            UtUp = (abs(UtU) + UtU) / 2;\n",
        "            UtUm = (abs(UtU) - UtU) / 2;\n",
        "\n",
        "            V = V * sqrt( (UtAp + UtUm@Va + beta*V) / (UtAm + UtUp@Va+beta*V + eps) )\n",
        "            Va=vstack([V,ones(V.shape[1])])\n",
        "    elif Type == 'NS': # Nonlinear Semi-NMF: min_U,V ||A - f(U V)|| s.t. V >= 0\n",
        "    \n",
        "        for  i  in range(iter1):\n",
        "            usv = low_rank_appl(Va,delta)\n",
        "            U = non_linear_lsq_br('XA',V,usv,A,U,alpha,iter2,act_func)\n",
        "    \n",
        "            usv = low_rank_appl(U[:,:-1],delta)\n",
        "            V = non_linear_lsq_br('AX',U,usv,A,V,beta,iter3,act_func)\n",
        "            \n",
        "\n",
        "    \n",
        "    return U,V"
      ],
      "execution_count": null,
      "outputs": []
    },
    {
      "cell_type": "code",
      "metadata": {
        "id": "stYBZ8q5UN9Q",
        "colab_type": "code",
        "colab": {}
      },
      "source": [
        "def non_linear_lsq_br(AXorXA,A,Asvd,B,X,lamb,itermax,act_func='relu'):\n",
        "    U = Asvd['U']\n",
        "    S = Asvd['S']\n",
        "    V = Asvd['V']\n",
        "    omega = 1.0\n",
        "        \n",
        "    ##### Normal Mode ######\n",
        "    if AXorXA == 'AX': # min_X || B - f(A X) ||\n",
        "        \n",
        "        Xa = np.vstack([X,ones(X.shape[1])])\n",
        "        usv = low_rank_appl(A[:,:-1].T@A[:,:-1],1e-14);\n",
        "      \n",
        "            \n",
        "        for k in range(itermax):\n",
        "            R = B - appl_f(A@Xa,act_func);\n",
        "            X = X + omega * (V @( (1/diag(S))[:,np.newaxis]* (U.T @ R)));\n",
        "            X = solve((eye(A.shape[1]-1)+lamb*(usv['V'] @ ( (1/diag(usv['S']))[:,np.newaxis]*usv['U'].T))),X) #Regularziation Term\n",
        "            X = relu(X) # non-negative constraint\n",
        "\n",
        "    elif AXorXA == 'XA': # min_X || B - f(X A) ||\n",
        "        Aa=A\n",
        "        for k in range(itermax):\n",
        "            Aa = np.vstack([A,ones(A.shape[1])])\n",
        "            R = B - appl_f(X@Aa,act_func)\n",
        "            X = X + omega * (((R @ V) /np.diag( S)) @ U.T) #    X<- X+ w  R A♱  \n",
        "            ss = diag(S);ss = ss**2/(lamb+ss**2);X = X@((U*ss)@U.T)\n",
        "           \n",
        "                \n",
        "    return X\n",
        "        "
      ],
      "execution_count": null,
      "outputs": []
    },
    {
      "cell_type": "markdown",
      "metadata": {
        "id": "OqSz47aq0fjE",
        "colab_type": "text"
      },
      "source": [
        "## Add Customized Class for keras model\n",
        "\n",
        "\n"
      ]
    },
    {
      "cell_type": "code",
      "metadata": {
        "id": "m1awaD9tvYSI",
        "colab_type": "code",
        "colab": {}
      },
      "source": [
        "####### 1 #######\n",
        "inputs = Input(shape=(784)) # Input\n",
        "####### 2  #######\n",
        "x = Dense(300, activation=\"relu\")(inputs)\n",
        "x = Dense(150, activation=\"relu\")(x)\n",
        "x = Dense(10, activation=\"linear\")(x)\n",
        "\n",
        "####### 3 #######\n",
        "model = Model(inputs, x)"
      ],
      "execution_count": null,
      "outputs": []
    },
    {
      "cell_type": "code",
      "metadata": {
        "id": "iAT0xoTk0TJ_",
        "colab_type": "code",
        "colab": {
          "base_uri": "https://localhost:8080/",
          "height": 362
        },
        "outputId": "44248c42-439a-42e1-bb0b-f51b56d3e27e"
      },
      "source": [
        "class MyModel(Model):\n",
        "########################################\n",
        "    def __init__(self,inputs,outputs):\n",
        "        super(MyModel,self).__init__(inputs,outputs) #\n",
        "        \n",
        "        self.initializer='randn'\n",
        "        self.delta=[0,0]\n",
        "        self.aeitr=[10,5,5]\n",
        "        self.ftitr=[10,1,1]\n",
        "        self.nsnmf=[10,1,1]\n",
        "        self.nmf_batch=[0,500]\n",
        "        self.nmf_lamb=[1e-3,1e-3]\n",
        "\n",
        "        self.optimizer=Adam()\n",
        "        self.bp_epochs=10\n",
        "        self.bp_batch=[50,50]\n",
        "        self.bp_lamb=[1e-3,1e-3]\n",
        "\n",
        "        self.init_time=time.time()\n",
        "        self.cur_epoch=0 # current epoch\n",
        "        self.record=[] # \n",
        "\n",
        "        self.verbose=True\n",
        "        \n",
        "        \n",
        "        self.compile(loss='mean_squared_error',optimizer='adam',metrics='accuracy')\n",
        "        #self.WZ_weights=self.get_WZ_weights()\n",
        "        self.num_dense=self.get_num_denses()\n",
        "\n",
        "\n",
        "        def get_epoch(self,epoch):  \n",
        "            if self.dnn_solver=='nmf':\n",
        "                self.ftitr[0]=epoch\n",
        "            elif self.dnn_solver=='bp':\n",
        "                    self.bp_epochs=epoch\n",
        "    \n",
        "    def reset_record(self):\n",
        "        self.record=[]\n",
        "        self.init_time=time.time()\n",
        "        \n",
        "    def check_record(self,X_train,Y_train,X_test,Y_test,verbose=True): # method for train record\n",
        "        self.cur_epoch+=1\n",
        "        # get losses and errors of Train & Test\n",
        "        trainloss,trainerror=tuple(self.evaluate(X_train,Y_train,verbose=False))\n",
        "        testloss,testerror=tuple(self.evaluate(X_test,Y_test,verbose=False))\n",
        "\n",
        "        self.record.append([self.cur_epoch,time.time()-self.init_time,trainloss,testloss,trainerror,testerror])\n",
        "\n",
        "        if verbose:\n",
        "            print('{:3.3f}  {:6.3f}  {:12.3f} {:12.3f}  {:12.3f}  {:12.3f} \\n'.format(self.cur_epoch,time.time()-self.init_time,trainloss,testloss,trainerror,testerror))\n",
        "\n",
        "    def get_num_denses(self):\n",
        "        num_dense=0\n",
        "        for layertype in map(type,self.layers):\n",
        "          if layertype == Dense:\n",
        "            num_dense+=1\n",
        "        return num_dense\n",
        "#------------------------------#------------------------------#------------------------------#------------------------------\n",
        "    def get_WZ_weights(self):       # method of transform [[W1],[b1],[W2],[b2],,,] like weights  to [{'W':[W1,b1],'Z':Z},....] weights\n",
        "        results=list()\n",
        "        num_dense=self.num_dense                  \n",
        "        weights=self.get_weights()[-2*num_dense:]    # get all kernels(W) and bias(b) of Dense Layer\n",
        "\n",
        "        for i in range(num_dense): # transform weights\n",
        "            results.append({'W':vstack([weights[2*i],weights[2*i+1]]).T,'Z':None})\n",
        "        return results\n",
        "\n",
        "#------------------------------#------------------------------#------------------------------#------------------------------\n",
        "    def get_weights_from_WZ(self):   # method that enables the class set weights from WZ_weights\n",
        "        All_list=list(map(lambda x : [x['W'][:,:-1].T,x['W'][:,-1]],self.WZ_weights))    #connect all W and b\n",
        "        return sum(All_list,[])\n",
        "        \n",
        "\n",
        "##########################################################################################\n",
        "    def fitwith_NMF(self,X_train,Y_train,X_test,Y_test): # NMF Training\n",
        "        #====== Get Default Param=====================\n",
        "        #self.reset_record()\n",
        "        m,nx=X_train.shape\n",
        "        _,ny=Y_train.shape\n",
        "        delta = self.delta; \n",
        "        L=len(self.layers)-1 # the number of weights \"-1 is because of input layer\"\n",
        "        # aeitr = self.aeitr;\n",
        "        ftitr = self.ftitr;\n",
        "        nsnmf = self.nsnmf;\n",
        "        batch = self.nmf_batch; \n",
        "        if (batch[1]=='full'): batch[1]=m;# full\n",
        "        lamb=self.nmf_lamb;\n",
        "        verbose=self.verbose\n",
        "\n",
        "        resvec=list()\n",
        "        X_train,Y_train,X_test,Y_test=X_train.T,Y_train.T,X_test.T,Y_test.T\n",
        "        \n",
        "        WZ=self.WZ_weights\n",
        "        Xusv = low_rank_appl(tilde(X_train),delta[0]) \n",
        "        # ========== NMF-Based Learning =====================\n",
        "        print('Iter          sec           TRN              TSN               TRE              TSE           ',colored( 'NMF','red'),'\\n')\n",
        "        for itr in range(ftitr[0]):\n",
        "            ind = np.reshape(permutation(m),[batch[1],int(m/batch[1])])\n",
        "            for kk in range(int(m/batch[1])):\n",
        "                \n",
        "                \n",
        "                XI = X_train[:,ind[:,kk]]\n",
        "                YI = Y_train[:,ind[:,kk]]\n",
        "\n",
        "                XIusv=copy.deepcopy(Xusv); XIusv['V']=Xusv['V'][ind[:,kk],:] # SVD value of Batch\n",
        "\n",
        "                WZ = compute_z_br(XI,WZ);\n",
        "                WZ[L-1]['W'],WZ[L-2]['Z']= nmf_br('S',YI,WZ[L-1]['W'],WZ[L-2]['Z'],lamb[0],lamb[1],ftitr[1],0,0,0);\n",
        "\n",
        "\n",
        "                for i in range( L-2,0,-1):\n",
        "                    WZ[i]['W'],WZ[i-1]['Z'] = nmf_br('NS',WZ[i]['Z'],WZ[i]['W'],WZ[i-1]['Z'],lamb[0],lamb[1],ftitr[2],nsnmf[0],nsnmf[1],delta[1]);   \n",
        "                WZ[0]['W'] = non_linear_lsq_br('XA',XI,XIusv,WZ[0]['Z'],WZ[0]['W'],lamb[0],nsnmf[0]);\n",
        "            \n",
        "        #============   Check Performance ==========================\n",
        "            self.WZ_weights=WZ\n",
        "            self.set_weights(self.get_weights_from_WZ())\n",
        "            self.check_record(X_train.T,Y_train.T,X_test.T,Y_test.T)\n",
        "            #resvec.append(check_br(stnum[0]+itr+1,stnum[1]+abtime()-t0,X_train,Y_train,X_test,Y_test,WZ,verbose=verbose))\n",
        "\n",
        "            \n",
        "       \n",
        "    def fitwith_BP(self,X_train,Y_train,X_test,Y_test): # NMF Training\n",
        "            #====== Get Default Param=====================\n",
        "            #self.reset_record()\n",
        "            m,nx=X_train.shape\n",
        "            _,ny=Y_train.shape\n",
        "            delta = self.delta; \n",
        "            L=len(self.layers)-1 # the number of weights \"-1 is because of input layer\"\n",
        "            # aeitr = self.aeitr;\n",
        "            ftitr = self.ftitr;\n",
        "            nsnmf = self.nsnmf;\n",
        "            batch = self.bp_batch; \n",
        "            epoch=self.bp_epochs;\n",
        "            lamb=self.nmf_lamb;\n",
        "\n",
        "            for i in range(epoch):\n",
        "                self.fit(X_train,Y_train,batch_size=batch[1],verbose=0)\n",
        "                self.check_record(X_train,Y_train,X_test,Y_test)\n",
        "##########################################################################################\n",
        "#mymodel = MyModel(inputs, x)\n"
      ],
      "execution_count": null,
      "outputs": [
        {
          "output_type": "error",
          "ename": "ValueError",
          "evalue": "ignored",
          "traceback": [
            "\u001b[0;31m---------------------------------------------------------------------------\u001b[0m",
            "\u001b[0;31mValueError\u001b[0m                                Traceback (most recent call last)",
            "\u001b[0;32m<ipython-input-153-19d68d861dbe>\u001b[0m in \u001b[0;36m<module>\u001b[0;34m()\u001b[0m\n\u001b[1;32m    141\u001b[0m                 \u001b[0mself\u001b[0m\u001b[0;34m.\u001b[0m\u001b[0mcheck_record\u001b[0m\u001b[0;34m(\u001b[0m\u001b[0mX_train\u001b[0m\u001b[0;34m,\u001b[0m\u001b[0mY_train\u001b[0m\u001b[0;34m,\u001b[0m\u001b[0mX_test\u001b[0m\u001b[0;34m,\u001b[0m\u001b[0mY_test\u001b[0m\u001b[0;34m)\u001b[0m\u001b[0;34m\u001b[0m\u001b[0;34m\u001b[0m\u001b[0m\n\u001b[1;32m    142\u001b[0m \u001b[0;31m##########################################################################################\u001b[0m\u001b[0;34m\u001b[0m\u001b[0;34m\u001b[0m\u001b[0;34m\u001b[0m\u001b[0m\n\u001b[0;32m--> 143\u001b[0;31m \u001b[0mmymodel\u001b[0m \u001b[0;34m=\u001b[0m \u001b[0mMyModel\u001b[0m\u001b[0;34m(\u001b[0m\u001b[0minputs\u001b[0m\u001b[0;34m,\u001b[0m \u001b[0mx\u001b[0m\u001b[0;34m)\u001b[0m\u001b[0;34m\u001b[0m\u001b[0;34m\u001b[0m\u001b[0m\n\u001b[0m",
            "\u001b[0;32m<ipython-input-153-19d68d861dbe>\u001b[0m in \u001b[0;36m__init__\u001b[0;34m(self, inputs, outputs)\u001b[0m\n\u001b[1;32m      2\u001b[0m \u001b[0;31m########################################\u001b[0m\u001b[0;34m\u001b[0m\u001b[0;34m\u001b[0m\u001b[0;34m\u001b[0m\u001b[0m\n\u001b[1;32m      3\u001b[0m     \u001b[0;32mdef\u001b[0m \u001b[0m__init__\u001b[0m\u001b[0;34m(\u001b[0m\u001b[0mself\u001b[0m\u001b[0;34m,\u001b[0m\u001b[0minputs\u001b[0m\u001b[0;34m,\u001b[0m\u001b[0moutputs\u001b[0m\u001b[0;34m)\u001b[0m\u001b[0;34m:\u001b[0m\u001b[0;34m\u001b[0m\u001b[0;34m\u001b[0m\u001b[0m\n\u001b[0;32m----> 4\u001b[0;31m         \u001b[0msuper\u001b[0m\u001b[0;34m(\u001b[0m\u001b[0mMyModel\u001b[0m\u001b[0;34m,\u001b[0m\u001b[0mself\u001b[0m\u001b[0;34m)\u001b[0m\u001b[0;34m.\u001b[0m\u001b[0m__init__\u001b[0m\u001b[0;34m(\u001b[0m\u001b[0minputs\u001b[0m\u001b[0;34m,\u001b[0m\u001b[0moutputs\u001b[0m\u001b[0;34m)\u001b[0m \u001b[0;31m#\u001b[0m\u001b[0;34m\u001b[0m\u001b[0;34m\u001b[0m\u001b[0m\n\u001b[0m\u001b[1;32m      5\u001b[0m \u001b[0;34m\u001b[0m\u001b[0m\n\u001b[1;32m      6\u001b[0m         \u001b[0mself\u001b[0m\u001b[0;34m.\u001b[0m\u001b[0minitializer\u001b[0m\u001b[0;34m=\u001b[0m\u001b[0;34m'randn'\u001b[0m\u001b[0;34m\u001b[0m\u001b[0;34m\u001b[0m\u001b[0m\n",
            "\u001b[0;32m/usr/local/lib/python3.6/dist-packages/tensorflow/python/training/tracking/base.py\u001b[0m in \u001b[0;36m_method_wrapper\u001b[0;34m(self, *args, **kwargs)\u001b[0m\n\u001b[1;32m    455\u001b[0m     \u001b[0mself\u001b[0m\u001b[0;34m.\u001b[0m\u001b[0m_self_setattr_tracking\u001b[0m \u001b[0;34m=\u001b[0m \u001b[0;32mFalse\u001b[0m  \u001b[0;31m# pylint: disable=protected-access\u001b[0m\u001b[0;34m\u001b[0m\u001b[0;34m\u001b[0m\u001b[0m\n\u001b[1;32m    456\u001b[0m     \u001b[0;32mtry\u001b[0m\u001b[0;34m:\u001b[0m\u001b[0;34m\u001b[0m\u001b[0;34m\u001b[0m\u001b[0m\n\u001b[0;32m--> 457\u001b[0;31m       \u001b[0mresult\u001b[0m \u001b[0;34m=\u001b[0m \u001b[0mmethod\u001b[0m\u001b[0;34m(\u001b[0m\u001b[0mself\u001b[0m\u001b[0;34m,\u001b[0m \u001b[0;34m*\u001b[0m\u001b[0margs\u001b[0m\u001b[0;34m,\u001b[0m \u001b[0;34m**\u001b[0m\u001b[0mkwargs\u001b[0m\u001b[0;34m)\u001b[0m\u001b[0;34m\u001b[0m\u001b[0;34m\u001b[0m\u001b[0m\n\u001b[0m\u001b[1;32m    458\u001b[0m     \u001b[0;32mfinally\u001b[0m\u001b[0;34m:\u001b[0m\u001b[0;34m\u001b[0m\u001b[0;34m\u001b[0m\u001b[0m\n\u001b[1;32m    459\u001b[0m       \u001b[0mself\u001b[0m\u001b[0;34m.\u001b[0m\u001b[0m_self_setattr_tracking\u001b[0m \u001b[0;34m=\u001b[0m \u001b[0mprevious_value\u001b[0m  \u001b[0;31m# pylint: disable=protected-access\u001b[0m\u001b[0;34m\u001b[0m\u001b[0;34m\u001b[0m\u001b[0m\n",
            "\u001b[0;32m/usr/local/lib/python3.6/dist-packages/tensorflow/python/keras/engine/training.py\u001b[0m in \u001b[0;36m__init__\u001b[0;34m(self, *args, **kwargs)\u001b[0m\n\u001b[1;32m    253\u001b[0m         not isinstance(self, functional.Functional)):\n\u001b[1;32m    254\u001b[0m       \u001b[0minject_functional_model_class\u001b[0m\u001b[0;34m(\u001b[0m\u001b[0mself\u001b[0m\u001b[0;34m.\u001b[0m\u001b[0m__class__\u001b[0m\u001b[0;34m)\u001b[0m\u001b[0;34m\u001b[0m\u001b[0;34m\u001b[0m\u001b[0m\n\u001b[0;32m--> 255\u001b[0;31m       \u001b[0mfunctional\u001b[0m\u001b[0;34m.\u001b[0m\u001b[0mFunctional\u001b[0m\u001b[0;34m.\u001b[0m\u001b[0m__init__\u001b[0m\u001b[0;34m(\u001b[0m\u001b[0mself\u001b[0m\u001b[0;34m,\u001b[0m \u001b[0;34m*\u001b[0m\u001b[0margs\u001b[0m\u001b[0;34m,\u001b[0m \u001b[0;34m**\u001b[0m\u001b[0mkwargs\u001b[0m\u001b[0;34m)\u001b[0m\u001b[0;34m\u001b[0m\u001b[0;34m\u001b[0m\u001b[0m\n\u001b[0m\u001b[1;32m    256\u001b[0m       \u001b[0;32mreturn\u001b[0m\u001b[0;34m\u001b[0m\u001b[0;34m\u001b[0m\u001b[0m\n\u001b[1;32m    257\u001b[0m \u001b[0;34m\u001b[0m\u001b[0m\n",
            "\u001b[0;32m/usr/local/lib/python3.6/dist-packages/tensorflow/python/training/tracking/base.py\u001b[0m in \u001b[0;36m_method_wrapper\u001b[0;34m(self, *args, **kwargs)\u001b[0m\n\u001b[1;32m    455\u001b[0m     \u001b[0mself\u001b[0m\u001b[0;34m.\u001b[0m\u001b[0m_self_setattr_tracking\u001b[0m \u001b[0;34m=\u001b[0m \u001b[0;32mFalse\u001b[0m  \u001b[0;31m# pylint: disable=protected-access\u001b[0m\u001b[0;34m\u001b[0m\u001b[0;34m\u001b[0m\u001b[0m\n\u001b[1;32m    456\u001b[0m     \u001b[0;32mtry\u001b[0m\u001b[0;34m:\u001b[0m\u001b[0;34m\u001b[0m\u001b[0;34m\u001b[0m\u001b[0m\n\u001b[0;32m--> 457\u001b[0;31m       \u001b[0mresult\u001b[0m \u001b[0;34m=\u001b[0m \u001b[0mmethod\u001b[0m\u001b[0;34m(\u001b[0m\u001b[0mself\u001b[0m\u001b[0;34m,\u001b[0m \u001b[0;34m*\u001b[0m\u001b[0margs\u001b[0m\u001b[0;34m,\u001b[0m \u001b[0;34m**\u001b[0m\u001b[0mkwargs\u001b[0m\u001b[0;34m)\u001b[0m\u001b[0;34m\u001b[0m\u001b[0;34m\u001b[0m\u001b[0m\n\u001b[0m\u001b[1;32m    458\u001b[0m     \u001b[0;32mfinally\u001b[0m\u001b[0;34m:\u001b[0m\u001b[0;34m\u001b[0m\u001b[0;34m\u001b[0m\u001b[0m\n\u001b[1;32m    459\u001b[0m       \u001b[0mself\u001b[0m\u001b[0;34m.\u001b[0m\u001b[0m_self_setattr_tracking\u001b[0m \u001b[0;34m=\u001b[0m \u001b[0mprevious_value\u001b[0m  \u001b[0;31m# pylint: disable=protected-access\u001b[0m\u001b[0;34m\u001b[0m\u001b[0;34m\u001b[0m\u001b[0m\n",
            "\u001b[0;32m/usr/local/lib/python3.6/dist-packages/tensorflow/python/keras/engine/functional.py\u001b[0m in \u001b[0;36m__init__\u001b[0;34m(self, inputs, outputs, name, trainable)\u001b[0m\n\u001b[1;32m    113\u001b[0m     \u001b[0;31m#     'arguments during initialization. Got an unexpected argument:')\u001b[0m\u001b[0;34m\u001b[0m\u001b[0;34m\u001b[0m\u001b[0;34m\u001b[0m\u001b[0m\n\u001b[1;32m    114\u001b[0m     \u001b[0msuper\u001b[0m\u001b[0;34m(\u001b[0m\u001b[0mFunctional\u001b[0m\u001b[0;34m,\u001b[0m \u001b[0mself\u001b[0m\u001b[0;34m)\u001b[0m\u001b[0;34m.\u001b[0m\u001b[0m__init__\u001b[0m\u001b[0;34m(\u001b[0m\u001b[0mname\u001b[0m\u001b[0;34m=\u001b[0m\u001b[0mname\u001b[0m\u001b[0;34m,\u001b[0m \u001b[0mtrainable\u001b[0m\u001b[0;34m=\u001b[0m\u001b[0mtrainable\u001b[0m\u001b[0;34m)\u001b[0m\u001b[0;34m\u001b[0m\u001b[0;34m\u001b[0m\u001b[0m\n\u001b[0;32m--> 115\u001b[0;31m     \u001b[0mself\u001b[0m\u001b[0;34m.\u001b[0m\u001b[0m_init_graph_network\u001b[0m\u001b[0;34m(\u001b[0m\u001b[0minputs\u001b[0m\u001b[0;34m,\u001b[0m \u001b[0moutputs\u001b[0m\u001b[0;34m)\u001b[0m\u001b[0;34m\u001b[0m\u001b[0;34m\u001b[0m\u001b[0m\n\u001b[0m\u001b[1;32m    116\u001b[0m \u001b[0;34m\u001b[0m\u001b[0m\n\u001b[1;32m    117\u001b[0m   \u001b[0;34m@\u001b[0m\u001b[0mtrackable\u001b[0m\u001b[0;34m.\u001b[0m\u001b[0mno_automatic_dependency_tracking\u001b[0m\u001b[0;34m\u001b[0m\u001b[0;34m\u001b[0m\u001b[0m\n",
            "\u001b[0;32m/usr/local/lib/python3.6/dist-packages/tensorflow/python/training/tracking/base.py\u001b[0m in \u001b[0;36m_method_wrapper\u001b[0;34m(self, *args, **kwargs)\u001b[0m\n\u001b[1;32m    455\u001b[0m     \u001b[0mself\u001b[0m\u001b[0;34m.\u001b[0m\u001b[0m_self_setattr_tracking\u001b[0m \u001b[0;34m=\u001b[0m \u001b[0;32mFalse\u001b[0m  \u001b[0;31m# pylint: disable=protected-access\u001b[0m\u001b[0;34m\u001b[0m\u001b[0;34m\u001b[0m\u001b[0m\n\u001b[1;32m    456\u001b[0m     \u001b[0;32mtry\u001b[0m\u001b[0;34m:\u001b[0m\u001b[0;34m\u001b[0m\u001b[0;34m\u001b[0m\u001b[0m\n\u001b[0;32m--> 457\u001b[0;31m       \u001b[0mresult\u001b[0m \u001b[0;34m=\u001b[0m \u001b[0mmethod\u001b[0m\u001b[0;34m(\u001b[0m\u001b[0mself\u001b[0m\u001b[0;34m,\u001b[0m \u001b[0;34m*\u001b[0m\u001b[0margs\u001b[0m\u001b[0;34m,\u001b[0m \u001b[0;34m**\u001b[0m\u001b[0mkwargs\u001b[0m\u001b[0;34m)\u001b[0m\u001b[0;34m\u001b[0m\u001b[0;34m\u001b[0m\u001b[0m\n\u001b[0m\u001b[1;32m    458\u001b[0m     \u001b[0;32mfinally\u001b[0m\u001b[0;34m:\u001b[0m\u001b[0;34m\u001b[0m\u001b[0;34m\u001b[0m\u001b[0m\n\u001b[1;32m    459\u001b[0m       \u001b[0mself\u001b[0m\u001b[0;34m.\u001b[0m\u001b[0m_self_setattr_tracking\u001b[0m \u001b[0;34m=\u001b[0m \u001b[0mprevious_value\u001b[0m  \u001b[0;31m# pylint: disable=protected-access\u001b[0m\u001b[0;34m\u001b[0m\u001b[0;34m\u001b[0m\u001b[0m\n",
            "\u001b[0;32m/usr/local/lib/python3.6/dist-packages/tensorflow/python/keras/engine/functional.py\u001b[0m in \u001b[0;36m_init_graph_network\u001b[0;34m(self, inputs, outputs)\u001b[0m\n\u001b[1;32m    189\u001b[0m     \u001b[0;31m# Keep track of the network's nodes and layers.\u001b[0m\u001b[0;34m\u001b[0m\u001b[0;34m\u001b[0m\u001b[0;34m\u001b[0m\u001b[0m\n\u001b[1;32m    190\u001b[0m     nodes, nodes_by_depth, layers, _ = _map_graph_network(\n\u001b[0;32m--> 191\u001b[0;31m         self.inputs, self.outputs)\n\u001b[0m\u001b[1;32m    192\u001b[0m     \u001b[0mself\u001b[0m\u001b[0;34m.\u001b[0m\u001b[0m_network_nodes\u001b[0m \u001b[0;34m=\u001b[0m \u001b[0mnodes\u001b[0m\u001b[0;34m\u001b[0m\u001b[0;34m\u001b[0m\u001b[0m\n\u001b[1;32m    193\u001b[0m     \u001b[0mself\u001b[0m\u001b[0;34m.\u001b[0m\u001b[0m_nodes_by_depth\u001b[0m \u001b[0;34m=\u001b[0m \u001b[0mnodes_by_depth\u001b[0m\u001b[0;34m\u001b[0m\u001b[0;34m\u001b[0m\u001b[0m\n",
            "\u001b[0;32m/usr/local/lib/python3.6/dist-packages/tensorflow/python/keras/engine/functional.py\u001b[0m in \u001b[0;36m_map_graph_network\u001b[0;34m(inputs, outputs)\u001b[0m\n\u001b[1;32m    929\u001b[0m                              \u001b[0;34m'The following previous layers '\u001b[0m\u001b[0;34m\u001b[0m\u001b[0;34m\u001b[0m\u001b[0m\n\u001b[1;32m    930\u001b[0m                              \u001b[0;34m'were accessed without issue: '\u001b[0m \u001b[0;34m+\u001b[0m\u001b[0;34m\u001b[0m\u001b[0;34m\u001b[0m\u001b[0m\n\u001b[0;32m--> 931\u001b[0;31m                              str(layers_with_complete_input))\n\u001b[0m\u001b[1;32m    932\u001b[0m         \u001b[0;32mfor\u001b[0m \u001b[0mx\u001b[0m \u001b[0;32min\u001b[0m \u001b[0mnest\u001b[0m\u001b[0;34m.\u001b[0m\u001b[0mflatten\u001b[0m\u001b[0;34m(\u001b[0m\u001b[0mnode\u001b[0m\u001b[0;34m.\u001b[0m\u001b[0moutputs\u001b[0m\u001b[0;34m)\u001b[0m\u001b[0;34m:\u001b[0m\u001b[0;34m\u001b[0m\u001b[0;34m\u001b[0m\u001b[0m\n\u001b[1;32m    933\u001b[0m           \u001b[0mcomputable_tensors\u001b[0m\u001b[0;34m.\u001b[0m\u001b[0madd\u001b[0m\u001b[0;34m(\u001b[0m\u001b[0mid\u001b[0m\u001b[0;34m(\u001b[0m\u001b[0mx\u001b[0m\u001b[0;34m)\u001b[0m\u001b[0;34m)\u001b[0m\u001b[0;34m\u001b[0m\u001b[0;34m\u001b[0m\u001b[0m\n",
            "\u001b[0;31mValueError\u001b[0m: Graph disconnected: cannot obtain value for tensor Tensor(\"input_42:0\", shape=(None, 28, 28, 1), dtype=float32) at layer \"conv2d_116\". The following previous layers were accessed without issue: []"
          ]
        }
      ]
    },
    {
      "cell_type": "code",
      "metadata": {
        "id": "YIbjnEx6Q87E",
        "colab_type": "code",
        "colab": {
          "base_uri": "https://localhost:8080/",
          "height": 34
        },
        "outputId": "da9ecc62-a734-4cff-9402-207ef1a7711e"
      },
      "source": [
        "pprint(mymodel.record)"
      ],
      "execution_count": null,
      "outputs": [
        {
          "output_type": "stream",
          "text": [
            "ListWrapper([])\n"
          ],
          "name": "stdout"
        }
      ]
    },
    {
      "cell_type": "code",
      "metadata": {
        "id": "U5Xcp_6dES8I",
        "colab_type": "code",
        "colab": {}
      },
      "source": [
        "mymodel.compile(optimizer='rmsprop',loss='mse',metrics='mse')"
      ],
      "execution_count": null,
      "outputs": []
    },
    {
      "cell_type": "code",
      "metadata": {
        "id": "bTgdDRx-9VT7",
        "colab_type": "code",
        "colab": {}
      },
      "source": [
        "def my_metric_fn(y_true, y_pred):\n",
        "    return tf.norm(y_true-y_pred)/tf.norm(y_true)  # Note the `axis=-1`\n",
        "\n",
        "model.compile(optimizer='adam', loss='mean_squared_error', metrics=[my_metric_fn])"
      ],
      "execution_count": null,
      "outputs": []
    },
    {
      "cell_type": "code",
      "metadata": {
        "id": "ESwSpITjO1XW",
        "colab_type": "code",
        "colab": {
          "base_uri": "https://localhost:8080/",
          "height": 841
        },
        "outputId": "f724e629-7f97-43d2-f411-aa7746695d87"
      },
      "source": [
        "mymodel.fit(X_train,Y_train,epochs=3)"
      ],
      "execution_count": null,
      "outputs": [
        {
          "output_type": "stream",
          "text": [
            "Epoch 1/3\n",
            "WARNING:tensorflow:Model was constructed with shape (None, 784) for input Tensor(\"input_8:0\", shape=(None, 784), dtype=float32), but it was called on an input with incompatible shape (32, 28, 28, 1).\n"
          ],
          "name": "stdout"
        },
        {
          "output_type": "error",
          "ename": "ValueError",
          "evalue": "ignored",
          "traceback": [
            "\u001b[0;31m---------------------------------------------------------------------------\u001b[0m",
            "\u001b[0;31mValueError\u001b[0m                                Traceback (most recent call last)",
            "\u001b[0;32m<ipython-input-142-113e8665009b>\u001b[0m in \u001b[0;36m<module>\u001b[0;34m()\u001b[0m\n\u001b[0;32m----> 1\u001b[0;31m \u001b[0mmymodel\u001b[0m\u001b[0;34m.\u001b[0m\u001b[0mfit\u001b[0m\u001b[0;34m(\u001b[0m\u001b[0mX_train\u001b[0m\u001b[0;34m,\u001b[0m\u001b[0mY_train\u001b[0m\u001b[0;34m,\u001b[0m\u001b[0mepochs\u001b[0m\u001b[0;34m=\u001b[0m\u001b[0;36m3\u001b[0m\u001b[0;34m)\u001b[0m\u001b[0;34m\u001b[0m\u001b[0;34m\u001b[0m\u001b[0m\n\u001b[0m",
            "\u001b[0;32m/usr/local/lib/python3.6/dist-packages/tensorflow/python/keras/engine/training.py\u001b[0m in \u001b[0;36m_method_wrapper\u001b[0;34m(self, *args, **kwargs)\u001b[0m\n\u001b[1;32m    106\u001b[0m   \u001b[0;32mdef\u001b[0m \u001b[0m_method_wrapper\u001b[0m\u001b[0;34m(\u001b[0m\u001b[0mself\u001b[0m\u001b[0;34m,\u001b[0m \u001b[0;34m*\u001b[0m\u001b[0margs\u001b[0m\u001b[0;34m,\u001b[0m \u001b[0;34m**\u001b[0m\u001b[0mkwargs\u001b[0m\u001b[0;34m)\u001b[0m\u001b[0;34m:\u001b[0m\u001b[0;34m\u001b[0m\u001b[0;34m\u001b[0m\u001b[0m\n\u001b[1;32m    107\u001b[0m     \u001b[0;32mif\u001b[0m \u001b[0;32mnot\u001b[0m \u001b[0mself\u001b[0m\u001b[0;34m.\u001b[0m\u001b[0m_in_multi_worker_mode\u001b[0m\u001b[0;34m(\u001b[0m\u001b[0;34m)\u001b[0m\u001b[0;34m:\u001b[0m  \u001b[0;31m# pylint: disable=protected-access\u001b[0m\u001b[0;34m\u001b[0m\u001b[0;34m\u001b[0m\u001b[0m\n\u001b[0;32m--> 108\u001b[0;31m       \u001b[0;32mreturn\u001b[0m \u001b[0mmethod\u001b[0m\u001b[0;34m(\u001b[0m\u001b[0mself\u001b[0m\u001b[0;34m,\u001b[0m \u001b[0;34m*\u001b[0m\u001b[0margs\u001b[0m\u001b[0;34m,\u001b[0m \u001b[0;34m**\u001b[0m\u001b[0mkwargs\u001b[0m\u001b[0;34m)\u001b[0m\u001b[0;34m\u001b[0m\u001b[0;34m\u001b[0m\u001b[0m\n\u001b[0m\u001b[1;32m    109\u001b[0m \u001b[0;34m\u001b[0m\u001b[0m\n\u001b[1;32m    110\u001b[0m     \u001b[0;31m# Running inside `run_distribute_coordinator` already.\u001b[0m\u001b[0;34m\u001b[0m\u001b[0;34m\u001b[0m\u001b[0;34m\u001b[0m\u001b[0m\n",
            "\u001b[0;32m/usr/local/lib/python3.6/dist-packages/tensorflow/python/keras/engine/training.py\u001b[0m in \u001b[0;36mfit\u001b[0;34m(self, x, y, batch_size, epochs, verbose, callbacks, validation_split, validation_data, shuffle, class_weight, sample_weight, initial_epoch, steps_per_epoch, validation_steps, validation_batch_size, validation_freq, max_queue_size, workers, use_multiprocessing)\u001b[0m\n\u001b[1;32m   1096\u001b[0m                 batch_size=batch_size):\n\u001b[1;32m   1097\u001b[0m               \u001b[0mcallbacks\u001b[0m\u001b[0;34m.\u001b[0m\u001b[0mon_train_batch_begin\u001b[0m\u001b[0;34m(\u001b[0m\u001b[0mstep\u001b[0m\u001b[0;34m)\u001b[0m\u001b[0;34m\u001b[0m\u001b[0;34m\u001b[0m\u001b[0m\n\u001b[0;32m-> 1098\u001b[0;31m               \u001b[0mtmp_logs\u001b[0m \u001b[0;34m=\u001b[0m \u001b[0mtrain_function\u001b[0m\u001b[0;34m(\u001b[0m\u001b[0miterator\u001b[0m\u001b[0;34m)\u001b[0m\u001b[0;34m\u001b[0m\u001b[0;34m\u001b[0m\u001b[0m\n\u001b[0m\u001b[1;32m   1099\u001b[0m               \u001b[0;32mif\u001b[0m \u001b[0mdata_handler\u001b[0m\u001b[0;34m.\u001b[0m\u001b[0mshould_sync\u001b[0m\u001b[0;34m:\u001b[0m\u001b[0;34m\u001b[0m\u001b[0;34m\u001b[0m\u001b[0m\n\u001b[1;32m   1100\u001b[0m                 \u001b[0mcontext\u001b[0m\u001b[0;34m.\u001b[0m\u001b[0masync_wait\u001b[0m\u001b[0;34m(\u001b[0m\u001b[0;34m)\u001b[0m\u001b[0;34m\u001b[0m\u001b[0;34m\u001b[0m\u001b[0m\n",
            "\u001b[0;32m/usr/local/lib/python3.6/dist-packages/tensorflow/python/eager/def_function.py\u001b[0m in \u001b[0;36m__call__\u001b[0;34m(self, *args, **kwds)\u001b[0m\n\u001b[1;32m    778\u001b[0m       \u001b[0;32melse\u001b[0m\u001b[0;34m:\u001b[0m\u001b[0;34m\u001b[0m\u001b[0;34m\u001b[0m\u001b[0m\n\u001b[1;32m    779\u001b[0m         \u001b[0mcompiler\u001b[0m \u001b[0;34m=\u001b[0m \u001b[0;34m\"nonXla\"\u001b[0m\u001b[0;34m\u001b[0m\u001b[0;34m\u001b[0m\u001b[0m\n\u001b[0;32m--> 780\u001b[0;31m         \u001b[0mresult\u001b[0m \u001b[0;34m=\u001b[0m \u001b[0mself\u001b[0m\u001b[0;34m.\u001b[0m\u001b[0m_call\u001b[0m\u001b[0;34m(\u001b[0m\u001b[0;34m*\u001b[0m\u001b[0margs\u001b[0m\u001b[0;34m,\u001b[0m \u001b[0;34m**\u001b[0m\u001b[0mkwds\u001b[0m\u001b[0;34m)\u001b[0m\u001b[0;34m\u001b[0m\u001b[0;34m\u001b[0m\u001b[0m\n\u001b[0m\u001b[1;32m    781\u001b[0m \u001b[0;34m\u001b[0m\u001b[0m\n\u001b[1;32m    782\u001b[0m       \u001b[0mnew_tracing_count\u001b[0m \u001b[0;34m=\u001b[0m \u001b[0mself\u001b[0m\u001b[0;34m.\u001b[0m\u001b[0m_get_tracing_count\u001b[0m\u001b[0;34m(\u001b[0m\u001b[0;34m)\u001b[0m\u001b[0;34m\u001b[0m\u001b[0;34m\u001b[0m\u001b[0m\n",
            "\u001b[0;32m/usr/local/lib/python3.6/dist-packages/tensorflow/python/eager/def_function.py\u001b[0m in \u001b[0;36m_call\u001b[0;34m(self, *args, **kwds)\u001b[0m\n\u001b[1;32m    821\u001b[0m       \u001b[0;31m# This is the first call of __call__, so we have to initialize.\u001b[0m\u001b[0;34m\u001b[0m\u001b[0;34m\u001b[0m\u001b[0;34m\u001b[0m\u001b[0m\n\u001b[1;32m    822\u001b[0m       \u001b[0minitializers\u001b[0m \u001b[0;34m=\u001b[0m \u001b[0;34m[\u001b[0m\u001b[0;34m]\u001b[0m\u001b[0;34m\u001b[0m\u001b[0;34m\u001b[0m\u001b[0m\n\u001b[0;32m--> 823\u001b[0;31m       \u001b[0mself\u001b[0m\u001b[0;34m.\u001b[0m\u001b[0m_initialize\u001b[0m\u001b[0;34m(\u001b[0m\u001b[0margs\u001b[0m\u001b[0;34m,\u001b[0m \u001b[0mkwds\u001b[0m\u001b[0;34m,\u001b[0m \u001b[0madd_initializers_to\u001b[0m\u001b[0;34m=\u001b[0m\u001b[0minitializers\u001b[0m\u001b[0;34m)\u001b[0m\u001b[0;34m\u001b[0m\u001b[0;34m\u001b[0m\u001b[0m\n\u001b[0m\u001b[1;32m    824\u001b[0m     \u001b[0;32mfinally\u001b[0m\u001b[0;34m:\u001b[0m\u001b[0;34m\u001b[0m\u001b[0;34m\u001b[0m\u001b[0m\n\u001b[1;32m    825\u001b[0m       \u001b[0;31m# At this point we know that the initialization is complete (or less\u001b[0m\u001b[0;34m\u001b[0m\u001b[0;34m\u001b[0m\u001b[0;34m\u001b[0m\u001b[0m\n",
            "\u001b[0;32m/usr/local/lib/python3.6/dist-packages/tensorflow/python/eager/def_function.py\u001b[0m in \u001b[0;36m_initialize\u001b[0;34m(self, args, kwds, add_initializers_to)\u001b[0m\n\u001b[1;32m    695\u001b[0m     self._concrete_stateful_fn = (\n\u001b[1;32m    696\u001b[0m         self._stateful_fn._get_concrete_function_internal_garbage_collected(  # pylint: disable=protected-access\n\u001b[0;32m--> 697\u001b[0;31m             *args, **kwds))\n\u001b[0m\u001b[1;32m    698\u001b[0m \u001b[0;34m\u001b[0m\u001b[0m\n\u001b[1;32m    699\u001b[0m     \u001b[0;32mdef\u001b[0m \u001b[0minvalid_creator_scope\u001b[0m\u001b[0;34m(\u001b[0m\u001b[0;34m*\u001b[0m\u001b[0munused_args\u001b[0m\u001b[0;34m,\u001b[0m \u001b[0;34m**\u001b[0m\u001b[0munused_kwds\u001b[0m\u001b[0;34m)\u001b[0m\u001b[0;34m:\u001b[0m\u001b[0;34m\u001b[0m\u001b[0;34m\u001b[0m\u001b[0m\n",
            "\u001b[0;32m/usr/local/lib/python3.6/dist-packages/tensorflow/python/eager/function.py\u001b[0m in \u001b[0;36m_get_concrete_function_internal_garbage_collected\u001b[0;34m(self, *args, **kwargs)\u001b[0m\n\u001b[1;32m   2853\u001b[0m       \u001b[0margs\u001b[0m\u001b[0;34m,\u001b[0m \u001b[0mkwargs\u001b[0m \u001b[0;34m=\u001b[0m \u001b[0;32mNone\u001b[0m\u001b[0;34m,\u001b[0m \u001b[0;32mNone\u001b[0m\u001b[0;34m\u001b[0m\u001b[0;34m\u001b[0m\u001b[0m\n\u001b[1;32m   2854\u001b[0m     \u001b[0;32mwith\u001b[0m \u001b[0mself\u001b[0m\u001b[0;34m.\u001b[0m\u001b[0m_lock\u001b[0m\u001b[0;34m:\u001b[0m\u001b[0;34m\u001b[0m\u001b[0;34m\u001b[0m\u001b[0m\n\u001b[0;32m-> 2855\u001b[0;31m       \u001b[0mgraph_function\u001b[0m\u001b[0;34m,\u001b[0m \u001b[0m_\u001b[0m\u001b[0;34m,\u001b[0m \u001b[0m_\u001b[0m \u001b[0;34m=\u001b[0m \u001b[0mself\u001b[0m\u001b[0;34m.\u001b[0m\u001b[0m_maybe_define_function\u001b[0m\u001b[0;34m(\u001b[0m\u001b[0margs\u001b[0m\u001b[0;34m,\u001b[0m \u001b[0mkwargs\u001b[0m\u001b[0;34m)\u001b[0m\u001b[0;34m\u001b[0m\u001b[0;34m\u001b[0m\u001b[0m\n\u001b[0m\u001b[1;32m   2856\u001b[0m     \u001b[0;32mreturn\u001b[0m \u001b[0mgraph_function\u001b[0m\u001b[0;34m\u001b[0m\u001b[0;34m\u001b[0m\u001b[0m\n\u001b[1;32m   2857\u001b[0m \u001b[0;34m\u001b[0m\u001b[0m\n",
            "\u001b[0;32m/usr/local/lib/python3.6/dist-packages/tensorflow/python/eager/function.py\u001b[0m in \u001b[0;36m_maybe_define_function\u001b[0;34m(self, args, kwargs)\u001b[0m\n\u001b[1;32m   3211\u001b[0m \u001b[0;34m\u001b[0m\u001b[0m\n\u001b[1;32m   3212\u001b[0m       \u001b[0mself\u001b[0m\u001b[0;34m.\u001b[0m\u001b[0m_function_cache\u001b[0m\u001b[0;34m.\u001b[0m\u001b[0mmissed\u001b[0m\u001b[0;34m.\u001b[0m\u001b[0madd\u001b[0m\u001b[0;34m(\u001b[0m\u001b[0mcall_context_key\u001b[0m\u001b[0;34m)\u001b[0m\u001b[0;34m\u001b[0m\u001b[0;34m\u001b[0m\u001b[0m\n\u001b[0;32m-> 3213\u001b[0;31m       \u001b[0mgraph_function\u001b[0m \u001b[0;34m=\u001b[0m \u001b[0mself\u001b[0m\u001b[0;34m.\u001b[0m\u001b[0m_create_graph_function\u001b[0m\u001b[0;34m(\u001b[0m\u001b[0margs\u001b[0m\u001b[0;34m,\u001b[0m \u001b[0mkwargs\u001b[0m\u001b[0;34m)\u001b[0m\u001b[0;34m\u001b[0m\u001b[0;34m\u001b[0m\u001b[0m\n\u001b[0m\u001b[1;32m   3214\u001b[0m       \u001b[0mself\u001b[0m\u001b[0;34m.\u001b[0m\u001b[0m_function_cache\u001b[0m\u001b[0;34m.\u001b[0m\u001b[0mprimary\u001b[0m\u001b[0;34m[\u001b[0m\u001b[0mcache_key\u001b[0m\u001b[0;34m]\u001b[0m \u001b[0;34m=\u001b[0m \u001b[0mgraph_function\u001b[0m\u001b[0;34m\u001b[0m\u001b[0;34m\u001b[0m\u001b[0m\n\u001b[1;32m   3215\u001b[0m       \u001b[0;32mreturn\u001b[0m \u001b[0mgraph_function\u001b[0m\u001b[0;34m,\u001b[0m \u001b[0margs\u001b[0m\u001b[0;34m,\u001b[0m \u001b[0mkwargs\u001b[0m\u001b[0;34m\u001b[0m\u001b[0;34m\u001b[0m\u001b[0m\n",
            "\u001b[0;32m/usr/local/lib/python3.6/dist-packages/tensorflow/python/eager/function.py\u001b[0m in \u001b[0;36m_create_graph_function\u001b[0;34m(self, args, kwargs, override_flat_arg_shapes)\u001b[0m\n\u001b[1;32m   3073\u001b[0m             \u001b[0marg_names\u001b[0m\u001b[0;34m=\u001b[0m\u001b[0marg_names\u001b[0m\u001b[0;34m,\u001b[0m\u001b[0;34m\u001b[0m\u001b[0;34m\u001b[0m\u001b[0m\n\u001b[1;32m   3074\u001b[0m             \u001b[0moverride_flat_arg_shapes\u001b[0m\u001b[0;34m=\u001b[0m\u001b[0moverride_flat_arg_shapes\u001b[0m\u001b[0;34m,\u001b[0m\u001b[0;34m\u001b[0m\u001b[0;34m\u001b[0m\u001b[0m\n\u001b[0;32m-> 3075\u001b[0;31m             capture_by_value=self._capture_by_value),\n\u001b[0m\u001b[1;32m   3076\u001b[0m         \u001b[0mself\u001b[0m\u001b[0;34m.\u001b[0m\u001b[0m_function_attributes\u001b[0m\u001b[0;34m,\u001b[0m\u001b[0;34m\u001b[0m\u001b[0;34m\u001b[0m\u001b[0m\n\u001b[1;32m   3077\u001b[0m         \u001b[0mfunction_spec\u001b[0m\u001b[0;34m=\u001b[0m\u001b[0mself\u001b[0m\u001b[0;34m.\u001b[0m\u001b[0mfunction_spec\u001b[0m\u001b[0;34m,\u001b[0m\u001b[0;34m\u001b[0m\u001b[0;34m\u001b[0m\u001b[0m\n",
            "\u001b[0;32m/usr/local/lib/python3.6/dist-packages/tensorflow/python/framework/func_graph.py\u001b[0m in \u001b[0;36mfunc_graph_from_py_func\u001b[0;34m(name, python_func, args, kwargs, signature, func_graph, autograph, autograph_options, add_control_dependencies, arg_names, op_return_value, collections, capture_by_value, override_flat_arg_shapes)\u001b[0m\n\u001b[1;32m    984\u001b[0m         \u001b[0m_\u001b[0m\u001b[0;34m,\u001b[0m \u001b[0moriginal_func\u001b[0m \u001b[0;34m=\u001b[0m \u001b[0mtf_decorator\u001b[0m\u001b[0;34m.\u001b[0m\u001b[0munwrap\u001b[0m\u001b[0;34m(\u001b[0m\u001b[0mpython_func\u001b[0m\u001b[0;34m)\u001b[0m\u001b[0;34m\u001b[0m\u001b[0;34m\u001b[0m\u001b[0m\n\u001b[1;32m    985\u001b[0m \u001b[0;34m\u001b[0m\u001b[0m\n\u001b[0;32m--> 986\u001b[0;31m       \u001b[0mfunc_outputs\u001b[0m \u001b[0;34m=\u001b[0m \u001b[0mpython_func\u001b[0m\u001b[0;34m(\u001b[0m\u001b[0;34m*\u001b[0m\u001b[0mfunc_args\u001b[0m\u001b[0;34m,\u001b[0m \u001b[0;34m**\u001b[0m\u001b[0mfunc_kwargs\u001b[0m\u001b[0;34m)\u001b[0m\u001b[0;34m\u001b[0m\u001b[0;34m\u001b[0m\u001b[0m\n\u001b[0m\u001b[1;32m    987\u001b[0m \u001b[0;34m\u001b[0m\u001b[0m\n\u001b[1;32m    988\u001b[0m       \u001b[0;31m# invariant: `func_outputs` contains only Tensors, CompositeTensors,\u001b[0m\u001b[0;34m\u001b[0m\u001b[0;34m\u001b[0m\u001b[0;34m\u001b[0m\u001b[0m\n",
            "\u001b[0;32m/usr/local/lib/python3.6/dist-packages/tensorflow/python/eager/def_function.py\u001b[0m in \u001b[0;36mwrapped_fn\u001b[0;34m(*args, **kwds)\u001b[0m\n\u001b[1;32m    598\u001b[0m         \u001b[0;31m# __wrapped__ allows AutoGraph to swap in a converted function. We give\u001b[0m\u001b[0;34m\u001b[0m\u001b[0;34m\u001b[0m\u001b[0;34m\u001b[0m\u001b[0m\n\u001b[1;32m    599\u001b[0m         \u001b[0;31m# the function a weak reference to itself to avoid a reference cycle.\u001b[0m\u001b[0;34m\u001b[0m\u001b[0;34m\u001b[0m\u001b[0;34m\u001b[0m\u001b[0m\n\u001b[0;32m--> 600\u001b[0;31m         \u001b[0;32mreturn\u001b[0m \u001b[0mweak_wrapped_fn\u001b[0m\u001b[0;34m(\u001b[0m\u001b[0;34m)\u001b[0m\u001b[0;34m.\u001b[0m\u001b[0m__wrapped__\u001b[0m\u001b[0;34m(\u001b[0m\u001b[0;34m*\u001b[0m\u001b[0margs\u001b[0m\u001b[0;34m,\u001b[0m \u001b[0;34m**\u001b[0m\u001b[0mkwds\u001b[0m\u001b[0;34m)\u001b[0m\u001b[0;34m\u001b[0m\u001b[0;34m\u001b[0m\u001b[0m\n\u001b[0m\u001b[1;32m    601\u001b[0m     \u001b[0mweak_wrapped_fn\u001b[0m \u001b[0;34m=\u001b[0m \u001b[0mweakref\u001b[0m\u001b[0;34m.\u001b[0m\u001b[0mref\u001b[0m\u001b[0;34m(\u001b[0m\u001b[0mwrapped_fn\u001b[0m\u001b[0;34m)\u001b[0m\u001b[0;34m\u001b[0m\u001b[0;34m\u001b[0m\u001b[0m\n\u001b[1;32m    602\u001b[0m \u001b[0;34m\u001b[0m\u001b[0m\n",
            "\u001b[0;32m/usr/local/lib/python3.6/dist-packages/tensorflow/python/framework/func_graph.py\u001b[0m in \u001b[0;36mwrapper\u001b[0;34m(*args, **kwargs)\u001b[0m\n\u001b[1;32m    971\u001b[0m           \u001b[0;32mexcept\u001b[0m \u001b[0mException\u001b[0m \u001b[0;32mas\u001b[0m \u001b[0me\u001b[0m\u001b[0;34m:\u001b[0m  \u001b[0;31m# pylint:disable=broad-except\u001b[0m\u001b[0;34m\u001b[0m\u001b[0;34m\u001b[0m\u001b[0m\n\u001b[1;32m    972\u001b[0m             \u001b[0;32mif\u001b[0m \u001b[0mhasattr\u001b[0m\u001b[0;34m(\u001b[0m\u001b[0me\u001b[0m\u001b[0;34m,\u001b[0m \u001b[0;34m\"ag_error_metadata\"\u001b[0m\u001b[0;34m)\u001b[0m\u001b[0;34m:\u001b[0m\u001b[0;34m\u001b[0m\u001b[0;34m\u001b[0m\u001b[0m\n\u001b[0;32m--> 973\u001b[0;31m               \u001b[0;32mraise\u001b[0m \u001b[0me\u001b[0m\u001b[0;34m.\u001b[0m\u001b[0mag_error_metadata\u001b[0m\u001b[0;34m.\u001b[0m\u001b[0mto_exception\u001b[0m\u001b[0;34m(\u001b[0m\u001b[0me\u001b[0m\u001b[0;34m)\u001b[0m\u001b[0;34m\u001b[0m\u001b[0;34m\u001b[0m\u001b[0m\n\u001b[0m\u001b[1;32m    974\u001b[0m             \u001b[0;32melse\u001b[0m\u001b[0;34m:\u001b[0m\u001b[0;34m\u001b[0m\u001b[0;34m\u001b[0m\u001b[0m\n\u001b[1;32m    975\u001b[0m               \u001b[0;32mraise\u001b[0m\u001b[0;34m\u001b[0m\u001b[0;34m\u001b[0m\u001b[0m\n",
            "\u001b[0;31mValueError\u001b[0m: in user code:\n\n    /usr/local/lib/python3.6/dist-packages/tensorflow/python/keras/engine/training.py:806 train_function  *\n        return step_function(self, iterator)\n    /usr/local/lib/python3.6/dist-packages/tensorflow/python/keras/engine/training.py:796 step_function  **\n        outputs = model.distribute_strategy.run(run_step, args=(data,))\n    /usr/local/lib/python3.6/dist-packages/tensorflow/python/distribute/distribute_lib.py:1211 run\n        return self._extended.call_for_each_replica(fn, args=args, kwargs=kwargs)\n    /usr/local/lib/python3.6/dist-packages/tensorflow/python/distribute/distribute_lib.py:2585 call_for_each_replica\n        return self._call_for_each_replica(fn, args, kwargs)\n    /usr/local/lib/python3.6/dist-packages/tensorflow/python/distribute/distribute_lib.py:2945 _call_for_each_replica\n        return fn(*args, **kwargs)\n    /usr/local/lib/python3.6/dist-packages/tensorflow/python/keras/engine/training.py:789 run_step  **\n        outputs = model.train_step(data)\n    /usr/local/lib/python3.6/dist-packages/tensorflow/python/keras/engine/training.py:747 train_step\n        y_pred = self(x, training=True)\n    /usr/local/lib/python3.6/dist-packages/tensorflow/python/keras/engine/base_layer.py:985 __call__\n        outputs = call_fn(inputs, *args, **kwargs)\n    /usr/local/lib/python3.6/dist-packages/tensorflow/python/keras/engine/functional.py:386 call  **\n        inputs, training=training, mask=mask)\n    /usr/local/lib/python3.6/dist-packages/tensorflow/python/keras/engine/functional.py:508 _run_internal_graph\n        outputs = node.layer(*args, **kwargs)\n    /usr/local/lib/python3.6/dist-packages/tensorflow/python/keras/engine/base_layer.py:976 __call__\n        self.name)\n    /usr/local/lib/python3.6/dist-packages/tensorflow/python/keras/engine/input_spec.py:216 assert_input_compatibility\n        ' but received input with shape ' + str(shape))\n\n    ValueError: Input 0 of layer dense_13 is incompatible with the layer: expected axis -1 of input shape to have value 784 but received input with shape [32, 28, 28, 1]\n"
          ]
        }
      ]
    },
    {
      "cell_type": "markdown",
      "metadata": {
        "id": "R6MQLrYdiy7y",
        "colab_type": "text"
      },
      "source": [
        "# CNN"
      ]
    },
    {
      "cell_type": "code",
      "metadata": {
        "id": "sHvKc9WxjRzi",
        "colab_type": "code",
        "colab": {}
      },
      "source": [
        "from keras.datasets import mnist\n",
        "(X_train, Y_train), (X_test, Y_test) = mnist.load_data()"
      ],
      "execution_count": null,
      "outputs": []
    },
    {
      "cell_type": "code",
      "metadata": {
        "id": "6l4qh7bcjl9w",
        "colab_type": "code",
        "colab": {}
      },
      "source": [
        "X_train=np.expand_dims(X_train,axis=-1)"
      ],
      "execution_count": null,
      "outputs": []
    },
    {
      "cell_type": "code",
      "metadata": {
        "id": "p6Q5ox_SkLto",
        "colab_type": "code",
        "colab": {}
      },
      "source": [
        "\n",
        "input = Input(shape=(28,28,1)) # you must set 1 \n",
        "activation=ReLU()\n",
        "initializer=keras.initializers.random_normal()\n",
        "\n",
        "x = Conv2D(filters=64,kernel_size=(3,3), activation=activation,padding='same',kernel_initializer=initializer)(input)\n",
        "\n",
        "x = Conv2D(filters=64,kernel_size=(3,3), activation=activation,padding='same',kernel_initializer=initializer)(x)\n",
        "\n",
        "\n",
        "x = Conv2D(filters=32,kernel_size=(3,3), activation=activation,padding='same',kernel_initializer=initializer)(x)\n",
        "\n",
        "x = Conv2D(filters=32,kernel_size=(3,3), activation=activation,padding='same',kernel_initializer=initializer)(x)\n",
        "\n",
        "x = AveragePooling2D()(x)\n",
        "\n",
        "x= Flatten()(x)\n",
        "\n",
        "x= Dense(300)(x)\n",
        "\n",
        "x= Dense(10)(x)\n",
        "\n",
        "model = MyModel(input, x)"
      ],
      "execution_count": null,
      "outputs": []
    },
    {
      "cell_type": "code",
      "metadata": {
        "id": "By-xKaL7ksXH",
        "colab_type": "code",
        "colab": {
          "base_uri": "https://localhost:8080/",
          "height": 459
        },
        "outputId": "b3d02356-66c1-42e3-8470-17b6ef443798"
      },
      "source": [
        "model.get_WZ_weights()"
      ],
      "execution_count": null,
      "outputs": [
        {
          "output_type": "execute_result",
          "data": {
            "text/plain": [
              "[{'W': array([[-0.00203366, -0.02025667,  0.0202229 , ..., -0.01082826,\n",
              "           0.01224338,  0.        ],\n",
              "         [ 0.01361105,  0.02339366,  0.00156727, ..., -0.01318271,\n",
              "          -0.01872476,  0.        ],\n",
              "         [ 0.02019166, -0.01369226, -0.00999068, ...,  0.00746771,\n",
              "           0.02910009,  0.        ],\n",
              "         ...,\n",
              "         [ 0.0174809 , -0.02601299, -0.01999984, ..., -0.01785457,\n",
              "           0.0243574 ,  0.        ],\n",
              "         [ 0.0028744 , -0.01640949,  0.02266458, ...,  0.01145671,\n",
              "          -0.02541656,  0.        ],\n",
              "         [ 0.00770394,  0.02043208,  0.02519836, ...,  0.01589269,\n",
              "           0.01580513,  0.        ]], dtype=float32), 'Z': None},\n",
              " {'W': array([[ 0.00094382,  0.11984356, -0.11812676, ...,  0.02253154,\n",
              "          -0.06001581,  0.        ],\n",
              "         [-0.07394361, -0.10276604,  0.06581879, ...,  0.08337736,\n",
              "           0.05033594,  0.        ],\n",
              "         [-0.12549125,  0.03433639,  0.12487899, ..., -0.04949808,\n",
              "           0.11484776,  0.        ],\n",
              "         ...,\n",
              "         [-0.02591748,  0.04663751,  0.12185173, ...,  0.06106316,\n",
              "          -0.09236839,  0.        ],\n",
              "         [-0.02959873,  0.05709153,  0.0990086 , ...,  0.10470605,\n",
              "          -0.03678132,  0.        ],\n",
              "         [-0.13357124, -0.10949422, -0.03795086, ..., -0.10055999,\n",
              "          -0.13489452,  0.        ]], dtype=float32), 'Z': None}]"
            ]
          },
          "metadata": {
            "tags": []
          },
          "execution_count": 156
        }
      ]
    },
    {
      "cell_type": "code",
      "metadata": {
        "id": "PfWBlD8OoqOe",
        "colab_type": "code",
        "colab": {
          "base_uri": "https://localhost:8080/",
          "height": 34
        },
        "outputId": "8351ead0-d86a-448c-aa66-6e30648b4856"
      },
      "source": [
        "type(model.layers[-1])==Dense"
      ],
      "execution_count": null,
      "outputs": [
        {
          "output_type": "execute_result",
          "data": {
            "text/plain": [
              "True"
            ]
          },
          "metadata": {
            "tags": []
          },
          "execution_count": 125
        }
      ]
    },
    {
      "cell_type": "code",
      "metadata": {
        "id": "lu6J_8BrrNdX",
        "colab_type": "code",
        "colab": {
          "base_uri": "https://localhost:8080/",
          "height": 34
        },
        "outputId": "423fd788-c7de-4697-852b-8ac4dab95b0f"
      },
      "source": [
        "type(model.layers[-3])==Dense"
      ],
      "execution_count": null,
      "outputs": [
        {
          "output_type": "execute_result",
          "data": {
            "text/plain": [
              "False"
            ]
          },
          "metadata": {
            "tags": []
          },
          "execution_count": 122
        }
      ]
    },
    {
      "cell_type": "code",
      "metadata": {
        "id": "2e53iDT8rknf",
        "colab_type": "code",
        "colab": {
          "base_uri": "https://localhost:8080/",
          "height": 34
        },
        "outputId": "a742f531-6fa9-4056-a396-02dd01a6e363"
      },
      "source": [
        "\n",
        "print(num_dense)"
      ],
      "execution_count": null,
      "outputs": [
        {
          "output_type": "stream",
          "text": [
            "2\n"
          ],
          "name": "stdout"
        }
      ]
    },
    {
      "cell_type": "code",
      "metadata": {
        "id": "bEb_z6FZsion",
        "colab_type": "code",
        "colab": {
          "base_uri": "https://localhost:8080/",
          "height": 51
        },
        "outputId": "0bda3d8a-10df-42c1-8736-37f56f399e5b"
      },
      "source": [
        ""
      ],
      "execution_count": null,
      "outputs": [
        {
          "output_type": "stream",
          "text": [
            "<bound method Person.name of <__main__.Person object at 0x7fe34adfa2e8>>\n",
            "park\n"
          ],
          "name": "stdout"
        }
      ]
    },
    {
      "cell_type": "code",
      "metadata": {
        "id": "vpLj1cjiuZam",
        "colab_type": "code",
        "colab": {}
      },
      "source": [
        ""
      ],
      "execution_count": null,
      "outputs": []
    }
  ]
}