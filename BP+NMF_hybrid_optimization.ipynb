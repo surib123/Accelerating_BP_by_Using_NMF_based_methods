{
  "nbformat": 4,
  "nbformat_minor": 0,
  "metadata": {
    "hide_input": false,
    "kernelspec": {
      "display_name": "Python 3",
      "language": "python",
      "name": "python3"
    },
    "language_info": {
      "codemirror_mode": {
        "name": "ipython",
        "version": 3
      },
      "file_extension": ".py",
      "mimetype": "text/x-python",
      "name": "python",
      "nbconvert_exporter": "python",
      "pygments_lexer": "ipython3",
      "version": "3.8.3"
    },
    "toc": {
      "base_numbering": 1,
      "nav_menu": {},
      "number_sections": true,
      "sideBar": true,
      "skip_h1_title": true,
      "title_cell": "BP&NMF_Master(Procedure_Oriented_Programming)",
      "title_sidebar": "Contents",
      "toc_cell": true,
      "toc_position": {
        "height": "1401px",
        "left": "156px",
        "top": "110px",
        "width": "626px"
      },
      "toc_section_display": true,
      "toc_window_display": false
    },
    "varInspector": {
      "cols": {
        "lenName": 16,
        "lenType": 16,
        "lenVar": 40
      },
      "kernels_config": {
        "python": {
          "delete_cmd_postfix": "",
          "delete_cmd_prefix": "del ",
          "library": "var_list.py",
          "varRefreshCmd": "print(var_dic_list())"
        },
        "r": {
          "delete_cmd_postfix": ") ",
          "delete_cmd_prefix": "rm(",
          "library": "var_list.r",
          "varRefreshCmd": "cat(var_dic_list()) "
        }
      },
      "oldHeight": 810.5,
      "position": {
        "height": "40px",
        "left": "-400.016px",
        "right": "20px",
        "top": "493.938px",
        "width": "422.969px"
      },
      "types_to_exclude": [
        "module",
        "function",
        "builtin_function_or_method",
        "instance",
        "_Feature"
      ],
      "varInspector_section_display": "none",
      "window_display": true
    },
    "colab": {
      "name": "BP+NMF_hybrid_optimization.ipynb",
      "provenance": [],
      "collapsed_sections": [
        "RP5ZH61gjMvb",
        "CGR3aaKBjMvg",
        "OF8olvhUjMvi",
        "DNz2rh80jMvj",
        "8eVlTMvRjMvl",
        "cNTA_Gd5jMvp",
        "6x85CmewjMvr",
        "4Z0ZwBbljMvv",
        "HJpLK68fjMvx",
        "VNqdvabcjMv5",
        "Ab0MQe07jMv8",
        "mc7CojjkjMv-",
        "9xSMbsMPjMwD",
        "U5HvB_JljMwF",
        "w-4v0vbCjMwI",
        "dIxCCpxwjMwN",
        "rQHO2HzojMwQ",
        "SQG_BAQijMwS",
        "Xxb4Fe57jMwU",
        "QkUw8QHFjMwX",
        "jgdjWZdSjMwZ",
        "p5QsPZ9zjMwf",
        "-jmLQgDLjMwh",
        "9hWPGXgRjMwi",
        "9wDuOqtCjMwl",
        "UaAA-zg5jMwo",
        "p-zsr1I6jMwt",
        "g1OAxA4RjMwt",
        "FcygGfdVjMw0",
        "x8hYxytejMw2",
        "N7v-q_b_jMw8",
        "tt2zUcVGjMxC",
        "XkYQ4Qi1jMxI",
        "f9zyCmL2jMxN"
      ],
      "toc_visible": true,
      "include_colab_link": true
    }
  },
  "cells": [
    {
      "cell_type": "markdown",
      "metadata": {
        "id": "view-in-github",
        "colab_type": "text"
      },
      "source": [
        "<a href=\"https://colab.research.google.com/github/surib123/Accelerating_BP_by_Using_NMF_based_methods/blob/master/BP%2BNMF_hybrid_optimization.ipynb\" target=\"_parent\"><img src=\"https://colab.research.google.com/assets/colab-badge.svg\" alt=\"Open In Colab\"/></a>"
      ]
    },
    {
      "cell_type": "markdown",
      "metadata": {
        "toc": true,
        "id": "rArv49wJjMuY",
        "colab_type": "text"
      },
      "source": [
        "<h1>BP&amp;NMF_Master(Procedure_Oriented_Programming)<span class=\"tocSkip\"></span></h1>\n",
        "<div class=\"toc\"><ul class=\"toc-item\"><li><span><a href=\"#import-module\" data-toc-modified-id=\"import-module-1\"><span class=\"toc-item-num\">1&nbsp;&nbsp;</span>import module</a></span></li><li><span><a href=\"#Objects\" data-toc-modified-id=\"Objects-2\"><span class=\"toc-item-num\">2&nbsp;&nbsp;</span>Objects</a></span><ul class=\"toc-item\"><li><span><a href=\"#USV-object\" data-toc-modified-id=\"USV-object-2.1\"><span class=\"toc-item-num\">2.1&nbsp;&nbsp;</span>USV object</a></span></li><li><span><a href=\"#nn_param():\" data-toc-modified-id=\"nn_param():-2.2\"><span class=\"toc-item-num\">2.2&nbsp;&nbsp;</span>nn_param():</a></span></li><li><span><a href=\"#WZ-object\" data-toc-modified-id=\"WZ-object-2.3\"><span class=\"toc-item-num\">2.3&nbsp;&nbsp;</span>WZ object</a></span></li></ul></li><li><span><a href=\"#Util_Function\" data-toc-modified-id=\"Util_Function-3\"><span class=\"toc-item-num\">3&nbsp;&nbsp;</span>Util_Function</a></span><ul class=\"toc-item\"><li><span><a href=\"#tic-&amp;-toc\" data-toc-modified-id=\"tic-&amp;-toc-3.1\"><span class=\"toc-item-num\">3.1&nbsp;&nbsp;</span>tic &amp; toc</a></span></li><li><span><a href=\"#tilde\" data-toc-modified-id=\"tilde-3.2\"><span class=\"toc-item-num\">3.2&nbsp;&nbsp;</span>tilde</a></span></li><li><span><a href=\"#prealloc_WZ_list\" data-toc-modified-id=\"prealloc_WZ_list-3.3\"><span class=\"toc-item-num\">3.3&nbsp;&nbsp;</span>prealloc_WZ_list</a></span></li><li><span><a href=\"#weight_formatter\" data-toc-modified-id=\"weight_formatter-3.4\"><span class=\"toc-item-num\">3.4&nbsp;&nbsp;</span>weight_formatter</a></span></li><li><span><a href=\"#get_data\" data-toc-modified-id=\"get_data-3.5\"><span class=\"toc-item-num\">3.5&nbsp;&nbsp;</span>get_data</a></span></li><li><span><a href=\"#error_norm\" data-toc-modified-id=\"error_norm-3.6\"><span class=\"toc-item-num\">3.6&nbsp;&nbsp;</span>error_norm</a></span></li><li><span><a href=\"#scaling\" data-toc-modified-id=\"scaling-3.7\"><span class=\"toc-item-num\">3.7&nbsp;&nbsp;</span>scaling</a></span></li><li><span><a href=\"#data_info\" data-toc-modified-id=\"data_info-3.8\"><span class=\"toc-item-num\">3.8&nbsp;&nbsp;</span>data_info</a></span></li><li><span><a href=\"#convert_to_df\" data-toc-modified-id=\"convert_to_df-3.9\"><span class=\"toc-item-num\">3.9&nbsp;&nbsp;</span>convert_to_df</a></span></li><li><span><a href=\"#random_initializer\" data-toc-modified-id=\"random_initializer-3.10\"><span class=\"toc-item-num\">3.10&nbsp;&nbsp;</span>random_initializer</a></span></li><li><span><a href=\"#set_random_seed\" data-toc-modified-id=\"set_random_seed-3.11\"><span class=\"toc-item-num\">3.11&nbsp;&nbsp;</span>set_random_seed</a></span></li><li><span><a href=\"#find_girigiri\" data-toc-modified-id=\"find_girigiri-3.12\"><span class=\"toc-item-num\">3.12&nbsp;&nbsp;</span>find_girigiri</a></span></li></ul></li><li><span><a href=\"#Pandas-functions\" data-toc-modified-id=\"Pandas-functions-4\"><span class=\"toc-item-num\">4&nbsp;&nbsp;</span>Pandas functions</a></span><ul class=\"toc-item\"><li><span><a href=\"#convert_to_df\" data-toc-modified-id=\"convert_to_df-4.1\"><span class=\"toc-item-num\">4.1&nbsp;&nbsp;</span>convert_to_df</a></span></li><li><span><a href=\"#draw_df_graph\" data-toc-modified-id=\"draw_df_graph-4.2\"><span class=\"toc-item-num\">4.2&nbsp;&nbsp;</span>draw_df_graph</a></span></li><li><span><a href=\"#get_param_from_df\" data-toc-modified-id=\"get_param_from_df-4.3\"><span class=\"toc-item-num\">4.3&nbsp;&nbsp;</span>get_param_from_df</a></span></li></ul></li><li><span><a href=\"#Basic-Function\" data-toc-modified-id=\"Basic-Function-5\"><span class=\"toc-item-num\">5&nbsp;&nbsp;</span>Basic Function</a></span><ul class=\"toc-item\"><li><span><a href=\"#low_rank_appl\" data-toc-modified-id=\"low_rank_appl-5.1\"><span class=\"toc-item-num\">5.1&nbsp;&nbsp;</span>low_rank_appl</a></span></li><li><span><a href=\"#appl_f-(activation-function)\" data-toc-modified-id=\"appl_f-(activation-function)-5.2\"><span class=\"toc-item-num\">5.2&nbsp;&nbsp;</span>appl_f (activation function)</a></span></li><li><span><a href=\"#get_sequential_model\" data-toc-modified-id=\"get_sequential_model-5.3\"><span class=\"toc-item-num\">5.3&nbsp;&nbsp;</span>get_sequential_model</a></span></li></ul></li><li><span><a href=\"#NMF-Optimization-function\" data-toc-modified-id=\"NMF-Optimization-function-6\"><span class=\"toc-item-num\">6&nbsp;&nbsp;</span>NMF Optimization function</a></span><ul class=\"toc-item\"><li><span><a href=\"#non_linear_lsq\" data-toc-modified-id=\"non_linear_lsq-6.1\"><span class=\"toc-item-num\">6.1&nbsp;&nbsp;</span>non_linear_lsq</a></span></li><li><span><a href=\"#nmf_br\" data-toc-modified-id=\"nmf_br-6.2\"><span class=\"toc-item-num\">6.2&nbsp;&nbsp;</span>nmf_br</a></span></li><li><span><a href=\"#autoencoder_br\" data-toc-modified-id=\"autoencoder_br-6.3\"><span class=\"toc-item-num\">6.3&nbsp;&nbsp;</span>autoencoder_br</a></span></li><li><span><a href=\"#compute_z_br\" data-toc-modified-id=\"compute_z_br-6.4\"><span class=\"toc-item-num\">6.4&nbsp;&nbsp;</span>compute_z_br</a></span></li><li><span><a href=\"#predict_br\" data-toc-modified-id=\"predict_br-6.5\"><span class=\"toc-item-num\">6.5&nbsp;&nbsp;</span>predict_br</a></span></li><li><span><a href=\"#check_br\" data-toc-modified-id=\"check_br-6.6\"><span class=\"toc-item-num\">6.6&nbsp;&nbsp;</span>check_br</a></span></li><li><span><a href=\"#check_future_nmf\" data-toc-modified-id=\"check_future_nmf-6.7\"><span class=\"toc-item-num\">6.7&nbsp;&nbsp;</span>check_future_nmf</a></span></li><li><span><a href=\"#stacked_autoencoder\" data-toc-modified-id=\"stacked_autoencoder-6.8\"><span class=\"toc-item-num\">6.8&nbsp;&nbsp;</span>stacked_autoencoder</a></span></li><li><span><a href=\"#deep_nmf_br\" data-toc-modified-id=\"deep_nmf_br-6.9\"><span class=\"toc-item-num\">6.9&nbsp;&nbsp;</span>deep_nmf_br</a></span></li><li><span><a href=\"#deep_bp_br\" data-toc-modified-id=\"deep_bp_br-6.10\"><span class=\"toc-item-num\">6.10&nbsp;&nbsp;</span>deep_bp_br</a></span></li><li><span><a href=\"#switch_br\" data-toc-modified-id=\"switch_br-6.11\"><span class=\"toc-item-num\">6.11&nbsp;&nbsp;</span>switch_br</a></span></li><li><span><a href=\"#bpn1_br\" data-toc-modified-id=\"bpn1_br-6.12\"><span class=\"toc-item-num\">6.12&nbsp;&nbsp;</span>bpn1_br</a></span></li><li><span><a href=\"#deep_nn_br\" data-toc-modified-id=\"deep_nn_br-6.13\"><span class=\"toc-item-num\">6.13&nbsp;&nbsp;</span>deep_nn_br</a></span></li><li><span><a href=\"#test-parameter\" data-toc-modified-id=\"test-parameter-6.14\"><span class=\"toc-item-num\">6.14&nbsp;&nbsp;</span>test parameter</a></span></li></ul></li><li><span><a href=\"#set_default-parameter\" data-toc-modified-id=\"set_default-parameter-7\"><span class=\"toc-item-num\">7&nbsp;&nbsp;</span>set_default parameter</a></span><ul class=\"toc-item\"><li><span><a href=\"#DataFrame-for-store-parameters\" data-toc-modified-id=\"DataFrame-for-store-parameters-7.1\"><span class=\"toc-item-num\">7.1&nbsp;&nbsp;</span>DataFrame for store parameters</a></span></li><li><span><a href=\"#get_param_from_df\" data-toc-modified-id=\"get_param_from_df-7.2\"><span class=\"toc-item-num\">7.2&nbsp;&nbsp;</span>get_param_from_df</a></span></li></ul></li><li><span><a href=\"#Performace-Evaluation\" data-toc-modified-id=\"Performace-Evaluation-8\"><span class=\"toc-item-num\">8&nbsp;&nbsp;</span>Performace Evaluation</a></span><ul class=\"toc-item\"><li><span><a href=\"#load-data\" data-toc-modified-id=\"load-data-8.1\"><span class=\"toc-item-num\">8.1&nbsp;&nbsp;</span>load data</a></span></li><li><span><a href=\"#test-1:-BP-&amp;-NMF-&amp;-Switch\" data-toc-modified-id=\"test-1:-BP-&amp;-NMF-&amp;-Switch-8.2\"><span class=\"toc-item-num\">8.2&nbsp;&nbsp;</span>test 1: BP &amp; NMF &amp; Switch</a></span></li><li><span><a href=\"#test-2:-BP--&amp;-BP+N1-(-every-epoch)\" data-toc-modified-id=\"test-2:-BP--&amp;-BP+N1-(-every-epoch)-8.3\"><span class=\"toc-item-num\">8.3&nbsp;&nbsp;</span>test 2: BP  &amp; BP+N1 ( every epoch)</a></span></li><li><span><a href=\"#test-3:-BP-&amp;-BP+N1-for-time-check(-eval_term==10)\" data-toc-modified-id=\"test-3:-BP-&amp;-BP+N1-for-time-check(-eval_term==10)-8.4\"><span class=\"toc-item-num\">8.4&nbsp;&nbsp;</span>test 3: BP &amp; BP+N1 for time check( eval_term==10)</a></span></li><li><span><a href=\"#MyGraph\" data-toc-modified-id=\"MyGraph-8.5\"><span class=\"toc-item-num\">8.5&nbsp;&nbsp;</span>MyGraph</a></span></li></ul></li></ul></div>"
      ]
    },
    {
      "cell_type": "markdown",
      "metadata": {
        "id": "hCUFOhEDjMuY",
        "colab_type": "text"
      },
      "source": [
        "## import module"
      ]
    },
    {
      "cell_type": "code",
      "metadata": {
        "hide_input": true,
        "run_control": {
          "marked": true
        },
        "id": "0OAto2dWjMuZ",
        "colab_type": "code",
        "colab": {
          "base_uri": "https://localhost:8080/",
          "height": 68
        },
        "outputId": "3bedb0a4-b6ed-47e0-8f81-794944c699ae"
      },
      "source": [
        "import warnings \n",
        "warnings.filterwarnings('ignore')#  igonore warnings\n",
        "\n",
        "import numpy as np\n",
        "import multiprocessing as mp\n",
        "from numpy import sqrt,zeros,ones,eye,diag,vstack,hstack,array\n",
        "from numpy.linalg import svd,norm,pinv,solve\n",
        "from numpy.random import permutation\n",
        "eps=np.finfo(np.float32).eps\n",
        "\n",
        "import pandas as pd\n",
        "\n",
        "import tensorflow as tf\n",
        "import tensorflow.keras as K\n",
        "from tensorflow.keras.models import Sequential\n",
        "from tensorflow.keras.layers import Dense, Embedding,Input\n",
        "from tensorflow.keras.optimizers import Adam\n",
        "from tensorflow.keras.datasets import mnist,cifar10\n",
        "from tensorflow.keras.utils import to_categorical\n",
        "from tensorflow.keras.regularizers import l2\n",
        "\n",
        "import sklearn\n",
        "from sklearn.model_selection import train_test_split\n",
        "from sklearn.preprocessing import MinMaxScaler\n",
        "from sklearn import datasets\n",
        "import jax.numpy as jnp\n",
        "\n",
        "import matplotlib as mpl\n",
        "import matplotlib.pyplot as plt\n",
        "\n",
        "import random\n",
        "import scipy.io as sio\n",
        "import copy\n",
        "import os\n",
        "import itertools\n",
        "\n",
        "\n",
        "from termcolor import colored\n",
        "from pprint import pprint\n",
        "from time import time as abtime\n",
        "import IPython\n",
        "\n",
        "from google.colab import drive,files\n",
        "#eps=np.finfo(np.float).eps\n",
        "import importlib as imp\n",
        "print('np.version is '+str(np.__version__))\n",
        "print('tf.version is '+str(tf.__version__))\n",
        "print('keras.version is '+str(K.__version__))\n"
      ],
      "execution_count": 119,
      "outputs": [
        {
          "output_type": "stream",
          "text": [
            "np.version is 1.18.5\n",
            "tf.version is 2.3.0\n",
            "keras.version is 2.4.0\n"
          ],
          "name": "stdout"
        }
      ]
    },
    {
      "cell_type": "code",
      "metadata": {
        "id": "LmjRu_6DkVK8",
        "colab_type": "code",
        "colab": {
          "base_uri": "https://localhost:8080/",
          "height": 102
        },
        "outputId": "c7513da8-7dc2-4dc7-e905-5a4f74c6632e"
      },
      "source": [
        "\n",
        "g_mount_path='/content/drive' # set mounting path \n",
        "drive.mount(g_mount_path) # do mounting\n",
        "gdrive_path=g_mount_path+'/My Drive' # set gdrive path\n",
        "os.chdir(gdrive_path+'/Colab Notebooks') # change current directory\n",
        "%ls"
      ],
      "execution_count": 120,
      "outputs": [
        {
          "output_type": "stream",
          "text": [
            "Drive already mounted at /content/drive; to attempt to forcibly remount, call drive.mount(\"/content/drive\", force_remount=True).\n",
            " Command_Notebook.ipynb   \u001b[0m\u001b[01;34mDeepLearning\u001b[0m/                    \u001b[01;34mMyResearch\u001b[0m/\n",
            " \u001b[01;34mCompetition\u001b[0m/             \u001b[01;34mexecutive_processing\u001b[0m/            mysubmission.csv\n",
            " \u001b[01;34mCoursera-Material\u001b[0m/      'How to Use Google_Colab.ipynb'   \u001b[01;34mPython\u001b[0m/\n",
            " \u001b[01;34mdataset\u001b[0m/                 model.png                        snippets_notebook\n"
          ],
          "name": "stdout"
        }
      ]
    },
    {
      "cell_type": "markdown",
      "metadata": {
        "id": "N8y2QuVOjMum",
        "colab_type": "text"
      },
      "source": [
        "## Objects"
      ]
    },
    {
      "cell_type": "markdown",
      "metadata": {
        "id": "4N_3-yNyjMum",
        "colab_type": "text"
      },
      "source": [
        "### USV object"
      ]
    },
    {
      "cell_type": "code",
      "metadata": {
        "run_control": {
          "marked": true
        },
        "id": "37Mpe3mEjMun",
        "colab_type": "code",
        "colab": {}
      },
      "source": [
        "class USV():\n",
        "    def __init__ (self,U,S,V):\n",
        "        self.U=U\n",
        "        self.S=S\n",
        "        self.V=V\n",
        "        "
      ],
      "execution_count": 121,
      "outputs": []
    },
    {
      "cell_type": "markdown",
      "metadata": {
        "id": "5OWEsEnIjMup",
        "colab_type": "text"
      },
      "source": [
        "### nn_param():"
      ]
    },
    {
      "cell_type": "code",
      "metadata": {
        "run_control": {
          "marked": true
        },
        "id": "nXFXsU1DjMuq",
        "colab_type": "code",
        "colab": {}
      },
      "source": [
        "class nn_param():\n",
        "    def __init__ (self): # Advanced Param\n",
        "       \n",
        "      ## Layer Structure ##\n",
        "        self.hidden=[500]\n",
        "        self.use_bias=True\n",
        "        self.output_act=None\n",
        "   \n",
        "        ##  Optimization Param\n",
        "        self.initializer='randn'\n",
        "        self.dnn_solver=None # in {'nmf ','bp'}\n",
        "        self.init_weights=None\n",
        "        \n",
        "        \n",
        "        ## NMF param ##\n",
        "        self.delta=[0,0]\n",
        "        self.aeitr=[10,5,5]\n",
        "        self.ftitr=[10,1,1]\n",
        "        self.nsnmf=[10,1,1]\n",
        "        self.nmf_batch=[0,500]\n",
        "        self.nmf_lamb=[1e-3,1e-3]\n",
        "        \n",
        "        ## BP param ## \n",
        "        self.bp_epochs=10\n",
        "        self.bp_batch=[50,50]\n",
        "        self.bp_lamb=[1e-3,1e-3]\n",
        "        self.bp_optimizer='adam'\n",
        "        \n",
        "        \n",
        "         ### Swith param ###\n",
        "        self.switch_starter='bp'\n",
        "        self.switch_epochs=[10,5]\n",
        "        2\n",
        "        \n",
        "        \n",
        "        ## Peformance Measure param\n",
        "        self.check_factor='basic'\n",
        "        self.stnum=[0,0] # the number of initial [epoch, time]\n",
        "        self.check_mode='one_hot'\n",
        "        self.verbose=True\n",
        "        ## Advanced_param\n",
        "        self.finetuner=None # fine tuner for nmf finetuning [alpha,beta,Type (in {None,'momentum'}) ]\n",
        "        self.eval_term=5 # validation term\n",
        "        self.stop_crit=0 # stopping criterion\n",
        "        \n",
        "       \n",
        "        \n",
        "    def convert_solver(self): #  convert nmf to adam (or reverse)\n",
        "        if self.dnn_solver=='bp':\n",
        "            self.dnn_solver='nmf'\n",
        "        elif self.dnn_solver=='nmf':\n",
        "            self.dnn_solver='bp'\n",
        "        \n",
        "    def get_epoch(self,epoch): # get epoch \n",
        "        if self.dnn_solver=='nmf':\n",
        "            self.ftitr[0]=epoch\n",
        "        elif self.dnn_solver=='bp':\n",
        "            self.bp_epochs=epoch\n",
        "            \n",
        "    def reset_record(self):\n",
        "        self.stnum=[0,0]\n",
        "       "
      ],
      "execution_count": 122,
      "outputs": []
    },
    {
      "cell_type": "markdown",
      "metadata": {
        "id": "_in4A-x4jMus",
        "colab_type": "text"
      },
      "source": [
        "---- test of nn_param object ---"
      ]
    },
    {
      "cell_type": "markdown",
      "metadata": {
        "id": "UlQL6UkqjMus",
        "colab_type": "text"
      },
      "source": [
        "### WZ object"
      ]
    },
    {
      "cell_type": "code",
      "metadata": {
        "run_control": {
          "marked": true
        },
        "id": "0Ky_8AhEjMus",
        "colab_type": "code",
        "colab": {}
      },
      "source": [
        "class WZ_object():\n",
        "    def __init__ (self,W=None,Z=None):\n",
        "        self.W=W\n",
        "        self.Z=Z"
      ],
      "execution_count": 123,
      "outputs": []
    },
    {
      "cell_type": "code",
      "metadata": {
        "run_control": {
          "marked": true
        },
        "id": "4QWb3YcjjMuv",
        "colab_type": "code",
        "colab": {
          "base_uri": "https://localhost:8080/",
          "height": 34
        },
        "outputId": "c5563f09-a6d5-4371-ae1b-5248ea623674"
      },
      "source": [
        "WZ=WZ_object()\n",
        "type(WZ)==WZ_object"
      ],
      "execution_count": 124,
      "outputs": [
        {
          "output_type": "execute_result",
          "data": {
            "text/plain": [
              "True"
            ]
          },
          "metadata": {
            "tags": []
          },
          "execution_count": 124
        }
      ]
    },
    {
      "cell_type": "markdown",
      "metadata": {
        "id": "5Y_dSmoHjMuw",
        "colab_type": "text"
      },
      "source": [
        "## Util_Function"
      ]
    },
    {
      "cell_type": "markdown",
      "metadata": {
        "id": "awSwY1NyjMux",
        "colab_type": "text"
      },
      "source": [
        "### tic & toc\n",
        "\n",
        "matlab-like tic&toc function"
      ]
    },
    {
      "cell_type": "code",
      "metadata": {
        "run_control": {
          "marked": true
        },
        "id": "wwx6doa4jMux",
        "colab_type": "code",
        "colab": {}
      },
      "source": [
        "import time\n",
        "\n",
        "def tic():\n",
        "    #require to import time\n",
        "    global start_time_tictoc\n",
        "    start_time_tictoc = abtime()\n",
        "\n",
        "\n",
        "def toc():\n",
        "    if \"start_time_tictoc\" not in globals():\n",
        "        print(\"tic has not been called\")\n",
        "    \n",
        "    return abtime()-start_time_tictoc"
      ],
      "execution_count": 125,
      "outputs": []
    },
    {
      "cell_type": "markdown",
      "metadata": {
        "id": "mxgC3A8sjMuz",
        "colab_type": "text"
      },
      "source": [
        "### tilde"
      ]
    },
    {
      "cell_type": "code",
      "metadata": {
        "run_control": {
          "marked": true
        },
        "id": "iSsXdgkgjMuz",
        "colab_type": "code",
        "colab": {}
      },
      "source": [
        "def tilde(A):\n",
        "    return vstack([A,ones(A.shape[1])])"
      ],
      "execution_count": 126,
      "outputs": []
    },
    {
      "cell_type": "code",
      "metadata": {
        "run_control": {
          "marked": true
        },
        "id": "2YsATF0ejMu2",
        "colab_type": "code",
        "colab": {
          "base_uri": "https://localhost:8080/",
          "height": 34
        },
        "outputId": "3b3c9dae-68ec-4515-fd2e-4029e1c54cfc"
      },
      "source": [
        "A=np.random.randn(3,4)\n",
        "type(A)==np.ndarray"
      ],
      "execution_count": 127,
      "outputs": [
        {
          "output_type": "execute_result",
          "data": {
            "text/plain": [
              "True"
            ]
          },
          "metadata": {
            "tags": []
          },
          "execution_count": 127
        }
      ]
    },
    {
      "cell_type": "markdown",
      "metadata": {
        "id": "L0NM4nhnjMu4",
        "colab_type": "text"
      },
      "source": [
        "### prealloc_WZ_list\n",
        "\n",
        "[arg] \n",
        "\n",
        "- L: (int) the length of list\n"
      ]
    },
    {
      "cell_type": "code",
      "metadata": {
        "run_control": {
          "marked": true
        },
        "id": "y2J0rTP0jMu4",
        "colab_type": "code",
        "colab": {
          "base_uri": "https://localhost:8080/",
          "height": 34
        },
        "outputId": "57065ac8-cd0e-4244-844b-7bb6dead94c2"
      },
      "source": [
        "def prealloc_WZ_list(L):\n",
        "    WZ_list=[]\n",
        "    for i in range(L):\n",
        "        WZ_list.append(WZ_object())\n",
        "    return WZ_list\n",
        "##### Test #########\n",
        "\n",
        "WZ_list=prealloc_WZ_list(4)\n",
        "\n",
        "print('the type of fist element is {}'.format(type(WZ_list[1])))"
      ],
      "execution_count": 128,
      "outputs": [
        {
          "output_type": "stream",
          "text": [
            "the type of fist element is <class '__main__.WZ_object'>\n"
          ],
          "name": "stdout"
        }
      ]
    },
    {
      "cell_type": "markdown",
      "metadata": {
        "id": "lClEm4-kjMu8",
        "colab_type": "text"
      },
      "source": [
        "### weight_formatter"
      ]
    },
    {
      "cell_type": "code",
      "metadata": {
        "run_control": {
          "marked": true
        },
        "id": "MCr-GDrnjMu8",
        "colab_type": "code",
        "colab": {}
      },
      "source": [
        "def weight_formatter(weights,Type='nmf_shape'):\n",
        "    \n",
        "\n",
        "# Evaluate  the type of input Weights\n",
        "   \n",
        "    if type(weights[0])==WZ_object: # check wheteher it has WZ shape\n",
        "        input_type='WZ' \n",
        "        \n",
        "    else: \n",
        "        try: # when not it means nmf shape or keras shape\n",
        "            weights[1]# check if it has second value \n",
        "        except: # except means Wb has nmf_shape\n",
        "            input_type='nmf_shape'\n",
        "        else:\n",
        "            if len(weights[1].shape) !=1: # if second elements is vector ( it means bias )\n",
        "                input_type='nmf_shape'\n",
        "            else:\n",
        "                input_type='keras_shape'\n",
        "\n",
        "#   ^^^^^ print('input_type={}'.format(input_type))\n",
        "    \n",
        "    \n",
        "## Formmat the type of Input\n",
        "    new_weights=[]\n",
        "    \n",
        "    # the case of Type =='nmf shape'\n",
        "    if Type=='nmf_shape':\n",
        "        if input_type=='nmf_shape':\n",
        "            new_weights=weights\n",
        "        elif input_type=='keras_shape':\n",
        "            L=int(len(weights)/2)\n",
        "            for i in range(L):\n",
        "                new_weights.append(vstack([weights[2*i],weights[2*i+1]]).T )   # get \n",
        "        elif input_type=='WZ':\n",
        "            L=int(len(weights))\n",
        "            for i in range(L):\n",
        "                new_weights.append(weights[i].W )\n",
        "                \n",
        "    if Type=='WZ':\n",
        "        if input_type=='nmf_shape':\n",
        "            L=int(len(weights))\n",
        "            for i in range(L):\n",
        "                new_weights.append(WZ_object(W=weights[i]) )\n",
        "        elif input_type=='keras_shape':\n",
        "            L=int(len(weights)/2)\n",
        "            for i in range(L):\n",
        "                new_weights.append(WZ_object(W=vstack([weights[2*i],weights[2*i+1]]).T) )\n",
        "        elif input_type=='WZ':\n",
        "            new_weights=weights\n",
        "            \n",
        "    if Type=='keras_shape':\n",
        "        if input_type=='nmf_shape':\n",
        "            new_weights=[]\n",
        "            for l in range (len(weights)):\n",
        "                new_weights.append(weights[l][:,:-1].T)\n",
        "                new_weights.append(weights[l][:,-1])\n",
        "        elif input_type=='WZ':\n",
        "            new_weights=[]\n",
        "            for l in range(len(weights)):\n",
        "                new_weights.append(weights[l].W[:,:-1].T)\n",
        "                new_weights.append(weights[l.W][:,-1])\n",
        "            \n",
        "                \n",
        "    \n",
        "    \n",
        "    return new_weights"
      ],
      "execution_count": 129,
      "outputs": []
    },
    {
      "cell_type": "markdown",
      "metadata": {
        "id": "NbBRkdeGjMu_",
        "colab_type": "text"
      },
      "source": [
        "### get_data"
      ]
    },
    {
      "cell_type": "code",
      "metadata": {
        "run_control": {
          "marked": true
        },
        "id": "02ZYUWUxjMu_",
        "colab_type": "code",
        "colab": {}
      },
      "source": [
        "def get_data(Type='mnist',scaling=False,random_state=0,data_info=True,path='dataset'):\n",
        "    \n",
        "    ######### Load Data #########\n",
        "    #----  Image Data-------\n",
        "    if Type=='mnist':(X_train,Y_train),(X_test,Y_test) =tf.keras.datasets.mnist.load_data()\n",
        "        \n",
        "    elif Type=='fashion_mnist':(X_train,Y_train),(X_test,Y_test) =tf.keras.datasets.fashion_mnist.load_data()\n",
        "        \n",
        "    elif Type=='cifar10':(X_train,Y_train),(X_test,Y_test) =tf.keras.datasets.cifar10.load_data()\n",
        "       \n",
        "    #----- System Data --------\n",
        "    elif Type=='hitachi':\n",
        "        data=pd.read_csv(os.path.join(path,'hitachi/hitachi.csv')).to_numpy()\n",
        "        train,test=train_test_split(data,train_size=2500,random_state=random_state) # train test split\n",
        "        X_train,Y_train=train[:,:3],train[:,3:]                    # \n",
        "        X_test,Y_test=test[:,:3],test[:,3:]                      #\n",
        "        \n",
        "    elif Type=='airfoil':\n",
        "        data=np.loadtxt(os.path.join(path,'airfoil/airfoil_self_noise.dat'))\n",
        "        train,test=train_test_split(data,train_size=.7,random_state=random_state) # train test split\n",
        "        X_train,Y_train=train[:,:-1],train[:,-1][:,np.newaxis] # get each columns\n",
        "        X_test,Y_test=test[:,:-1],test[:,-1][:,np.newaxis]\n",
        "        \n",
        "    elif Type=='concrete':\n",
        "        \n",
        "        data=pd.read_excel(os.path.join(path,'/concrete/Concrete.xls').to_numpy())\n",
        "        train,test=train_test_split(data,train_size=.7,random_state=random_state)\n",
        "        X_train,Y_train=train[:,:-1],train[:,-1][:,np.newaxis] # get each columns\n",
        "        X_test,Y_test=test[:,:-1],test[:,-1][:,np.newaxis]\n",
        "        \n",
        "    elif Type=='abalone':\n",
        "        data=pd.read_csv(os.getcwd()+'/dataset/abalone/abalone.txt',sep=',',header=None)\n",
        "        onehot=sklearn.preprocessing.OneHotEncoder(dtype=np.int)  \n",
        "        data_process=pd.DataFrame(data.drop(columns=[48])).join(onehot.fit_transform(data[[0]]).toarray(),columns=onehot.categories_[0]).to_numpy()\n",
        "        train,test=train_test_split(data_process,train_size=3000,random_state=random_state)\n",
        "        X_train,Y_train=train[:,:-1],train[:,-1][:,np.newaxis] # get each columns\n",
        "        X_test,Y_test=test[:,:-1],test[:,-1][:,np.newaxis]\n",
        "        \n",
        "    elif Type=='letter_recognition':\n",
        "        \n",
        "        data=pd.read_csv(os.getcwd()+'/dataset/letter_recognition/letter_recognition.csv',sep=',',header=None)\n",
        "        train,test=train_test_split(data,train_size=.7,random_state=random_state)\n",
        "\n",
        "        X_train,Y_train=train.iloc[:,1:],train.iloc[:,:1]#\n",
        "        X_test,Y_test=test.iloc[:,1:],test.iloc[:,:1]#\n",
        "        \n",
        "    elif Type=='shuttle':\n",
        "        train=pd.read_csv(os.getcwd()+'/dataset/shuttle_trn.txt',sep=' ',header=None).to_numpy()\n",
        "        test=pd.read_csv(os.getcwd()+'/dataset/shuttle_tst.txt',sep=' ',header=None).to_numpy()   \n",
        "        \n",
        "        X_train,Y_train=train[:,:-1],train[:,-1:]# get each columns\n",
        "        X_test,Y_test=test[:,:-1],test[:,-1:]\n",
        "        \n",
        "    elif Type=='covertype':\n",
        "        data=pd.read_csv(os.getcwd()+'/dataset/covertype/covertype.txt',sep=',',header=None)\n",
        "        train,test=train_test_split(data,train_size=.99,random_state=random_state)\n",
        "\n",
        "        X_train,Y_train=train.iloc[:,:-1],train.iloc[:,:-1]#\n",
        "        X_test,Y_test=test.iloc[:,:-1],test.iloc[:,:-1]#\n",
        "\n",
        "  \n",
        "        ## convert alpha_bet to  onehot vectors\n",
        "    elif Type=='segmentation':\n",
        "        data_trn=pd.read_csv(os.getcwd()+'/dataset/segmentation/segmentation_trn.csv',skiprows=3,index_col=False)\n",
        "        data_tst=pd.read_csv(os.getcwd()+'/dataset/segmentation/segmentation_tst.csv',skiprows=3,index_col=False)\n",
        "\n",
        "        X_train,Y_train=data_trn.iloc[:,1:],data_trn.iloc[:,:1]\n",
        "        X_test,Y_test=data_tst.iloc[:,1:],data_tst.iloc[:,:1]\n",
        "        \n",
        "#################################################        \n",
        "    elif Type=='iris':\n",
        "        skdata=sklearn.datasets.load_iris()\n",
        "        data=hstack([skdata.data,to_categorical(skdata.target)])\n",
        "        uni_num=len(np.unique(skdata.target)) # get unique_num\n",
        "        train,test=train_test_split(data,train_size=100,random_state=random_state) # train test split\n",
        "        X_train,Y_train=train[:,:-uni_num],train[:,-uni_num:]\n",
        "        X_test,Y_test=test[:,:-uni_num],test[:,-uni_num:]\n",
        "        \n",
        "        \n",
        "    elif Type=='breast_cancer':\n",
        "        skdata=sklearn.datasets.load_breast_cancer()\n",
        "        data=hstack([skdata.data,to_categorical(skdata.target)])\n",
        "        uni_num=len(np.unique(skdata.target)) # get unique_num\n",
        "        train,test=train_test_split(data,train_size=500,random_state=random_state) # train test split\n",
        "        X_train,Y_train=train[:,:-uni_num],train[:,-uni_num:]\n",
        "        X_test,Y_test=test[:,:-uni_num],test[:,-uni_num:]\n",
        "        \n",
        "    elif Type=='digits':\n",
        "        skdata=sklearn.datasets.load_digits()\n",
        "        data=hstack([skdata.data,to_categorical(skdata.target)])\n",
        "        uni_num=len(np.unique(skdata.target)) # get unique_num\n",
        "        train,test=train_test_split(data,train_size=1258,random_state=random_state) # train test split\n",
        "        X_train,Y_train=train[:,:-uni_num],train[:,-uni_num:]\n",
        "        X_test,Y_test=test[:,:-uni_num],test[:,-uni_num:]\n",
        "    \n",
        "\n",
        "\n",
        "\n",
        "####################################################################      \n",
        "\n",
        "    if Type in ['mnist','cifar10','fashion_mnist']:     # image data processing     \n",
        "        X_train=X_train.reshape(X_train.shape[0],-1)\n",
        "        X_test=X_test.reshape(X_test.shape[0],-1)\n",
        "        Y_train=to_categorical(Y_train)\n",
        "        Y_test=to_categorical(Y_test)\n",
        "        \n",
        "    if Type in  ['letter_recognition','shuttle','covertype','segmentation']: # onehot encoder for general classification problem\n",
        "            ohe=sklearn.preprocessing.OneHotEncoder()\n",
        "            Y_train=ohe.fit_transform(Y_train).toarray()\n",
        "            Y_test=ohe.fit_transform(Y_test).toarray()\n",
        "        \n",
        "             \n",
        "    if scaling ==True:\n",
        "        scaler=MinMaxScaler()\n",
        "        X_train=scaler.fit_transform(X_train)\n",
        "        Y_train=scaler.fit_transform(Y_train)\n",
        "        X_test=scaler.fit_transform(X_test)\n",
        "        Y_test=scaler.fit_transform(Y_test)\n",
        "    \n",
        "    if data_info==True: \n",
        "        print('this data type is [{}]'.format(Type))\n",
        "        print('the shape of X_train is {:}  Y_train is {:}'.format(X_train.shape,Y_train.shape))\n",
        "        print('the shape of X_test is {:} Y_test is {:}'.format(X_test.shape,Y_test.shape))\n",
        "    return (X_train,Y_train),(X_test,Y_test)"
      ],
      "execution_count": 130,
      "outputs": []
    },
    {
      "cell_type": "code",
      "metadata": {
        "id": "4VlOUS9hjMvB",
        "colab_type": "code",
        "colab": {
          "base_uri": "https://localhost:8080/",
          "height": 68
        },
        "outputId": "d58ed360-2cae-48d1-a0d8-045739a73fb8"
      },
      "source": [
        "(X_train,Y_train),(X_test,Y_test)=get_data(Type='airfoil',scaling=False,random_state=0,data_info=True,path=os.getcwd()+'/dataset')"
      ],
      "execution_count": 131,
      "outputs": [
        {
          "output_type": "stream",
          "text": [
            "this data type is [airfoil]\n",
            "the shape of X_train is (1052, 5)  Y_train is (1052, 1)\n",
            "the shape of X_test is (451, 5) Y_test is (451, 1)\n"
          ],
          "name": "stdout"
        }
      ]
    },
    {
      "cell_type": "code",
      "metadata": {
        "id": "AG-2F_EdjMvH",
        "colab_type": "code",
        "colab": {}
      },
      "source": [
        "onehot=sklearn.preprocessing.OneHotEncoder()\n",
        "Y_train=onehot.fit_transform(Y_train).toarray()\n",
        "#Y_test=onehot.fit_transform(Y_test).toarray()"
      ],
      "execution_count": 132,
      "outputs": []
    },
    {
      "cell_type": "code",
      "metadata": {
        "id": "LkPJ700CjMvJ",
        "colab_type": "code",
        "colab": {
          "base_uri": "https://localhost:8080/",
          "height": 136
        },
        "outputId": "3d9dbba0-75c4-4d15-8693-e5aff5fe372d"
      },
      "source": [
        "Y_train"
      ],
      "execution_count": 133,
      "outputs": [
        {
          "output_type": "execute_result",
          "data": {
            "text/plain": [
              "array([[0., 0., 0., ..., 0., 0., 0.],\n",
              "       [0., 0., 0., ..., 0., 0., 0.],\n",
              "       [0., 0., 0., ..., 0., 0., 0.],\n",
              "       ...,\n",
              "       [0., 0., 0., ..., 0., 0., 1.],\n",
              "       [0., 0., 0., ..., 0., 0., 0.],\n",
              "       [0., 0., 0., ..., 0., 0., 0.]])"
            ]
          },
          "metadata": {
            "tags": []
          },
          "execution_count": 133
        }
      ]
    },
    {
      "cell_type": "code",
      "metadata": {
        "id": "d6yv6-kPjMvS",
        "colab_type": "code",
        "colab": {
          "base_uri": "https://localhost:8080/",
          "height": 34
        },
        "outputId": "8f42d1ad-18d3-4675-d431-fb088becb4df"
      },
      "source": [
        "X_test.shape"
      ],
      "execution_count": 134,
      "outputs": [
        {
          "output_type": "execute_result",
          "data": {
            "text/plain": [
              "(451, 5)"
            ]
          },
          "metadata": {
            "tags": []
          },
          "execution_count": 134
        }
      ]
    },
    {
      "cell_type": "code",
      "metadata": {
        "id": "JxuWxKLEjMvV",
        "colab_type": "code",
        "colab": {
          "base_uri": "https://localhost:8080/",
          "height": 34
        },
        "outputId": "c81b39bf-a690-44e7-aa46-9d27bb2e1dd4"
      },
      "source": [
        "Y_train.shape"
      ],
      "execution_count": 135,
      "outputs": [
        {
          "output_type": "execute_result",
          "data": {
            "text/plain": [
              "(1052, 1023)"
            ]
          },
          "metadata": {
            "tags": []
          },
          "execution_count": 135
        }
      ]
    },
    {
      "cell_type": "code",
      "metadata": {
        "id": "HPH7Dx4TjMvX",
        "colab_type": "code",
        "colab": {}
      },
      "source": [
        "data=pd.read_csv(os.getcwd()+'/dataset/hitachi/hitachi.csv').to_numpy()\n",
        "train,test=train_test_split(data,train_size=2500,random_state=3) # train test split\n",
        "X_train,Y_train=train[:,:3],train[:,3:]                    # \n",
        "X_test,Y_test=test[:,:3],test[:,3:]                      #           #"
      ],
      "execution_count": 136,
      "outputs": []
    },
    {
      "cell_type": "code",
      "metadata": {
        "id": "h9wbBU9ajMvY",
        "colab_type": "code",
        "colab": {
          "base_uri": "https://localhost:8080/",
          "height": 34
        },
        "outputId": "c6f5f0fb-16b3-451d-c6c3-3a6e4228a64f"
      },
      "source": [
        "X_test.shape"
      ],
      "execution_count": 137,
      "outputs": [
        {
          "output_type": "execute_result",
          "data": {
            "text/plain": [
              "(824, 3)"
            ]
          },
          "metadata": {
            "tags": []
          },
          "execution_count": 137
        }
      ]
    },
    {
      "cell_type": "markdown",
      "metadata": {
        "id": "RP5ZH61gjMvb",
        "colab_type": "text"
      },
      "source": [
        "### error_norm\n",
        "[arg]\n",
        "\n",
        "data :<br>\n",
        "$X =[x_1,x_2,...,x_m]^T$<br>\n",
        "$Y =[y_1,y_2,...,y_m]^T$<br>\n",
        "normtype: the type of norm$\\in( ${'RRN','MSE''})\n",
        "\n",
        "[arg]\n",
        "S: the scaled data"
      ]
    },
    {
      "cell_type": "code",
      "metadata": {
        "id": "lq7QorrWjMvb",
        "colab_type": "code",
        "colab": {}
      },
      "source": [
        "def error_norm(X,Y,normtype='RRN'):\n",
        "    if normtype=='RRN':\n",
        "        err=norm(X-Y,'fro')/norm(X,'fro')\n",
        "    if normtype=='MSE':\n",
        "        err=norm(X-Y,'fro')/X.shape[0]\n",
        "    return err"
      ],
      "execution_count": 138,
      "outputs": []
    },
    {
      "cell_type": "code",
      "metadata": {
        "id": "ZOQ4jwB2jMve",
        "colab_type": "code",
        "colab": {}
      },
      "source": [
        ""
      ],
      "execution_count": 138,
      "outputs": []
    },
    {
      "cell_type": "markdown",
      "metadata": {
        "id": "CGR3aaKBjMvg",
        "colab_type": "text"
      },
      "source": [
        "### scaling\n",
        "\n",
        "[arg]\n",
        "\n",
        "data : $X =[x_1,x_2,...,x_m]$<br>\n",
        "scaler: kind of scaling $\\in ${'minmax','l2_norm'}\n",
        "\n",
        "[arg]\n",
        "S: the scaled data\n",
        "\n"
      ]
    },
    {
      "cell_type": "code",
      "metadata": {
        "id": "k3DAzRJXjMvg",
        "colab_type": "code",
        "colab": {}
      },
      "source": [
        "def scaling(X,scaler='minmax'):\n",
        "    if np.ndim(X)==1: # when X is 1d array\n",
        "        X=(X-min(X))/(max(X)-min(X))\n",
        "    \n",
        "    if np.ndim(X)==2:\n",
        "        X=[scaling(x) for x in X ]\n",
        "    return X"
      ],
      "execution_count": 139,
      "outputs": []
    },
    {
      "cell_type": "markdown",
      "metadata": {
        "id": "OF8olvhUjMvi",
        "colab_type": "text"
      },
      "source": [
        "### data_info"
      ]
    },
    {
      "cell_type": "code",
      "metadata": {
        "hide_input": true,
        "run_control": {
          "marked": true
        },
        "id": "8vLz_2XEjMvi",
        "colab_type": "code",
        "colab": {}
      },
      "source": [
        "def data_info(X_train,Y_train) :\n",
        "    print('the shape of\\n X_train is {:} \\n Y_train is {:}'.format(X_train.shape,Y_train.shape))\n",
        "    \n",
        "    "
      ],
      "execution_count": 140,
      "outputs": []
    },
    {
      "cell_type": "markdown",
      "metadata": {
        "id": "DNz2rh80jMvj",
        "colab_type": "text"
      },
      "source": [
        "### convert_to_df\n",
        "[arg]\n",
        "\n",
        "- (2d-array) resvec\n",
        "\n",
        "[return] \n",
        "\n",
        "- (DataFrame)  df"
      ]
    },
    {
      "cell_type": "code",
      "metadata": {
        "run_control": {
          "marked": true
        },
        "scrolled": true,
        "id": "Wag7MfVejMvk",
        "colab_type": "code",
        "colab": {
          "base_uri": "https://localhost:8080/",
          "height": 359
        },
        "outputId": "bf198965-4ea9-48b5-d4ab-f31beb98c23e"
      },
      "source": [
        "def convert_to_df(resvec):\n",
        "    columns=['iter','time','TRN','TSN','TRE','TSE']\n",
        "    return pd.DataFrame(resvec,columns=columns)\n",
        "\n",
        "## test ##\n",
        "\n",
        "resvec=np.random.randint(low=0,high=10,size=[10,6])\n",
        "\n",
        "convert_to_df(resvec)"
      ],
      "execution_count": 69,
      "outputs": [
        {
          "output_type": "execute_result",
          "data": {
            "text/html": [
              "<div>\n",
              "<style scoped>\n",
              "    .dataframe tbody tr th:only-of-type {\n",
              "        vertical-align: middle;\n",
              "    }\n",
              "\n",
              "    .dataframe tbody tr th {\n",
              "        vertical-align: top;\n",
              "    }\n",
              "\n",
              "    .dataframe thead th {\n",
              "        text-align: right;\n",
              "    }\n",
              "</style>\n",
              "<table border=\"1\" class=\"dataframe\">\n",
              "  <thead>\n",
              "    <tr style=\"text-align: right;\">\n",
              "      <th></th>\n",
              "      <th>iter</th>\n",
              "      <th>time</th>\n",
              "      <th>TRN</th>\n",
              "      <th>TSN</th>\n",
              "      <th>TRE</th>\n",
              "      <th>TSE</th>\n",
              "    </tr>\n",
              "  </thead>\n",
              "  <tbody>\n",
              "    <tr>\n",
              "      <th>0</th>\n",
              "      <td>0</td>\n",
              "      <td>1</td>\n",
              "      <td>3</td>\n",
              "      <td>6</td>\n",
              "      <td>5</td>\n",
              "      <td>7</td>\n",
              "    </tr>\n",
              "    <tr>\n",
              "      <th>1</th>\n",
              "      <td>4</td>\n",
              "      <td>9</td>\n",
              "      <td>1</td>\n",
              "      <td>6</td>\n",
              "      <td>6</td>\n",
              "      <td>3</td>\n",
              "    </tr>\n",
              "    <tr>\n",
              "      <th>2</th>\n",
              "      <td>2</td>\n",
              "      <td>0</td>\n",
              "      <td>7</td>\n",
              "      <td>0</td>\n",
              "      <td>5</td>\n",
              "      <td>4</td>\n",
              "    </tr>\n",
              "    <tr>\n",
              "      <th>3</th>\n",
              "      <td>2</td>\n",
              "      <td>8</td>\n",
              "      <td>7</td>\n",
              "      <td>9</td>\n",
              "      <td>9</td>\n",
              "      <td>3</td>\n",
              "    </tr>\n",
              "    <tr>\n",
              "      <th>4</th>\n",
              "      <td>0</td>\n",
              "      <td>5</td>\n",
              "      <td>9</td>\n",
              "      <td>7</td>\n",
              "      <td>1</td>\n",
              "      <td>9</td>\n",
              "    </tr>\n",
              "    <tr>\n",
              "      <th>5</th>\n",
              "      <td>1</td>\n",
              "      <td>5</td>\n",
              "      <td>5</td>\n",
              "      <td>2</td>\n",
              "      <td>9</td>\n",
              "      <td>1</td>\n",
              "    </tr>\n",
              "    <tr>\n",
              "      <th>6</th>\n",
              "      <td>0</td>\n",
              "      <td>7</td>\n",
              "      <td>8</td>\n",
              "      <td>4</td>\n",
              "      <td>5</td>\n",
              "      <td>7</td>\n",
              "    </tr>\n",
              "    <tr>\n",
              "      <th>7</th>\n",
              "      <td>1</td>\n",
              "      <td>3</td>\n",
              "      <td>7</td>\n",
              "      <td>8</td>\n",
              "      <td>9</td>\n",
              "      <td>4</td>\n",
              "    </tr>\n",
              "    <tr>\n",
              "      <th>8</th>\n",
              "      <td>5</td>\n",
              "      <td>1</td>\n",
              "      <td>3</td>\n",
              "      <td>0</td>\n",
              "      <td>7</td>\n",
              "      <td>0</td>\n",
              "    </tr>\n",
              "    <tr>\n",
              "      <th>9</th>\n",
              "      <td>1</td>\n",
              "      <td>8</td>\n",
              "      <td>0</td>\n",
              "      <td>2</td>\n",
              "      <td>1</td>\n",
              "      <td>5</td>\n",
              "    </tr>\n",
              "  </tbody>\n",
              "</table>\n",
              "</div>"
            ],
            "text/plain": [
              "   iter  time  TRN  TSN  TRE  TSE\n",
              "0     0     1    3    6    5    7\n",
              "1     4     9    1    6    6    3\n",
              "2     2     0    7    0    5    4\n",
              "3     2     8    7    9    9    3\n",
              "4     0     5    9    7    1    9\n",
              "5     1     5    5    2    9    1\n",
              "6     0     7    8    4    5    7\n",
              "7     1     3    7    8    9    4\n",
              "8     5     1    3    0    7    0\n",
              "9     1     8    0    2    1    5"
            ]
          },
          "metadata": {
            "tags": []
          },
          "execution_count": 69
        }
      ]
    },
    {
      "cell_type": "markdown",
      "metadata": {
        "run_control": {
          "marked": true
        },
        "id": "8eVlTMvRjMvl",
        "colab_type": "text"
      },
      "source": [
        "### random_initializer\n",
        "\n",
        "[desctription]\n",
        "\n",
        "[arg]\n",
        "\n",
        "- $n_0$ : (int) - the number of input units<br>\n",
        "- hidden : (list)- the numbers of hidden units<br>\n",
        "- $n_d$: (int) - the number of ouput units  <br>\n",
        "- Type : (string) - the type of initialization ( $\\in \\{ 'randn' \\})$<br>\n",
        "- br : (bool) - whether it initialize with br mode ( default ==True )\n",
        "\n",
        "[return]\n",
        "\n",
        "- weights: initialized weights"
      ]
    },
    {
      "cell_type": "code",
      "metadata": {
        "run_control": {
          "marked": true
        },
        "id": "1Sp_XF2qjMvm",
        "colab_type": "code",
        "colab": {}
      },
      "source": [
        "def random_initializer (n0,hidden,nd,Type='randn',br=True) :\n",
        "    \n",
        "    weights=[] # preallocation of list \n",
        "    L=len(hidden)+1 # get the number of weights\n",
        "    layers=[n0]+hidden+[nd] # get full layers\n",
        "    \n",
        "    \n",
        "    if Type=='randn':\n",
        "        \n",
        "        if br==True: # \n",
        "            np.random.seed(2020)\n",
        "            for i in range(L):\n",
        "                weights.append(np.random.randn(layers[i+1],layers[i]+1))\n",
        "        if br==False: # \n",
        "            for i in range(L):\n",
        "                weights.append(np.random.randn(layers[i+1],layers[i]))\n",
        "                \n",
        "    return weights\n",
        "        "
      ],
      "execution_count": 70,
      "outputs": []
    },
    {
      "cell_type": "code",
      "metadata": {
        "run_control": {
          "marked": true
        },
        "id": "PXZTGyfQjMvn",
        "colab_type": "code",
        "colab": {
          "base_uri": "https://localhost:8080/",
          "height": 0
        },
        "outputId": "2483069d-6a55-4d8e-c679-7521a28e66b6"
      },
      "source": [
        "np.random.randn(30,1).shape"
      ],
      "execution_count": 71,
      "outputs": [
        {
          "output_type": "execute_result",
          "data": {
            "text/plain": [
              "(30, 1)"
            ]
          },
          "metadata": {
            "tags": []
          },
          "execution_count": 71
        }
      ]
    },
    {
      "cell_type": "markdown",
      "metadata": {
        "id": "cNTA_Gd5jMvp",
        "colab_type": "text"
      },
      "source": [
        "### set_random_seed"
      ]
    },
    {
      "cell_type": "code",
      "metadata": {
        "id": "1t-kDaXUjMvp",
        "colab_type": "code",
        "colab": {}
      },
      "source": [
        "def set_random_seed(seed=4):\n",
        "    \n",
        "    random.seed(seed)\n",
        "    np.random.seed(seed)\n",
        "    tf.random.set_seed(seed)"
      ],
      "execution_count": 72,
      "outputs": []
    },
    {
      "cell_type": "markdown",
      "metadata": {
        "id": "6x85CmewjMvr",
        "colab_type": "text"
      },
      "source": [
        "### find_girigiri\n",
        "\n",
        "\n",
        "[description]\n",
        "\n",
        "this function will find the cut_crit of limitation\n",
        "\n",
        "[arg] \n",
        "- df: the records of training \n",
        "- cut_crit: cutting criterion \n",
        "- limit: limitation number to be cutted\n",
        "- upordown: up or down (if select up this function will find that satisfy with df[cut_cirt] < limit )\n",
        "- transcend: if transcend the record or not\n",
        "\n",
        "[return]\n",
        "\n",
        "- cut_record : the girigiri "
      ]
    },
    {
      "cell_type": "code",
      "metadata": {
        "id": "MDUnwSmxjMvr",
        "colab_type": "code",
        "colab": {}
      },
      "source": [
        "def find_girigiri(df,cut_crit,limit,upordown='up',transcend=True):\n",
        "    if upordown=='up':\n",
        "        for i in range(len(df.index)): \n",
        "           \n",
        "            if df.iloc[i][cut_crit]>= limit:\n",
        "                final_cut=i\n",
        "                if transcend==False:\n",
        "                    final_cut-=1\n",
        "                break\n",
        "       \n",
        "        \n",
        "        if df.iloc[-1][cut_crit]<=limit:\n",
        "            final_cut=len(df.index)-1\n",
        "        return df.iloc[final_cut+1]\n",
        "        \n",
        "    if upordown=='down':\n",
        "        for i in range(len(df.index)): \n",
        "            \n",
        "            if df.iloc[i][cut_crit]<= limit:\n",
        "                final_cut=i\n",
        "    \n",
        "                if transcend==False:\n",
        "                    final_cut-=1\n",
        "                break\n",
        "       \n",
        "        #if df.iloc[-1][cut_crit]>=limit:\n",
        "         #   final_cut=len(df.index)-1\n",
        "        #print(final_cut)\n",
        "        return df.iloc[:final_cut+1]"
      ],
      "execution_count": 73,
      "outputs": []
    },
    {
      "cell_type": "code",
      "metadata": {
        "id": "65GHhmrYjMvt",
        "colab_type": "code",
        "colab": {
          "base_uri": "https://localhost:8080/",
          "height": 0
        },
        "outputId": "911e5e2e-dc23-44b1-c567-90f8fc734996"
      },
      "source": [
        "## test\n",
        "\n",
        "df=pd.DataFrame([[1,5],[1.5,4],[2,3],[2.5,2]],columns=['time','norm'])\n",
        "find_girigiri(df,cut_crit='norm',limit=2.9,upordown='down',transcend=True)"
      ],
      "execution_count": 74,
      "outputs": [
        {
          "output_type": "execute_result",
          "data": {
            "text/html": [
              "<div>\n",
              "<style scoped>\n",
              "    .dataframe tbody tr th:only-of-type {\n",
              "        vertical-align: middle;\n",
              "    }\n",
              "\n",
              "    .dataframe tbody tr th {\n",
              "        vertical-align: top;\n",
              "    }\n",
              "\n",
              "    .dataframe thead th {\n",
              "        text-align: right;\n",
              "    }\n",
              "</style>\n",
              "<table border=\"1\" class=\"dataframe\">\n",
              "  <thead>\n",
              "    <tr style=\"text-align: right;\">\n",
              "      <th></th>\n",
              "      <th>time</th>\n",
              "      <th>norm</th>\n",
              "    </tr>\n",
              "  </thead>\n",
              "  <tbody>\n",
              "    <tr>\n",
              "      <th>0</th>\n",
              "      <td>1.0</td>\n",
              "      <td>5</td>\n",
              "    </tr>\n",
              "    <tr>\n",
              "      <th>1</th>\n",
              "      <td>1.5</td>\n",
              "      <td>4</td>\n",
              "    </tr>\n",
              "    <tr>\n",
              "      <th>2</th>\n",
              "      <td>2.0</td>\n",
              "      <td>3</td>\n",
              "    </tr>\n",
              "    <tr>\n",
              "      <th>3</th>\n",
              "      <td>2.5</td>\n",
              "      <td>2</td>\n",
              "    </tr>\n",
              "  </tbody>\n",
              "</table>\n",
              "</div>"
            ],
            "text/plain": [
              "   time  norm\n",
              "0   1.0     5\n",
              "1   1.5     4\n",
              "2   2.0     3\n",
              "3   2.5     2"
            ]
          },
          "metadata": {
            "tags": []
          },
          "execution_count": 74
        }
      ]
    },
    {
      "cell_type": "markdown",
      "metadata": {
        "id": "8sylnIJQjMvv",
        "colab_type": "text"
      },
      "source": [
        "## Pandas functions "
      ]
    },
    {
      "cell_type": "markdown",
      "metadata": {
        "id": "4Z0ZwBbljMvv",
        "colab_type": "text"
      },
      "source": [
        "### convert_to_df\n",
        "[arg]\n",
        "\n",
        "- (2d-array) resvec\n",
        "\n",
        "[return] \n",
        "\n",
        "- (DataFrame)  df"
      ]
    },
    {
      "cell_type": "code",
      "metadata": {
        "run_control": {
          "marked": true
        },
        "id": "WW84qjDOjMvv",
        "colab_type": "code",
        "colab": {
          "base_uri": "https://localhost:8080/",
          "height": 0
        },
        "outputId": "c7133010-14af-4996-9d5b-62ab20f2eec2"
      },
      "source": [
        "def convert_to_df(resvec):\n",
        "    columns=['iter','time','TRN','TSN','TRE','TSE']\n",
        "    return pd.DataFrame(resvec,columns=columns)\n",
        "\n",
        "## test ##\n",
        "\n",
        "resvec=np.random.randint(low=0,high=10,size=[10,6])\n",
        "\n",
        "convert_to_df(resvec)"
      ],
      "execution_count": 75,
      "outputs": [
        {
          "output_type": "execute_result",
          "data": {
            "text/html": [
              "<div>\n",
              "<style scoped>\n",
              "    .dataframe tbody tr th:only-of-type {\n",
              "        vertical-align: middle;\n",
              "    }\n",
              "\n",
              "    .dataframe tbody tr th {\n",
              "        vertical-align: top;\n",
              "    }\n",
              "\n",
              "    .dataframe thead th {\n",
              "        text-align: right;\n",
              "    }\n",
              "</style>\n",
              "<table border=\"1\" class=\"dataframe\">\n",
              "  <thead>\n",
              "    <tr style=\"text-align: right;\">\n",
              "      <th></th>\n",
              "      <th>iter</th>\n",
              "      <th>time</th>\n",
              "      <th>TRN</th>\n",
              "      <th>TSN</th>\n",
              "      <th>TRE</th>\n",
              "      <th>TSE</th>\n",
              "    </tr>\n",
              "  </thead>\n",
              "  <tbody>\n",
              "    <tr>\n",
              "      <th>0</th>\n",
              "      <td>8</td>\n",
              "      <td>9</td>\n",
              "      <td>1</td>\n",
              "      <td>7</td>\n",
              "      <td>4</td>\n",
              "      <td>6</td>\n",
              "    </tr>\n",
              "    <tr>\n",
              "      <th>1</th>\n",
              "      <td>1</td>\n",
              "      <td>7</td>\n",
              "      <td>7</td>\n",
              "      <td>2</td>\n",
              "      <td>4</td>\n",
              "      <td>1</td>\n",
              "    </tr>\n",
              "    <tr>\n",
              "      <th>2</th>\n",
              "      <td>9</td>\n",
              "      <td>8</td>\n",
              "      <td>5</td>\n",
              "      <td>5</td>\n",
              "      <td>5</td>\n",
              "      <td>0</td>\n",
              "    </tr>\n",
              "    <tr>\n",
              "      <th>3</th>\n",
              "      <td>1</td>\n",
              "      <td>3</td>\n",
              "      <td>2</td>\n",
              "      <td>8</td>\n",
              "      <td>1</td>\n",
              "      <td>1</td>\n",
              "    </tr>\n",
              "    <tr>\n",
              "      <th>4</th>\n",
              "      <td>3</td>\n",
              "      <td>1</td>\n",
              "      <td>1</td>\n",
              "      <td>5</td>\n",
              "      <td>1</td>\n",
              "      <td>1</td>\n",
              "    </tr>\n",
              "    <tr>\n",
              "      <th>5</th>\n",
              "      <td>3</td>\n",
              "      <td>8</td>\n",
              "      <td>8</td>\n",
              "      <td>8</td>\n",
              "      <td>8</td>\n",
              "      <td>7</td>\n",
              "    </tr>\n",
              "    <tr>\n",
              "      <th>6</th>\n",
              "      <td>5</td>\n",
              "      <td>7</td>\n",
              "      <td>1</td>\n",
              "      <td>8</td>\n",
              "      <td>7</td>\n",
              "      <td>6</td>\n",
              "    </tr>\n",
              "    <tr>\n",
              "      <th>7</th>\n",
              "      <td>8</td>\n",
              "      <td>8</td>\n",
              "      <td>7</td>\n",
              "      <td>7</td>\n",
              "      <td>6</td>\n",
              "      <td>0</td>\n",
              "    </tr>\n",
              "    <tr>\n",
              "      <th>8</th>\n",
              "      <td>4</td>\n",
              "      <td>7</td>\n",
              "      <td>1</td>\n",
              "      <td>5</td>\n",
              "      <td>5</td>\n",
              "      <td>3</td>\n",
              "    </tr>\n",
              "    <tr>\n",
              "      <th>9</th>\n",
              "      <td>3</td>\n",
              "      <td>1</td>\n",
              "      <td>5</td>\n",
              "      <td>1</td>\n",
              "      <td>6</td>\n",
              "      <td>1</td>\n",
              "    </tr>\n",
              "  </tbody>\n",
              "</table>\n",
              "</div>"
            ],
            "text/plain": [
              "   iter  time  TRN  TSN  TRE  TSE\n",
              "0     8     9    1    7    4    6\n",
              "1     1     7    7    2    4    1\n",
              "2     9     8    5    5    5    0\n",
              "3     1     3    2    8    1    1\n",
              "4     3     1    1    5    1    1\n",
              "5     3     8    8    8    8    7\n",
              "6     5     7    1    8    7    6\n",
              "7     8     8    7    7    6    0\n",
              "8     4     7    1    5    5    3\n",
              "9     3     1    5    1    6    1"
            ]
          },
          "metadata": {
            "tags": []
          },
          "execution_count": 75
        }
      ]
    },
    {
      "cell_type": "markdown",
      "metadata": {
        "id": "HJpLK68fjMvx",
        "colab_type": "text"
      },
      "source": [
        "### draw_df_graph\n",
        "\n",
        "[arg]\n",
        "\n",
        "- resvec: 2darray- that represents the results of (['iter','time','TRN','TSN','TRE','TSE'])\n",
        "- column : column that want to draw graph\n",
        "- ax: the object to draw graph\n",
        "\n",
        "it can draw 2d 3d df anything!!\n"
      ]
    },
    {
      "cell_type": "code",
      "metadata": {
        "run_control": {
          "marked": true
        },
        "id": "rS0hWpmqjMvy",
        "colab_type": "code",
        "colab": {}
      },
      "source": [
        ""
      ],
      "execution_count": 75,
      "outputs": []
    },
    {
      "cell_type": "code",
      "metadata": {
        "run_control": {
          "marked": true
        },
        "id": "WMtqLto6jMv1",
        "colab_type": "code",
        "colab": {}
      },
      "source": [
        "def draw_df_graph(resvec,column,ax,style=None,linewidth=1,graph_num='full',graph_ind='full',markevery=1):\n",
        "    \n",
        "    #get default value\n",
        "    \n",
        "    \n",
        "    if  style==None : style = ['b','r','g','m','y']\n",
        "    if graph_ind!='full':resvec=get_part_list(resvec,graph_ind)  # get specific index\n",
        "    if graph_num!='full' : resvec=resvec[:graph_num]\n",
        "    \n",
        "\n",
        "    \n",
        "    \n",
        "    def draw2d(resvec,column,ax): # define 2d garph drawer\n",
        "        df=convert_to_df(resvec)\n",
        "        df[column].set_index(column[0]).plot(ax=ax,style=style,linewidth=linewidth,markevery=markevery)\n",
        "    def draw3d(resvec3d,column,ax):\n",
        "        for i,resvec in enumerate(resvec3d):\n",
        "            df=convert_to_df(resvec)\n",
        "            df[column].set_index(column[0]).plot(ax=ax,style=style[i],linewidth=linewidth,markevery=markevery)\n",
        "            \n",
        "    \n",
        "    if np.array(resvec[0]).ndim==1:\n",
        "        draw2d(resvec,column,ax)\n",
        "    elif  np.array(resvec[0]).ndim==2:\n",
        "        draw3d(resvec,column,ax)\n"
      ],
      "execution_count": 76,
      "outputs": []
    },
    {
      "cell_type": "code",
      "metadata": {
        "run_control": {
          "marked": true
        },
        "id": "y2b4eqBijMv2",
        "colab_type": "code",
        "colab": {}
      },
      "source": [
        "if 0==0: a=1"
      ],
      "execution_count": 77,
      "outputs": []
    },
    {
      "cell_type": "markdown",
      "metadata": {
        "id": "VNqdvabcjMv5",
        "colab_type": "text"
      },
      "source": [
        "### get_param_from_df\n",
        "\n",
        "[arg]\n",
        "\n",
        "df: dataframe that contains the inforamation of param\n",
        "dataset: ('str')the name of dataset \n",
        "\n",
        "[return]\n",
        "param: (nn_param object) parameter to tuning"
      ]
    },
    {
      "cell_type": "code",
      "metadata": {
        "run_control": {
          "marked": true
        },
        "id": "r4VDltHdjMv5",
        "colab_type": "code",
        "colab": {}
      },
      "source": [
        "def get_param_from_df(df,dataset):\n",
        "    param_list=df.loc[dataset] # get the dataset of \n",
        "    param=nn_param()\n",
        "    \n",
        "    param.hidden=param_list['hidden']\n",
        "    param.bp_lamb=param_list['bp_lamb']\n",
        "    param.nmf_lamb=param_list['nmf_lamb']\n",
        "    param.bp_batch=param_list['bp_batch']\n",
        "    param.nmf_batch=param_list['nmf_batch']\n",
        "    param.delta=param_list['delta']\n",
        "    return param\n",
        "    "
      ],
      "execution_count": 78,
      "outputs": []
    },
    {
      "cell_type": "markdown",
      "metadata": {
        "id": "coC61E6KjMv7",
        "colab_type": "text"
      },
      "source": [
        "## Basic Function"
      ]
    },
    {
      "cell_type": "markdown",
      "metadata": {
        "id": "Ab0MQe07jMv8",
        "colab_type": "text"
      },
      "source": [
        "### low_rank_appl"
      ]
    },
    {
      "cell_type": "code",
      "metadata": {
        "run_control": {
          "marked": true
        },
        "id": "Inai6g13jMv8",
        "colab_type": "code",
        "colab": {}
      },
      "source": [
        "def low_rank_appl(A,delta):\n",
        "    U,s,V=jnp.linalg.svd(A,full_matrices=False)\n",
        "\n",
        "      # get maximum of singular values and normalize it to be 1\n",
        "    k=np.sum(s/s[0]>delta)\n",
        "    Asvd=USV(U=U[:,0:k],S=np.diag(s[0:k]),V=V[0:k,:].T)\n",
        "    \n",
        "    return Asvd"
      ],
      "execution_count": 79,
      "outputs": []
    },
    {
      "cell_type": "markdown",
      "metadata": {
        "id": "mc7CojjkjMv-",
        "colab_type": "text"
      },
      "source": [
        "### appl_f (activation function)"
      ]
    },
    {
      "cell_type": "code",
      "metadata": {
        "run_control": {
          "marked": true
        },
        "id": "bRIeBzvLjMv-",
        "colab_type": "code",
        "colab": {}
      },
      "source": [
        "def  appl_f(x,Type='relu'):\n",
        "    if Type=='relu':\n",
        "        return np.maximum(0,x)\n",
        "    elif Type=='sigmoid':\n",
        "        return 1/(1+np.exp(-x))"
      ],
      "execution_count": 80,
      "outputs": []
    },
    {
      "cell_type": "code",
      "metadata": {
        "run_control": {
          "marked": true
        },
        "id": "bgtOcRckjMwA",
        "colab_type": "code",
        "colab": {}
      },
      "source": [
        "def  relu(x):\n",
        "    return np.maximum(0,x)"
      ],
      "execution_count": 81,
      "outputs": []
    },
    {
      "cell_type": "markdown",
      "metadata": {
        "id": "9xSMbsMPjMwD",
        "colab_type": "text"
      },
      "source": [
        "### get_sequential_model"
      ]
    },
    {
      "cell_type": "code",
      "metadata": {
        "run_control": {
          "marked": true
        },
        "id": "r5_Gd_AGjMwD",
        "colab_type": "code",
        "colab": {}
      },
      "source": [
        "def get_sequential_model(X_train,Y_train,X_test,Y_test,param):\n",
        "    nx=X_train.shape[1]\n",
        "    ny=Y_train.shape[1]\n",
        "\n",
        "    \n",
        "    model=Sequential()\n",
        "    hidden=param.hidden\n",
        "    L=len(hidden)+1\n",
        "    use_bias=param.use_bias\n",
        "    lamb=param.bp_lamb\n",
        "\n",
        "    output_act=param.output_act\n",
        "    \n",
        "     #============Build Model =====================\n",
        "    D=  Dense(input_shape=(nx,),units=param.hidden[0],activation='relu', use_bias=use_bias,activity_regularizer=l2(lamb[0]))\n",
        "    model.add(D)\n",
        "#  ✴✴  ------ Build Hidden Layer-------\n",
        "    for i in range(1,L-1):\n",
        "        D=Dense(                                            units=hidden[i],activation='relu', use_bias=use_bias,activity_regularizer=l2(lamb[0]))\n",
        "        model.add(D)\n",
        "# ✴✴ ----- Build Output Layer---------\n",
        "\n",
        "    D=   Dense(                                             units=ny,activation=output_act, use_bias=use_bias)\n",
        "    model.add(D)\n",
        " # ============Initialization =====================\n",
        "    return model"
      ],
      "execution_count": 82,
      "outputs": []
    },
    {
      "cell_type": "markdown",
      "metadata": {
        "id": "pxarmVkIjMwF",
        "colab_type": "text"
      },
      "source": [
        "## NMF Optimization function"
      ]
    },
    {
      "cell_type": "markdown",
      "metadata": {
        "id": "U5HvB_JljMwF",
        "colab_type": "text"
      },
      "source": [
        "### non_linear_lsq"
      ]
    },
    {
      "cell_type": "code",
      "metadata": {
        "run_control": {
          "marked": true
        },
        "id": "EcMFSv-JjMwF",
        "colab_type": "code",
        "colab": {}
      },
      "source": [
        "def   non_linear_lsq_br(AXorXA,A,Asvd,B,X,lamb,itermax,act_func='relu'):\n",
        "    U = Asvd.U\n",
        "    S = Asvd.S\n",
        "    V = Asvd.V\n",
        "    omega = 1.0\n",
        "        \n",
        "    ##### Normal Mode ######\n",
        "    \n",
        "\n",
        "    if AXorXA == 'AX': # min_X || B - f(A X) ||\n",
        "        \n",
        "        Xa = np.vstack([X,ones(X.shape[1])])\n",
        "        usv = low_rank_appl(A[:,:-1].T@A[:,:-1],1e-14);\n",
        "      \n",
        "            \n",
        "        for k in range(itermax):\n",
        "            R = B - appl_f(A@Xa,act_func);\n",
        "            X = X + omega * (V @( (1/diag(S))[:,np.newaxis]* (U.T @ R)));\n",
        "            X = solve((eye(A.shape[1]-1)+lamb*(usv.V @ ( (1/diag(usv.S))[:,np.newaxis]*usv.U.T))),X) #Regularziation Term\n",
        "            X = relu(X) # non-negative constraint\n",
        "\n",
        "    elif AXorXA == 'XA': # min_X || B - f(X A) ||\n",
        "        Aa=A\n",
        "        for k in range(itermax):\n",
        "            Aa = np.vstack([A,ones(A.shape[1])])\n",
        "                \n",
        "            R = B - appl_f(X@Aa,act_func)\n",
        "            X = X + omega * (((R @ V) /np.diag( S)) @ U.T) #    X<- X+ w  R A♱  \n",
        "            ss = diag(S);ss = ss**2/(lamb+ss**2);X = X@((U*ss)@U.T)\n",
        "           \n",
        "                \n",
        "    return X\n",
        "        "
      ],
      "execution_count": 83,
      "outputs": []
    },
    {
      "cell_type": "markdown",
      "metadata": {
        "id": "w-4v0vbCjMwI",
        "colab_type": "text"
      },
      "source": [
        "### nmf_br"
      ]
    },
    {
      "cell_type": "code",
      "metadata": {
        "run_control": {
          "marked": true
        },
        "id": "iht7cI44jMwI",
        "colab_type": "code",
        "colab": {}
      },
      "source": [
        "def nmf_br(Type,A,U,V,alpha,beta,iter1,iter2,iter3,delta,act_func='relu'):\n",
        "    \n",
        "    n=V.shape[1];\n",
        "    Va=vstack([V,ones(V.shape[1])]);\n",
        "    IE=ones([n,n])\n",
        "    \n",
        "    \n",
        "    if Type == 'N' :# Normal NMF: min_U,V ||A - U V|| s.t. U, V >= 0\n",
        "    \n",
        "        for i  in range(iter1) :\n",
        "            U_org=U[:,:-1]\n",
        "            \n",
        "            V = V * (U_org.T@A) / ((U_org.T@U)@Va+beta*V+eps)\n",
        "            Va=vstack([V,ones(V.shape[1])])\n",
        "            U = U * (A@Va.T) / (U@(Va@Va.T)+alpha*U+eps)\n",
        "            \n",
        "            \n",
        "            \n",
        "    elif Type == 'S': # Semi-NMF: min_U,V ||A - U V|| s.t. V >= 0\n",
        "    \n",
        "        for i   in range(iter1):\n",
        "            \n",
        "            Vsvd = low_rank_appl(Va,delta)\n",
        "            R=A-U@Va\n",
        "            U = U + (((R @ Vsvd.V) / diag(Vsvd.S)) @ Vsvd.U.T)\n",
        "            ss=diag(Vsvd.S);ss=ss**2/(alpha+ss**2)\n",
        "    \n",
        "                    \n",
        "                    \n",
        "            U = U@(( Vsvd.U*ss) @ Vsvd.U.T);        # U = A / V\n",
        "            UtA = U[:,:-1].T@A;\n",
        "            UtAp = (abs(UtA) + UtA) / 2;\n",
        "            UtAm = (abs(UtA) - UtA) / 2;\n",
        "            UtU =  U[:,:-1].T@U;\n",
        "            UtUp = (abs(UtU) + UtU) / 2;\n",
        "            UtUm = (abs(UtU) - UtU) / 2;\n",
        "\n",
        "            V = V * sqrt( (UtAp + UtUm@Va + beta*V) / (UtAm + UtUp@Va+beta*V + eps) )\n",
        "            Va=vstack([V,ones(V.shape[1])])\n",
        "    elif Type == 'NS': # Nonlinear Semi-NMF: min_U,V ||A - f(U V)|| s.t. V >= 0\n",
        "    \n",
        "        for  i  in range(iter1):\n",
        "            usv = low_rank_appl(Va,delta)\n",
        "            U = non_linear_lsq_br('XA',V,usv,A,U,alpha,iter2,act_func)\n",
        "    \n",
        "            usv = low_rank_appl(U[:,:-1],delta)\n",
        "            V = non_linear_lsq_br('AX',U,usv,A,V,beta,iter3,act_func)\n",
        "            \n",
        "\n",
        "    \n",
        "    return U,V"
      ],
      "execution_count": 84,
      "outputs": []
    },
    {
      "cell_type": "code",
      "metadata": {
        "run_control": {
          "marked": true
        },
        "id": "lR-GP_IbjMwM",
        "colab_type": "code",
        "colab": {}
      },
      "source": [
        ""
      ],
      "execution_count": 84,
      "outputs": []
    },
    {
      "cell_type": "markdown",
      "metadata": {
        "id": "dIxCCpxwjMwN",
        "colab_type": "text"
      },
      "source": [
        "### autoencoder_br"
      ]
    },
    {
      "cell_type": "code",
      "metadata": {
        "run_control": {
          "marked": true
        },
        "id": "qSa4XsCTjMwN",
        "colab_type": "code",
        "colab": {}
      },
      "source": [
        "def  autoencoder_br(i,A,Asvd,param,optimizer='nmf'):\n",
        "\n",
        "    \n",
        "    n,m=A.shape\n",
        "    k = param.hidden[i];\n",
        "    aeitr = param.aeitr\n",
        "    \n",
        "    if optimizer=='nmf':\n",
        "        lamb = param.nmf_lamb;\n",
        "        delta = param.delta[1];\n",
        "       \n",
        "        \n",
        "        U = np.random.rand(n,k+1); \n",
        "        V = np.random.rand(k,m);\n",
        "        W1 = zeros([k,A.shape[0]+1]) \n",
        "\n",
        "\n",
        "        for k in range (aeitr[0]):\n",
        "            U,V = nmf_br('N',A,U,V,0,0,aeitr[1],0,0,delta);\n",
        "            W1 = non_linear_lsq_br('XA',A,Asvd,V,W1,0,aeitr[2])\n",
        "            V = appl_f(W1@tilde(A))   \n",
        "            \n",
        "    elif optimizer=='adam':\n",
        "        lamb = param.bp_lamb;\n",
        "        \n",
        "        \n",
        "        model=Sequential([Dense(input_shape=(n,),units=k,use_bias=True),\n",
        "                                         Dense(units=n)])\n",
        "        model.compile(loss='mean_squared_error',optimizer='adam')\n",
        "        tf.random.set_seed(10)\n",
        "\n",
        "        model.fit(A.T,A.T,verbose=0,epochs=aeitr[0])\n",
        "        W=model.layers[0].get_weights()[0]\n",
        "        b=model.layers[0].get_weights()[1]\n",
        "        W1=vstack([W,b]).T\n",
        "    return W1\n"
      ],
      "execution_count": 85,
      "outputs": []
    },
    {
      "cell_type": "markdown",
      "metadata": {
        "id": "rQHO2HzojMwQ",
        "colab_type": "text"
      },
      "source": [
        "### compute_z_br"
      ]
    },
    {
      "cell_type": "code",
      "metadata": {
        "run_control": {
          "marked": true
        },
        "id": "iqh5_8wljMwQ",
        "colab_type": "code",
        "colab": {}
      },
      "source": [
        "def compute_z_br (X,WZ,output_act=None):\n",
        "    L=len(WZ)\n",
        "    WZ[0].Z = appl_f(WZ[0].W@tilde(X));\n",
        "    \n",
        "    for i in range(1,L-1):\n",
        "        WZ[i].Z = appl_f(WZ[i].W@tilde(WZ[i-1].Z));\n",
        "\n",
        "    WZ[L-1].Z = WZ[L-1].W @tilde(WZ[L-2].Z);\n",
        "    if output_act=='sigmoid':\n",
        "        WZ[L-1].Z =appl_f(WZ[L-1].Z ,Type='sigmoid')\n",
        "    \n",
        "    return WZ"
      ],
      "execution_count": 86,
      "outputs": []
    },
    {
      "cell_type": "markdown",
      "metadata": {
        "id": "SQG_BAQijMwS",
        "colab_type": "text"
      },
      "source": [
        "### predict_br"
      ]
    },
    {
      "cell_type": "code",
      "metadata": {
        "run_control": {
          "marked": true
        },
        "id": "96MMUs0pjMwS",
        "colab_type": "code",
        "colab": {}
      },
      "source": [
        "def  predict_br(X,W,mode='logistic'):\n",
        "    Z=X.T\n",
        "    \n",
        "    for l in range(len(W)-1):\n",
        "        Z=appl_f(W[l]@tilde(Z))\n",
        "                 \n",
        "    Z=W[len(W)-1]@tilde(Z)\n",
        "    \n",
        "    \n",
        "    if mode=='regression':\n",
        "        pred=Z\n",
        "    elif mode=='logistic':\n",
        "        pred=np.argmax(Z,axis=0)\n",
        "    \n",
        "    return pred.T"
      ],
      "execution_count": 87,
      "outputs": []
    },
    {
      "cell_type": "markdown",
      "metadata": {
        "id": "Xxb4Fe57jMwU",
        "colab_type": "text"
      },
      "source": [
        "### check_br\n",
        "```\n",
        "- itr, tt : iteration and time\n",
        "\n",
        "- X_train,X_test,Y_train,Y_test : Datasets for Check\n",
        "\n",
        "- check_factor: {'basic','hitachi'}\n",
        "```\n",
        "\n"
      ]
    },
    {
      "cell_type": "code",
      "metadata": {
        "run_control": {
          "marked": true
        },
        "id": "IxBckvRJjMwU",
        "colab_type": "code",
        "colab": {}
      },
      "source": [
        "## Psuedo \n",
        "def  check_br(itr,tt,X_train,Y_train,X_test,Y_test,WZ,check_factor='basic',check_mode='one_hot',verbose=True,output_act=None):\n",
        "    \n",
        "    WZ=weight_formatter(WZ,Type='WZ') # change the object into the WZ !\n",
        "    L=len(WZ)\n",
        "    WZ_tmp = compute_z_br(X_train,WZ,output_act=output_act); \n",
        "    Z = WZ_tmp[L-1].Z\n",
        "\n",
        "    WZ_tmp = compute_z_br(X_test,WZ,output_act=output_act);\n",
        "    Z_test = WZ_tmp[L-1].Z;\n",
        "    \n",
        "        \n",
        "   ## Norm Check ###\n",
        "    RR=error_norm(Y_train,Z,normtype='RRN')\n",
        "    RR_each = list(norm(Y_train-Z,axis=1)/norm(Y_train,axis=1))\n",
        "\n",
        "    RR_test=error_norm(Y_test,Z_test,normtype='RRN')\n",
        "    RR_test_each = list(norm(Y_test-Z_test,axis=1)/norm(Y_test,axis=1) )\n",
        "    \n",
        "    ## Error check ###    \n",
        "    id_Ytrain = np.argmax(Y_train,axis=0);\n",
        "    id_Ztrain = np.argmax(Z,axis=0);\n",
        "    id_Ytest = np.argmax(Y_test,axis=0);\n",
        "    id_Ztest = np.argmax(Z_test,axis=0);\n",
        "    p_train = 100-np.sum(id_Ztrain==id_Ytrain)/len(id_Ytrain)*100;\n",
        "    p_test = 100-np.sum(id_Ztest==id_Ytest)/len(id_Ytest)*100; \n",
        "        \n",
        "#    elif check_mode=='binary':\n",
        "#        binclass= lambda x: 1 if x>1/2 else 0\n",
        "#        id_Ztrain =np.array(list(map(binclass,list(Z.T))))\n",
        " #       id_Ztest =np.array(list(map(binclass,list(Z_test.T))))\n",
        " #       \n",
        "    \n",
        "#       p_train = np.sum(id_Ztrain==np.squeeze(Y_train.T))/len(np.squeeze(Y_train.T))*100;\n",
        "#      p_test = np.sum(id_Ztest==np.squeeze(Y_test.T))/len(np.squeeze(Y_test).T)*100;\n",
        "#     p_train = 100 - p_train;\n",
        "#    p_test = 100 - p_test;\n",
        "    if check_factor=='basic':\n",
        "        resvec=[itr,tt]+[RR]+[RR_test]+[p_train,p_test]\n",
        "    elif check_factor=='hitachi':\n",
        "        resvec = [itr,tt]+[RR]+RR_each+[RR_test]+RR_test_each+[p_train,p_test]\n",
        "    \n",
        "    \n",
        "    \n",
        "    if verbose==True:\n",
        "        if check_factor=='basic':\n",
        "            print('{:3.3f}  {:6.3f}  {:12.3f} {:12.3f}  {:12.3f}  {:12.3f} \\n'.format(itr,tt,RR,RR_test,p_train,p_test))\n",
        "        elif check_factor=='hitachi':\n",
        "            print('{:3.3f}  {:6.3f}  ---☉  [{:6.3f}] {:6.3f}  {:6.3f}  {:6.3f} {:6.3f} ---  ♦︎[{:6.3f}] {:6.3f} {:6.3f}  {:6.3f}  {:6.3f} \\n'.format(itr,tt,RR,*RR_each,RR_test,*RR_test_each));        \n",
        "\n",
        "    return resvec"
      ],
      "execution_count": 88,
      "outputs": []
    },
    {
      "cell_type": "code",
      "metadata": {
        "run_control": {
          "marked": true
        },
        "id": "MTz8HejKjMwW",
        "colab_type": "code",
        "colab": {
          "base_uri": "https://localhost:8080/",
          "height": 0
        },
        "outputId": "624edaa4-a56e-4f5f-80d3-f930134fd987"
      },
      "source": [
        " binclass= lambda x: 1 if x>1/2 else 0\n",
        "            \n",
        "id_Ztrain =list(map(binclass,np.array([[1],[0.3]])))\n",
        "id_Ztrain"
      ],
      "execution_count": 89,
      "outputs": [
        {
          "output_type": "execute_result",
          "data": {
            "text/plain": [
              "[1, 0]"
            ]
          },
          "metadata": {
            "tags": []
          },
          "execution_count": 89
        }
      ]
    },
    {
      "cell_type": "markdown",
      "metadata": {
        "id": "QkUw8QHFjMwX",
        "colab_type": "text"
      },
      "source": [
        "### check_future_nmf\n",
        "\n",
        "[arg]\n",
        "- data \n",
        "- Wb : the initial weights\n",
        "- param : the parameter for Optimization\n",
        "\n",
        "[return]\n",
        "\n",
        "- Wb_n1: the future weights\n",
        "- resvec_n1: the resvec of weights\n"
      ]
    },
    {
      "cell_type": "code",
      "metadata": {
        "run_control": {
          "marked": true
        },
        "id": "WuBAi_C4jMwX",
        "colab_type": "code",
        "colab": {}
      },
      "source": [
        "def check_future_nmf(itr,tt,X_train,Y_train,X_test,Y_test,Weights,param):\n",
        "    Weights=weight_formatter(Weights,Type='nmf_shape') # \n",
        "    \n",
        "    param_temp=param # get param_temp (to prevent deformation)\n",
        "    param_temp.init_weights=Weights\n",
        "    param_temp.nmf_initializer='switch'\n",
        "    param_temp.ftitr[0]=1\n",
        "    param_temp.verbose=True\n",
        "    param_temp.stnum=[itr-1,tt] # for one shot learning we \n",
        "    \n",
        "    Wb_n1,resvec_n1=deep_nmf_br(X_train.T,Y_train.T,X_test.T,Y_test.T,param_temp)\n",
        "    return Wb_n1,resvec_n1[-1]"
      ],
      "execution_count": 90,
      "outputs": []
    },
    {
      "cell_type": "markdown",
      "metadata": {
        "id": "jgdjWZdSjMwZ",
        "colab_type": "text"
      },
      "source": [
        "### stacked_autoencoder\n",
        "\n",
        "[arg]\n",
        "- param: parmeters\n",
        "- X_train,Y_train: arguments for autoencoder\n",
        "- W_init : arguments for switch Initializer\n",
        "\n",
        "[return]\n",
        "\n",
        "- WZ"
      ]
    },
    {
      "cell_type": "code",
      "metadata": {
        "run_control": {
          "marked": true
        },
        "id": "mt8knIDNjMwZ",
        "colab_type": "code",
        "colab": {}
      },
      "source": [
        "  def stacked_autoencoder_br(param,X_train=None,Xusv=None,Y_train=None,init_weights=None):\n",
        "        \n",
        "    \n",
        "    nx,m=X_train.shape\n",
        "    ny,_=Y_train.shape\n",
        "    L = len(param.hidden)+1\n",
        "    hidden=param.hidden\n",
        "    delta = param.delta;  \n",
        "    aeitr = param.aeitr;\n",
        "    ftitr = param.ftitr;\n",
        "    nsnmf = param.nsnmf\n",
        "    batch = param.nmf_batch\n",
        "    initializer=param.initializer\n",
        "\n",
        "    \n",
        "    WZ=[]\n",
        "    for i in range(L):\n",
        "        WZ.append(WZ_object())\n",
        "    \n",
        "    if initializer=='ae': # be careful about that this means stacked_autoencoder\n",
        "        \n",
        "        ind = np.reshape(permutation(m),[batch[0],int(m/batch[0])])            # Get Autoencoding index\n",
        "        XI = X_train[:,ind[:,0]];     # Get Autoencoding X_data\n",
        "        YI = Y_train[:,ind[:,0]];      # Get Autoencoding Y_data\n",
        "\n",
        "        XIusv=USV( U=Xusv.U,S=Xusv.S,V=Xusv.V[ind[:,0],:]) # Get XIusv for Autoencoding\n",
        "\n",
        "\n",
        "        WZ[0].W = autoencoder_br(0,XI,XIusv,param);     # Initialization using autoencoder\n",
        "        WZ[0].Z =   appl_f(WZ[0].W@tilde(XI));                      # forward propagation\n",
        "\n",
        "        for i in range(1,L-1):\n",
        "\n",
        "            usv = low_rank_appl(tilde(WZ[i-1].Z),delta[1])\n",
        "            WZ[i].W = autoencoder_br(i,WZ[i-1].Z,usv,param);\n",
        "            WZ[i].Z = appl_f(WZ[i].W@tilde(WZ[i-1].Z));\n",
        "\n",
        "\n",
        "        usv = low_rank_appl(tilde(WZ[L-2].Z),delta[1])\n",
        "        WZ[L-1].W = ((YI @usv.V) / diag(usv.S)) @ usv.U.T\n",
        "        \n",
        "    \n",
        "    return WZ\n",
        "        \n",
        "        "
      ],
      "execution_count": 91,
      "outputs": []
    },
    {
      "cell_type": "code",
      "metadata": {
        "run_control": {
          "marked": true
        },
        "id": "CTMpMU9MjMwb",
        "colab_type": "code",
        "colab": {}
      },
      "source": [
        ""
      ],
      "execution_count": 91,
      "outputs": []
    },
    {
      "cell_type": "markdown",
      "metadata": {
        "id": "5s38pqvzjMwc",
        "colab_type": "raw"
      },
      "source": [
        " ** objective function **\n",
        " \n",
        "now we will to make very simple dnn model that's hidden layer is [1]\n",
        "\n",
        "which means you will make sin model which has [1] - [1]-  [1] network\n",
        "\n",
        "and the objective function defines as $||y-w_2Relu(w_1x)||^2$"
      ]
    },
    {
      "cell_type": "code",
      "metadata": {
        "run_control": {
          "marked": true
        },
        "id": "Ob0szhXIjMwd",
        "colab_type": "code",
        "colab": {
          "base_uri": "https://localhost:8080/",
          "height": 0
        },
        "outputId": "d356b5cf-bda5-4c0d-fea6-855b093c0d50"
      },
      "source": [
        "1+1"
      ],
      "execution_count": 92,
      "outputs": [
        {
          "output_type": "execute_result",
          "data": {
            "text/plain": [
              "2"
            ]
          },
          "metadata": {
            "tags": []
          },
          "execution_count": 92
        }
      ]
    },
    {
      "cell_type": "code",
      "metadata": {
        "run_control": {
          "marked": true
        },
        "id": "ZTV-J9ZqjMwe",
        "colab_type": "code",
        "colab": {
          "base_uri": "https://localhost:8080/",
          "height": 0
        },
        "outputId": "b894c099-348d-46ea-f2ff-2c0e55e53d7e"
      },
      "source": [
        "permutation(100)"
      ],
      "execution_count": 93,
      "outputs": [
        {
          "output_type": "execute_result",
          "data": {
            "text/plain": [
              "array([45, 43, 46, 65, 54,  3, 85, 95, 15, 92, 77, 41, 86, 97, 48, 18, 90,\n",
              "       67, 19, 58,  4, 26, 70, 93, 69, 96, 37, 59, 28, 50, 64, 47, 20, 82,\n",
              "       14, 35,  6, 44, 61, 40,  5, 84, 73, 78, 34, 11, 98, 87, 79, 33, 63,\n",
              "       80, 83, 74, 32, 60, 75, 27, 52, 56, 62, 76,  9, 36, 38,  0, 49, 29,\n",
              "        7,  8,  1, 25, 94, 31, 71, 23, 53, 21, 81, 10, 91, 51, 99, 66, 22,\n",
              "       16, 68, 72, 30, 17, 55, 89, 24, 42, 39, 13, 57, 12,  2, 88])"
            ]
          },
          "metadata": {
            "tags": []
          },
          "execution_count": 93
        }
      ]
    },
    {
      "cell_type": "markdown",
      "metadata": {
        "id": "p5QsPZ9zjMwf",
        "colab_type": "text"
      },
      "source": [
        "### deep_nmf_br"
      ]
    },
    {
      "cell_type": "code",
      "metadata": {
        "run_control": {
          "marked": true
        },
        "id": "R6E1_CPijMwg",
        "colab_type": "code",
        "colab": {}
      },
      "source": [
        "def  deep_nmf_br(X_train,Y_train,X_test,Y_test,param,Xusv=None,get_svd_time=False):\n",
        "    \n",
        "   #====== Get Default Param=====================\n",
        "    tic()           #  Start Time measurement\n",
        "    t0 = abtime() #  get start time\n",
        "    tc = 0;     #  get time check variable\n",
        "    \n",
        "    m,nx=X_train.shape\n",
        "    _,ny=Y_train.shape\n",
        "    \n",
        "    hidden=param.hidden\n",
        "    L = len(hidden)+1\n",
        "    delta = param.delta;  \n",
        "    aeitr = param.aeitr;\n",
        "    ftitr = param.ftitr;\n",
        "    nsnmf = param.nsnmf;\n",
        "    batch = param.nmf_batch; \n",
        "    if (batch[1]=='full'): batch[1]=m;# full\n",
        "    lamb=param.nmf_lamb;\n",
        "    stnum=param.stnum;\n",
        "    verbose=param.verbose\n",
        "    \n",
        "    initializer=param.nmf_initializer\n",
        "    output_act=param.output_act\n",
        "    check_factor=param.check_factor\n",
        "    check_mode=param.check_mode\n",
        "    resvec=[]\n",
        "    #resvec=pd.DataFrame(columns=['iter','time','TRN','TSN','TRE','TSE'])\n",
        "    \n",
        "    #============Data PreProcessing  ======\n",
        "    X_train,Y_train,X_test,Y_test=X_train.T,Y_train.T,X_test.T,Y_test.T\n",
        "    if Xusv==None:Xusv = low_rank_appl(tilde(X_train),delta[0]) \n",
        "   # print('Time for SVD of X_train   : {:6.2f} [sec] \\n'.format(t1-t0));\n",
        "\n",
        "\n",
        "\n",
        "        \n",
        "    # ==========Initialization =====================\n",
        "    \n",
        "    \n",
        "    #------------------------Autoencoder initialization--------------------\n",
        "    if initializer=='ae':\n",
        "        print('----Autoencoder-----')\n",
        "        print('Iter          sec           TRN              TSN               TRE              TSE           ',colored( 'NMF','red'),'\\n')\n",
        "        WZ=stacked_autoencoder_br(param,X_train=X_train,Xusv=Xusv,Y_train=Y_train,init_weights=None);t2 = abtime();\n",
        "        print('---------------------------------------------------- \\n');\n",
        "       # print('Time for AutoEncoder: {:6.2f} [sec.] \\n'.format(t2-t1));\n",
        "        \n",
        "        resvec.append(check_br(stnum[0],stnum[1]+abtime()-t0,X_train,Y_train,X_test,Y_test,WZ,check_factor=check_factor)  )\n",
        "        \n",
        "    #--------------------------Swtich initializer---------------------------------\n",
        "    elif  initializer=='switch':\n",
        "\n",
        "        WZ=weight_formatter(param.init_weights,Type='WZ')\n",
        "        WZ=compute_z_br (X_train,WZ)\n",
        "        \n",
        "    elif  initializer=='randn':\n",
        "\n",
        "         WZ=weight_formatter(random_initializer (nx,hidden,ny),Type='WZ')\n",
        "            \n",
        "    # ========== NMF-Based Learning =====================\n",
        "    XIusv=USV(U=Xusv.U,S=Xusv.S,V=None)\n",
        "\n",
        "    print('Iter          sec           TRN              TSN               TRE              TSE           ',colored( 'NMF','red'),'\\n')\n",
        "    for itr in range(ftitr[0]):\n",
        "        ind = np.reshape(permutation(m),[batch[1],int(m/batch[1])])\n",
        "\n",
        "        for kk in range(int(m/batch[1])):\n",
        "\n",
        "            XI = X_train[:,ind[:,kk]]\n",
        "            YI = Y_train[:,ind[:,kk]]\n",
        "            XIusv.V=Xusv.V[ind[:,kk],:]\n",
        "            WZ = compute_z_br(XI,WZ);\n",
        "\n",
        "            WZ[L-1].W,WZ[L-2].Z= nmf_br('S',YI,WZ[L-1].W,WZ[L-2].Z,lamb[0],lamb[1],ftitr[1],0,0,0);\n",
        "            for i in range( L-2,0,-1):\n",
        "                  WZ[i].W,WZ[i-1].Z = nmf_br('NS',WZ[i].Z,WZ[i].W,WZ[i-1].Z,lamb[0],lamb[1],ftitr[2],nsnmf[0],nsnmf[1],delta[1]);   \n",
        "            WZ[0].W = non_linear_lsq_br('XA',XI,XIusv,WZ[0].Z,WZ[0].W,lamb[0],nsnmf[0]);\n",
        "            \n",
        "#============   Check Performance ==========================\n",
        "        \n",
        "        resvec.append( check_br(stnum[0]+itr+1,stnum[1]+abtime()-t0,X_train,Y_train,X_test,Y_test,WZ,check_factor=check_factor,verbose=verbose))\n",
        "        \n",
        "# ============ \n",
        "    \n",
        "    #t3 = tim();\n",
        "   # print('---------------------------------------------------- \\n');  \n",
        "    #print('Time for iteration:   {:6.2f} [sec.] \\n'.format(t3-t1));\n",
        "    #print('Total time:           {:6.2f} [sec.] \\n'.format(t3-t0));\n",
        "    #print('Total time - check:   {:6.2f} [sec.] \\n'.format(t3-t0-tc));\n",
        "    #print('---------------------------------------------------- \\n');\n",
        "    \n",
        "    return weight_formatter(WZ),resvec"
      ],
      "execution_count": 94,
      "outputs": []
    },
    {
      "cell_type": "markdown",
      "metadata": {
        "id": "-jmLQgDLjMwh",
        "colab_type": "text"
      },
      "source": [
        "### deep_bp_br"
      ]
    },
    {
      "cell_type": "code",
      "metadata": {
        "run_control": {
          "marked": true
        },
        "id": "DoDEtNldjMwh",
        "colab_type": "code",
        "colab": {}
      },
      "source": [
        "def deep_bp_br(X_train,Y_train,X_test,Y_test,param):\n",
        "    \n",
        "    #============Get Default Param=====================\n",
        "    tic();\n",
        "    t0=abtime();\n",
        "    tc=0;\n",
        "    m=X_train.shape[0]\n",
        "    hidden= param.hidden\n",
        "    epochs=param.bp_epochs\n",
        "    batch=param.bp_batch\n",
        "    optimizer=param.bp_optimizer\n",
        "    use_bias=param.use_bias\n",
        "    initializer=param.bp_initializer\n",
        "    stnum=param.stnum\n",
        "    lamb=param.bp_lamb\n",
        "    aeitr=param.aeitr\n",
        "    check_factor=param.check_factor\n",
        "\n",
        "    L=len(hidden)+1\n",
        "    resvec=[]\n",
        "    #resvec=pd.DataFrame(columns=['iter','time','TRN','TSN','TRE','TSE'])\n",
        "    WZ=[]\n",
        "\n",
        " #  ❍ Build Model\n",
        "    model=get_sequential_model(X_train,Y_train,X_test,Y_test,param)\n",
        "################# Initialization ########################\n",
        "#------------------ initializer1: Autoencoder -----------------------------\n",
        "    if initializer=='ae':\n",
        "        ind = permutation(m)[:batch[0]]  # Get Autoencoding index\n",
        "        XI = X_train[ind,:];     # Get Autoencoding X_data\n",
        "        YI = Y_train[ind,:];      # Get Autoencoding Y_data\n",
        "       \n",
        "        Wb=autoencoder_br(0,XI.T,None,param,optimizer='adam');     # Initialization using autoencoder\n",
        "        Z=   appl_f(Wb@(tilde(XI.T)));                      # forward prop\n",
        "    \n",
        "        model.layers[0].set_weights ([Wb[:,:-1].T,Wb[:,-1]]);  # Initialization using autoencoder\n",
        "        for i in range(1,L-1):\n",
        "            Wb=autoencoder_br(i,Z,None,param,optimizer='adam');\n",
        "            model.layers[i].set_weights ([Wb[:,:-1].T,Wb[:,-1]])\n",
        "            Z= appl_f(Wb@tilde(Z));\n",
        "          \n",
        "        lastmodel=Sequential([Dense(input_shape=(hidden[-1],),units=Y_train.shape[1],use_bias=True )])\n",
        "        lastmodel.compile(loss='mean_squared_error',optimizer='adam')\n",
        "        lastmodel.fit(Z.T,YI,verbose=0,batch_size=batch[1],epochs=aeitr[0])\n",
        "        \n",
        "        W,b=lastmodel.get_weights()[0],lastmodel.get_weights()[1]\n",
        "        model.layers[L-1].set_weights ([W,b])\n",
        "        \n",
        "\n",
        " ## ------------ check performance of Autoencoder-------------------\n",
        "        print('----Autoencoder-----')\n",
        "        print('Iter          sec           TRN              TSN               TRE              TSE           ',colored( 'BP','blue'),'\\n')\n",
        "        Wb=model.get_weights()\n",
        "        resvec.append(check_br(stnum[0],stnum[1]+abtime()-t0,X_train.T,Y_train.T,X_test.T,Y_test.T,Wb,check_factor=check_factor));\n",
        "    \n",
        "# ---------- Initializer 2: Switch Initializer --------------------\n",
        "    elif initializer=='switch':\n",
        "        \n",
        "        Wb=weight_formatter(param.init_weights,'keras_shape')\n",
        "        model.set_weights(Wb) # set_weights in the divided form\n",
        "        \n",
        "    model.compile(loss='mean_squared_error',optimizer=optimizer)\n",
        "    \n",
        "    print('Iter          sec           TRN              TSN               TRE              TSE           ',colored( 'BP','blue'),'\\n')\n",
        "    \n",
        "    for epoch in range(epochs):\n",
        "        tf.random.set_seed(10)\n",
        "        model.fit(x=X_train,y=Y_train,batch_size=batch[1],epochs=1,validation_data=(X_test,Y_test),verbose=0);tc0=abtime()\n",
        "        Wb=model.get_weights()\n",
        "        check_res=check_br(stnum[0]+epoch+1,stnum[1]+abtime()-t0,X_train.T,Y_train.T,X_test.T,Y_test.T,Wb,check_factor=check_factor)\n",
        "        resvec.append( check_res);\n",
        "        tc=tc+(abtime()-tc0);\n",
        "    K.backend.clear_session()\n",
        "    \n",
        "    return weight_formatter(Wb),resvec"
      ],
      "execution_count": 95,
      "outputs": []
    },
    {
      "cell_type": "markdown",
      "metadata": {
        "id": "9hWPGXgRjMwi",
        "colab_type": "text"
      },
      "source": [
        "### switch_br"
      ]
    },
    {
      "cell_type": "markdown",
      "metadata": {
        "id": "2yTRUxgQjMwi",
        "colab_type": "text"
      },
      "source": [
        "[arg]\n",
        "-  X_train,y_train,X_test,y_test : Data<br>\n",
        " \n",
        " \n",
        " - param : nn_param object ;  parameters for bp learning\n",
        "  - hidden : hidden layer\n",
        "  - epochs : the number of epochs to train\n",
        "  - optimizer : optimizing algorithm\n",
        "  - nmf_batch : nmf batchsize\n",
        "  - bp_batch: bp_batchsize\n",
        "  \n",
        "  \n",
        " - s_param : switch_param object\n",
        "  - starter : starting algorithm ($\\in$ {'nmf' , 'adam'})\n",
        "  - epochs: epochs of algorithm\n",
        "  - plot_ax: the axes to plotting\n",
        "  \n",
        "[return]\n",
        "\n",
        "\n",
        " -  W : the trained weights\n",
        " -  RESVEC: all trace of each epochs"
      ]
    },
    {
      "cell_type": "code",
      "metadata": {
        "hide_input": true,
        "run_control": {
          "marked": true
        },
        "id": "P3TbTCK1jMwj",
        "colab_type": "code",
        "colab": {}
      },
      "source": [
        "def switch_br(X_train,Y_train,X_test,Y_test,param):\n",
        "    \n",
        "    param.dnn_solver=param.switch_starter        #  get starter\n",
        "    epochs_list=param.switch_epochs\n",
        "    RESVEC=[]\n",
        "    \n",
        "    param.get_epoch(epochs_list[0])\n",
        "    W,resvec=   deep_nn_br(X_train,Y_train,X_test,Y_test,param)   \n",
        "    RESVEC.extend(resvec)\n",
        "    param.stnum=resvec[-1][:2] # change start time and num\n",
        "    param.bp_initializer='switch' #   switch mode\n",
        "    param.nmf_initializer='switch' #   switch mode\n",
        "\n",
        "    \n",
        "    for k in range(1,len(epochs_list)):\n",
        "        param.init_weights=W # another weights\n",
        "        param.convert_solver() # convert optimizing algorithm\n",
        "        param.get_epoch(epochs_list[k])\n",
        "        \n",
        "        W,resvec=  deep_nn_br(X_train,Y_train,X_test,Y_test,param) \n",
        "        RESVEC.extend(resvec)\n",
        "        param.stnum=resvec[-1][:2]\n",
        "        \n",
        "    param.stnum=[0,0] # revert start num \n",
        "    # plotting\n",
        "        \n",
        "    \n",
        "    \n",
        "    return W,RESVEC"
      ],
      "execution_count": 96,
      "outputs": []
    },
    {
      "cell_type": "code",
      "metadata": {
        "run_control": {
          "marked": true
        },
        "id": "4FMMn96_jMwk",
        "colab_type": "code",
        "colab": {
          "base_uri": "https://localhost:8080/",
          "height": 0
        },
        "outputId": "3f7d25fe-fcc1-4f66-879e-6a0cb599e68b"
      },
      "source": [
        "a=[[1],[2]]\n",
        "b=[[3]]\n",
        "a.extend(b)\n",
        "print(a)"
      ],
      "execution_count": 97,
      "outputs": [
        {
          "output_type": "stream",
          "text": [
            "[[1], [2], [3]]\n"
          ],
          "name": "stdout"
        }
      ]
    },
    {
      "cell_type": "markdown",
      "metadata": {
        "id": "9wDuOqtCjMwl",
        "colab_type": "text"
      },
      "source": [
        "### bpn1_br\n",
        "\n",
        "[arg]\n",
        "\n",
        "- data\n",
        "- param\n",
        "\n",
        "[return]\n",
        "\n",
        "- Wb,\n",
        "- resvec_bp\n",
        "- resvec_n1"
      ]
    },
    {
      "cell_type": "code",
      "metadata": {
        "code_folding": [],
        "run_control": {
          "marked": true
        },
        "id": "aEj0iR3zjMwn",
        "colab_type": "code",
        "colab": {}
      },
      "source": [
        "def bpn1_br(X_train,Y_train,X_test,Y_test,param):\n",
        "    \n",
        "    #============Get Default Param=====================\n",
        "    tic();\n",
        "    t0=abtime();\n",
        "    tc=0;\n",
        "    m,nx=X_train.shape\n",
        "    _,ny=Y_train.shape\n",
        "    hidden= param.hidden\n",
        "    epochs=param.bp_epochs\n",
        "    batch=param.bp_batch\n",
        "    optimizer=param.bp_optimizer\n",
        "    use_bias=param.use_bias\n",
        "    initializer=param.bp_initializer\n",
        "    stnum=param.stnum\n",
        "    lamb=param.bp_lamb\n",
        "    aeitr=param.aeitr\n",
        "    check_factor=param.check_factor\n",
        "    eval_term=param.eval_term\n",
        "    L=len(hidden)+1\n",
        "    resvec_bp=[]\n",
        "    resvec_nmf=[]\n",
        "    WZ=[]\n",
        "\n",
        " #  ❍ Build Model\n",
        "    model=get_sequential_model(X_train,Y_train,X_test,Y_test,param)\n",
        "    \n",
        "# check future nmf \n",
        "    random_weight=random_initializer (nx,hidden,ny) # get random weight for future_nmf\n",
        "    print('======================================================')\n",
        "    Wb_n1,check_nmf=check_future_nmf(stnum[0],stnum[1]+abtime()-t0,X_train.T,Y_train.T,X_test.T,Y_test.T,random_weight,param) # get future weight and resvec\n",
        "    print('======================================================')\n",
        "#------------------ initializer1: Autoencoder -----------------------------\n",
        "    if initializer=='ae':\n",
        "        np.random.seed(220)\n",
        "        ind = permutation(m)[:batch[0]]  # Get Autoencoding index\n",
        "        XI = X_train[ind,:];     # Get Autoencoding X_data\n",
        "        YI = Y_train[ind,:];      # Get Autoencoding Y_data\n",
        "       \n",
        "        Wb=autoencoder_br(0,XI.T,None,param,optimizer='adam');     # Initialization using autoencoder\n",
        "        Z=   appl_f(Wb@(tilde(XI.T)));                      # forward prop\n",
        "    \n",
        "        model.layers[0].set_weights ([Wb[:,:-1].T,Wb[:,-1]]);  # Initialization using autoencoder\n",
        "        for i in range(1,L-1):\n",
        "            Wb=autoencoder_br(i,Z,None,param,optimizer='adam');\n",
        "            model.layers[i].set_weights ([Wb[:,:-1].T,Wb[:,-1]])\n",
        "            Z= appl_f(Wb@tilde(Z));\n",
        "          \n",
        "        lastmodel=Sequential([Dense(input_shape=(hidden[-1],),units=Y_train.shape[1],use_bias=True )])\n",
        "        lastmodel.compile(loss='mean_squared_error',optimizer='adam')\n",
        "        lastmodel.fit(Z.T,YI,verbose=0,batch_size=batch[1],epochs=aeitr[0])\n",
        "        \n",
        "        W,b=lastmodel.get_weights()[0],lastmodel.get_weights()[1]\n",
        "        model.layers[L-1].set_weights ([W,b])\n",
        "        \n",
        "\n",
        "        \n",
        " ## ------------ check performance of Autoencoder-------------------\n",
        "        print('----Autoencoder-----')\n",
        "        print('Iter          sec           TRN              TSN               TRE              TSE           ',colored( 'BP','blue'),'\\n')\n",
        "        Wb=model.get_weights()\n",
        "        resvec_bp.append(check_br(stnum[0],stnum[1]+abtime()-t0,X_train.T,Y_train.T,X_test.T,Y_test.T,Wb,check_factor=check_factor));\n",
        "        \n",
        "# ---------- Initializer 2: Switch Initializer --------------------\n",
        "    elif initializer=='switch':\n",
        "        \n",
        "        Wb=weight_formatter(param.init_weights,'keras_shape')\n",
        "        model.set_weights(Wb) # set_weights in the divided form\n",
        "        \n",
        "    elif initializer =='randn':\n",
        "        Wb=weight_formatter(random_weight,Type='WZ')\n",
        "\n",
        "    resvec_nmf.append(check_nmf)\n",
        "#============BP Learning ===========        \n",
        "    model.compile(loss='mean_squared_error',optimizer=optimizer)\n",
        "    print('Iter          sec           TRN              TSN               TRE              TSE           ',colored( 'BP','blue'),'\\n')\n",
        "\n",
        "    for epoch in range(epochs):\n",
        "        tf.random.set_seed(200)\n",
        "        np.random.seed(200)\n",
        "        random.seed(200)\n",
        "            \n",
        "        model.fit(x=X_train,y=Y_train,batch_size=batch[1],epochs=1,validation_data=(X_test,Y_test),verbose=0);tc0=abtime() # train 1-epoch\n",
        "        Wb=model.get_weights()           # extract weight\n",
        "        check_bp=check_br(stnum[0]+epoch+1,stnum[1]+abtime()-t0,X_train.T,Y_train.T,X_test.T,Y_test.T,Wb,check_factor=check_factor)# check the performance of epoch\n",
        "        resvec_bp.append(check_bp); # reserve check_value to resvec\n",
        "        \n",
        "        # N1_check #\n",
        "        \n",
        "        if (epoch+1)%eval_term==0:\n",
        "            print('======================================================')\n",
        "            Wb_n1,check_nmf=check_future_nmf(stnum[0]+epoch+1,stnum[1]+abtime()-t0,X_train.T,Y_train.T,X_test.T,Y_test.T,Wb,param) # get future weight and resvec\n",
        "            print('======================================================')\n",
        "            resvec_nmf.append(check_nmf)\n",
        "        \n",
        "        \n",
        "        \n",
        "        #tc=tc+(toc()-tc0);\n",
        "        \n",
        "        \n",
        "    K.backend.clear_session()\n",
        "    \n",
        "    return weight_formatter(Wb),resvec_bp, resvec_nmf"
      ],
      "execution_count": 98,
      "outputs": []
    },
    {
      "cell_type": "markdown",
      "metadata": {
        "id": "UaAA-zg5jMwo",
        "colab_type": "text"
      },
      "source": [
        "### deep_nn_br\n",
        "   \n",
        "   put together deep_bp and deep_nmf "
      ]
    },
    {
      "cell_type": "code",
      "metadata": {
        "run_control": {
          "marked": true
        },
        "id": "7Pf8ZBMujMwr",
        "colab_type": "code",
        "colab": {}
      },
      "source": [
        "def deep_nn_br(X_train,Y_train,X_test,Y_test,param):\n",
        "    if param.dnn_solver == 'nmf':\n",
        "        Wb,resvec=deep_nmf_br(X_train,Y_train,X_test,Y_test,param)\n",
        "    elif param.dnn_solver=='bp':\n",
        "        Wb,resvec=deep_bp_br(X_train,Y_train,X_test,Y_test,param)\n",
        "    elif param.dnn_solver=='switch':\n",
        "        Wb,resvec=switch_br(X_train,Y_train,X_test,Y_test,param)\n",
        "    elif param.dnn_solver=='bpn1':\n",
        "        Wb,resvec_bp,resvec=bpn1_br(X_train,Y_train,X_test,Y_test,param)\n",
        "        \n",
        "    param.stnum=[0,0] # revert to original record\n",
        "    return Wb,resvec"
      ],
      "execution_count": 99,
      "outputs": []
    },
    {
      "cell_type": "markdown",
      "metadata": {
        "id": "MJuDo6HojMws",
        "colab_type": "text"
      },
      "source": [
        "ii## Setting Tuning\n",
        "\n",
        "In this section, you will specify parameters depending on the type of dataset. and make it pickle so that you will easily access this data"
      ]
    },
    {
      "cell_type": "markdown",
      "metadata": {
        "id": "p-zsr1I6jMwt",
        "colab_type": "text"
      },
      "source": [
        "### test parameter"
      ]
    },
    {
      "cell_type": "markdown",
      "metadata": {
        "id": "Qzf_NIbKjMwt",
        "colab_type": "text"
      },
      "source": [
        "## set_default parameter"
      ]
    },
    {
      "cell_type": "markdown",
      "metadata": {
        "id": "g1OAxA4RjMwt",
        "colab_type": "text"
      },
      "source": [
        "### DataFrame for store parameters\n"
      ]
    },
    {
      "cell_type": "code",
      "metadata": {
        "id": "QPu-XaVRjMwt",
        "colab_type": "code",
        "colab": {}
      },
      "source": [
        ""
      ],
      "execution_count": 99,
      "outputs": []
    },
    {
      "cell_type": "code",
      "metadata": {
        "run_control": {
          "marked": true
        },
        "id": "cpZudAJBjMwv",
        "colab_type": "code",
        "colab": {}
      },
      "source": [
        "names_of_dataset=['mnist','iris','airfoil','breast_cancer','hitachi','letter_recognition','digits','covertype','shuttle']\n",
        "names_of_parameter= ['hidden','bp_lamb','nmf_lamb','bp_batch','nmf_batch','bp_initializer','nmf_initializer','delta','eval_term']\n",
        "\n",
        "df=pd.DataFrame(index=names_of_dataset,columns=names_of_parameter)"
      ],
      "execution_count": 100,
      "outputs": []
    },
    {
      "cell_type": "code",
      "metadata": {
        "run_control": {
          "marked": true
        },
        "id": "tXDvpsGBjMww",
        "colab_type": "code",
        "colab": {}
      },
      "source": [
        ""
      ],
      "execution_count": 100,
      "outputs": []
    },
    {
      "cell_type": "code",
      "metadata": {
        "run_control": {
          "marked": true
        },
        "id": "gRb83KVvjMwy",
        "colab_type": "code",
        "colab": {}
      },
      "source": [
        "mnist_param=([1000,500],[1e-3,1e-5],[1e-3,1e-5],[5000,100],[5000,5000],'ae','ae',[4e-2,1e-14],10)\n",
        "\n",
        "hitachi_param=([500],[1e-3,1e-3],[1e-3,1e-3],[500,100],[0,'full'],'ae','randn',[0,0],10)\n",
        "\n",
        "airfoil_param=([100],[5e-3,5e-3],[5e-3,5e-3],[500,50],[0,'full'],'ae','randn',[0,0],10)\n",
        "\n",
        "concrete_param=([300],[1e-3,1e-3],[1e-2,1e-2],[500,50],[0,'full'],'ae','randn',[0,0],10)\n",
        "\n",
        "digits_param=([300],[1e-2,1e-2],[1e-2,1e-2],[500,50],[0,'full'],'ae','randn',[0,0],15)\n",
        "\n",
        "shuttle_param=([500],[1e-1,1e-1],[3e-1,3e-1],[1000,50],[0,2900],'ae','randn',[0,0],10)\n",
        "\n",
        "letter_recognition_param=([500],[1e-3,1e-3],[1e-3,1e-3],[1000,50],[0,'full'],'ae','randn',[0,0],10)\n",
        "\n",
        "sensorless_drive_param=([500],[1e-2,1e-2],[1e-2,1e-2],[5000,50],[0,'full'],'ae','randn',[0,0],10)\n",
        "covertype_param=([500])\n",
        "seg_param=([500],[1e-2,1e-2],[1e-2,1e-2],[5000,50],[0,'full'],'ae','randn',[0,0],10)\n",
        "\n",
        "df.loc['mnist']=mnist_param\n",
        "df.loc['airfoil']=airfoil_param\n",
        "df.loc['concrete']=concrete_param\n",
        "df.loc['hitachi']=hitachi_param\n",
        "df.loc['letter_recognition']=letter_recognition_param\n",
        "df.loc['digits']=digits_param\n",
        "df.loc['shuttle']=shuttle_param\n",
        "df.loc['sensorless_drive']=sensorless_drive_param\n",
        "df.loc['segmentation']=seg_param"
      ],
      "execution_count": 101,
      "outputs": []
    },
    {
      "cell_type": "code",
      "metadata": {
        "id": "8AvWsPyWjMwz",
        "colab_type": "code",
        "colab": {
          "base_uri": "https://localhost:8080/",
          "height": 0
        },
        "outputId": "39c968fe-108c-4cdd-91c8-f36560cbadee"
      },
      "source": [
        "df.loc['segmentation']"
      ],
      "execution_count": 102,
      "outputs": [
        {
          "output_type": "execute_result",
          "data": {
            "text/plain": [
              "hidden                    [500]\n",
              "bp_lamb            [0.01, 0.01]\n",
              "nmf_lamb           [0.01, 0.01]\n",
              "bp_batch             [5000, 50]\n",
              "nmf_batch             [0, full]\n",
              "bp_initializer               ae\n",
              "nmf_initializer           randn\n",
              "delta                    [0, 0]\n",
              "eval_term                    10\n",
              "Name: segmentation, dtype: object"
            ]
          },
          "metadata": {
            "tags": []
          },
          "execution_count": 102
        }
      ]
    },
    {
      "cell_type": "markdown",
      "metadata": {
        "id": "FcygGfdVjMw0",
        "colab_type": "text"
      },
      "source": [
        "### get_param_from_df\n",
        "\n",
        "[arg]\n",
        "\n",
        "df: dataframe that contains the inforamation of param\n",
        "dataset: ('str')the name of dataset \n",
        "\n",
        "[return]\n",
        "param: (nn_param object) parameter to tuning"
      ]
    },
    {
      "cell_type": "code",
      "metadata": {
        "run_control": {
          "marked": true
        },
        "id": "ca7t1fIfjMw0",
        "colab_type": "code",
        "colab": {}
      },
      "source": [
        "def get_param_from_df(df,dataset,show_info=False):\n",
        "    param_list=df.loc[dataset] # get the dataset of \n",
        "    param=nn_param()\n",
        "    param.hidden=param_list['hidden']\n",
        "    param.bp_lamb=param_list['bp_lamb']\n",
        "    param.nmf_lamb=param_list['nmf_lamb']\n",
        "    param.bp_batch=param_list['bp_batch']\n",
        "    param.nmf_batch=param_list['nmf_batch']\n",
        "    param.bp_initializer=param_list['bp_initializer']\n",
        "    param.nmf_initializer=param_list['nmf_initializer']\n",
        "    param.delta=param_list['delta']\n",
        "    param.eval_term=param_list['eval_term']\n",
        "    \n",
        "    if show_info ==True:\n",
        "        print(param_list)\n",
        "    return param\n",
        "    "
      ],
      "execution_count": 103,
      "outputs": []
    },
    {
      "cell_type": "markdown",
      "metadata": {
        "id": "ixpfQlMtjMw2",
        "colab_type": "text"
      },
      "source": [
        "## Performace Evaluation"
      ]
    },
    {
      "cell_type": "markdown",
      "metadata": {
        "id": "ovgJL6M2p0ln",
        "colab_type": "text"
      },
      "source": [
        ""
      ]
    },
    {
      "cell_type": "markdown",
      "metadata": {
        "id": "x8hYxytejMw2",
        "colab_type": "text"
      },
      "source": [
        "### load data"
      ]
    },
    {
      "cell_type": "code",
      "metadata": {
        "run_control": {
          "marked": true
        },
        "scrolled": true,
        "id": "j8-VS71MjMw2",
        "colab_type": "code",
        "colab": {
          "base_uri": "https://localhost:8080/",
          "height": 85
        },
        "outputId": "6372b8c7-f244-4a9f-ba8d-09e48d3f4b54"
      },
      "source": [
        "dataset=input('please input the title of dataset (ex: airfoil ) ') # select datset from {hitachi, airfoil, concrete ,digits, letter_recognition,...} \n",
        "(X_train,Y_train),(X_test,Y_test)=get_data(dataset,data_info=True,scaling=True)"
      ],
      "execution_count": 149,
      "outputs": [
        {
          "output_type": "stream",
          "text": [
            "please input the title of dataset (ex: airfoil ) airfoil\n",
            "this data type is [airfoil]\n",
            "the shape of X_train is (1052, 5)  Y_train is (1052, 1)\n",
            "the shape of X_test is (451, 5) Y_test is (451, 1)\n"
          ],
          "name": "stdout"
        }
      ]
    },
    {
      "cell_type": "code",
      "metadata": {
        "id": "jzbPMCqJjMw4",
        "colab_type": "code",
        "colab": {
          "base_uri": "https://localhost:8080/",
          "height": 187
        },
        "outputId": "1fb4af38-caab-47a7-da77-464d4f8b4cb3"
      },
      "source": [
        "param=get_param_from_df(df=df,dataset=dataset,show_info=True)  ## Parameter\n"
      ],
      "execution_count": 168,
      "outputs": [
        {
          "output_type": "stream",
          "text": [
            "hidden                      [100]\n",
            "bp_lamb            [0.005, 0.005]\n",
            "nmf_lamb           [0.005, 0.005]\n",
            "bp_batch                [500, 50]\n",
            "nmf_batch               [0, 1052]\n",
            "bp_initializer                 ae\n",
            "nmf_initializer             randn\n",
            "delta                      [0, 0]\n",
            "eval_term                      10\n",
            "Name: airfoil, dtype: object\n"
          ],
          "name": "stdout"
        }
      ]
    },
    {
      "cell_type": "code",
      "metadata": {
        "id": "jAsxG1WBjMw6",
        "colab_type": "code",
        "colab": {}
      },
      "source": [
        ""
      ],
      "execution_count": 168,
      "outputs": []
    },
    {
      "cell_type": "markdown",
      "metadata": {
        "id": "N7v-q_b_jMw8",
        "colab_type": "text"
      },
      "source": [
        "### test 1: BP & NMF & Switch"
      ]
    },
    {
      "cell_type": "code",
      "metadata": {
        "id": "dw2bg8oyjMw8",
        "colab_type": "code",
        "colab": {}
      },
      "source": [
        "seed=2020"
      ],
      "execution_count": 169,
      "outputs": []
    },
    {
      "cell_type": "code",
      "metadata": {
        "id": "mtgrkUZVjMw9",
        "colab_type": "code",
        "colab": {
          "base_uri": "https://localhost:8080/",
          "height": 1000
        },
        "outputId": "2fae323d-3537-4114-fbdb-58805f48a779"
      },
      "source": [
        "param.reset_record()\n",
        "param.bp_initializer='randn'\n",
        "param.bp_epochs=100 # the number of Backpropagtion epoch\n",
        "set_random_seed(seed) \n",
        "_,resvec_b=deep_bp_br(X_train,Y_train,X_test,Y_test,param) # BP learning "
      ],
      "execution_count": 170,
      "outputs": [
        {
          "output_type": "stream",
          "text": [
            "Iter          sec           TRN              TSN               TRE              TSE            \u001b[34mBP\u001b[0m \n",
            "\n",
            "1.000   0.917         0.567        0.559         0.000         0.000 \n",
            "\n",
            "2.000   1.122         0.464        0.433         0.000         0.000 \n",
            "\n",
            "3.000   1.324         0.416        0.401         0.000         0.000 \n",
            "\n",
            "4.000   1.539         0.377        0.369         0.000         0.000 \n",
            "\n",
            "5.000   1.739         0.336        0.331         0.000         0.000 \n",
            "\n",
            "6.000   1.932         0.300        0.298         0.000         0.000 \n",
            "\n",
            "7.000   2.132         0.271        0.272         0.000         0.000 \n",
            "\n",
            "8.000   2.326         0.250        0.251         0.000         0.000 \n",
            "\n",
            "9.000   2.529         0.236        0.236         0.000         0.000 \n",
            "\n",
            "10.000   2.730         0.225        0.225         0.000         0.000 \n",
            "\n",
            "11.000   2.932         0.218        0.218         0.000         0.000 \n",
            "\n",
            "12.000   3.122         0.213        0.212         0.000         0.000 \n",
            "\n",
            "13.000   3.321         0.209        0.208         0.000         0.000 \n",
            "\n",
            "14.000   3.533         0.207        0.205         0.000         0.000 \n",
            "\n",
            "15.000   3.736         0.205        0.203         0.000         0.000 \n",
            "\n",
            "16.000   3.942         0.203        0.201         0.000         0.000 \n",
            "\n",
            "17.000   4.147         0.201        0.199         0.000         0.000 \n",
            "\n",
            "18.000   4.342         0.200        0.198         0.000         0.000 \n",
            "\n",
            "19.000   4.553         0.198        0.196         0.000         0.000 \n",
            "\n",
            "20.000   4.752         0.197        0.195         0.000         0.000 \n",
            "\n",
            "21.000   4.953         0.196        0.194         0.000         0.000 \n",
            "\n",
            "22.000   5.145         0.195        0.193         0.000         0.000 \n",
            "\n",
            "23.000   5.341         0.194        0.192         0.000         0.000 \n",
            "\n",
            "24.000   5.539         0.193        0.191         0.000         0.000 \n",
            "\n",
            "25.000   5.748         0.192        0.191         0.000         0.000 \n",
            "\n",
            "26.000   5.941         0.191        0.190         0.000         0.000 \n",
            "\n",
            "27.000   6.137         0.191        0.189         0.000         0.000 \n",
            "\n",
            "28.000   6.329         0.190        0.188         0.000         0.000 \n",
            "\n",
            "29.000   6.539         0.189        0.188         0.000         0.000 \n",
            "\n",
            "30.000   6.754         0.188        0.187         0.000         0.000 \n",
            "\n",
            "31.000   6.975         0.187        0.186         0.000         0.000 \n",
            "\n",
            "32.000   7.216         0.187        0.186         0.000         0.000 \n",
            "\n",
            "33.000   7.455         0.186        0.186         0.000         0.000 \n",
            "\n",
            "34.000   7.660         0.185        0.185         0.000         0.000 \n",
            "\n",
            "35.000   7.864         0.184        0.185         0.000         0.000 \n",
            "\n",
            "36.000   8.064         0.184        0.184         0.000         0.000 \n",
            "\n",
            "37.000   8.261         0.183        0.184         0.000         0.000 \n",
            "\n",
            "38.000   8.468         0.182        0.183         0.000         0.000 \n",
            "\n",
            "39.000   8.678         0.182        0.182         0.000         0.000 \n",
            "\n",
            "40.000   8.876         0.181        0.182         0.000         0.000 \n",
            "\n",
            "41.000   9.085         0.180        0.182         0.000         0.000 \n",
            "\n",
            "42.000   9.284         0.180        0.181         0.000         0.000 \n",
            "\n",
            "43.000   9.498         0.179        0.181         0.000         0.000 \n",
            "\n",
            "44.000   9.706         0.178        0.181         0.000         0.000 \n",
            "\n",
            "45.000   9.913         0.178        0.181         0.000         0.000 \n",
            "\n",
            "46.000  10.117         0.177        0.180         0.000         0.000 \n",
            "\n",
            "47.000  10.316         0.177        0.180         0.000         0.000 \n",
            "\n",
            "48.000  10.525         0.176        0.179         0.000         0.000 \n",
            "\n",
            "49.000  10.735         0.175        0.179         0.000         0.000 \n",
            "\n",
            "50.000  10.932         0.174        0.178         0.000         0.000 \n",
            "\n",
            "51.000  11.152         0.174        0.178         0.000         0.000 \n",
            "\n",
            "52.000  11.372         0.173        0.178         0.000         0.000 \n",
            "\n",
            "53.000  11.584         0.172        0.178         0.000         0.000 \n",
            "\n",
            "54.000  11.789         0.171        0.177         0.000         0.000 \n",
            "\n",
            "55.000  11.984         0.171        0.177         0.000         0.000 \n",
            "\n",
            "56.000  12.178         0.170        0.177         0.000         0.000 \n",
            "\n",
            "57.000  12.374         0.169        0.177         0.000         0.000 \n",
            "\n",
            "58.000  12.576         0.168        0.176         0.000         0.000 \n",
            "\n",
            "59.000  12.778         0.168        0.176         0.000         0.000 \n",
            "\n",
            "60.000  12.973         0.167        0.176         0.000         0.000 \n",
            "\n",
            "61.000  13.164         0.166        0.176         0.000         0.000 \n",
            "\n",
            "62.000  13.364         0.166        0.175         0.000         0.000 \n",
            "\n",
            "63.000  13.561         0.165        0.175         0.000         0.000 \n",
            "\n",
            "64.000  13.762         0.164        0.175         0.000         0.000 \n",
            "\n",
            "65.000  13.954         0.163        0.175         0.000         0.000 \n",
            "\n",
            "66.000  14.157         0.163        0.174         0.000         0.000 \n",
            "\n",
            "67.000  14.349         0.162        0.173         0.000         0.000 \n",
            "\n",
            "68.000  14.547         0.161        0.173         0.000         0.000 \n",
            "\n",
            "69.000  14.750         0.160        0.172         0.000         0.000 \n",
            "\n",
            "70.000  14.956         0.159        0.171         0.000         0.000 \n",
            "\n",
            "71.000  15.148         0.158        0.171         0.000         0.000 \n",
            "\n",
            "72.000  15.342         0.157        0.170         0.000         0.000 \n",
            "\n",
            "73.000  15.541         0.157        0.170         0.000         0.000 \n",
            "\n",
            "74.000  15.761         0.156        0.169         0.000         0.000 \n",
            "\n",
            "75.000  15.966         0.155        0.169         0.000         0.000 \n",
            "\n",
            "76.000  16.164         0.154        0.168         0.000         0.000 \n",
            "\n",
            "77.000  16.361         0.153        0.167         0.000         0.000 \n",
            "\n",
            "78.000  16.565         0.153        0.167         0.000         0.000 \n",
            "\n",
            "79.000  16.767         0.152        0.166         0.000         0.000 \n",
            "\n",
            "80.000  16.963         0.151        0.165         0.000         0.000 \n",
            "\n",
            "81.000  17.159         0.150        0.165         0.000         0.000 \n",
            "\n",
            "82.000  17.358         0.149        0.164         0.000         0.000 \n",
            "\n",
            "83.000  17.585         0.149        0.163         0.000         0.000 \n",
            "\n",
            "84.000  17.787         0.148        0.163         0.000         0.000 \n",
            "\n",
            "85.000  17.985         0.147        0.162         0.000         0.000 \n",
            "\n",
            "86.000  18.180         0.146        0.162         0.000         0.000 \n",
            "\n",
            "87.000  18.383         0.146        0.161         0.000         0.000 \n",
            "\n",
            "88.000  18.581         0.145        0.161         0.000         0.000 \n",
            "\n",
            "89.000  18.781         0.145        0.160         0.000         0.000 \n",
            "\n",
            "90.000  18.976         0.144        0.160         0.000         0.000 \n",
            "\n",
            "91.000  19.171         0.143        0.159         0.000         0.000 \n",
            "\n",
            "92.000  19.361         0.143        0.159         0.000         0.000 \n",
            "\n",
            "93.000  19.560         0.142        0.158         0.000         0.000 \n",
            "\n",
            "94.000  19.755         0.142        0.158         0.000         0.000 \n",
            "\n",
            "95.000  19.965         0.141        0.157         0.000         0.000 \n",
            "\n",
            "96.000  20.157         0.141        0.157         0.000         0.000 \n",
            "\n",
            "97.000  20.355         0.140        0.157         0.000         0.000 \n",
            "\n",
            "98.000  20.550         0.140        0.157         0.000         0.000 \n",
            "\n",
            "99.000  20.754         0.139        0.156         0.000         0.000 \n",
            "\n",
            "100.000  20.953         0.139        0.156         0.000         0.000 \n",
            "\n"
          ],
          "name": "stdout"
        }
      ]
    },
    {
      "cell_type": "code",
      "metadata": {
        "id": "tKuRcc45q9TQ",
        "colab_type": "code",
        "colab": {
          "base_uri": "https://localhost:8080/",
          "height": 34
        },
        "outputId": "d3b90cc7-4790-4298-92cc-5f1645950813"
      },
      "source": [
        "X_train.shape"
      ],
      "execution_count": 171,
      "outputs": [
        {
          "output_type": "execute_result",
          "data": {
            "text/plain": [
              "(1052, 5)"
            ]
          },
          "metadata": {
            "tags": []
          },
          "execution_count": 171
        }
      ]
    },
    {
      "cell_type": "code",
      "metadata": {
        "scrolled": true,
        "id": "P8AYlkP5jMw_",
        "colab_type": "code",
        "colab": {
          "base_uri": "https://localhost:8080/",
          "height": 1000
        },
        "outputId": "929a88d0-28cf-47cc-97c4-d54e0f954cd2"
      },
      "source": [
        "param.reset_record()\n",
        "param.ftitr[0]=100 # the number of NMF epoch\n",
        "set_random_seed(seed)\n",
        "_,resvec_n=deep_nmf_br(X_train,Y_train,X_test,Y_test,param) # NMF Learning "
      ],
      "execution_count": 172,
      "outputs": [
        {
          "output_type": "stream",
          "text": [
            "Iter          sec           TRN              TSN               TRE              TSE            \u001b[31mNMF\u001b[0m \n",
            "\n",
            "1.000   1.066         0.162        0.168         0.000         0.000 \n",
            "\n",
            "2.000   1.262         0.162        0.167         0.000         0.000 \n",
            "\n",
            "3.000   1.363         0.162        0.167         0.000         0.000 \n",
            "\n",
            "4.000   1.473         0.162        0.167         0.000         0.000 \n",
            "\n",
            "5.000   1.578         0.162        0.166         0.000         0.000 \n",
            "\n",
            "6.000   1.680         0.162        0.167         0.000         0.000 \n",
            "\n",
            "7.000   1.783         0.162        0.166         0.000         0.000 \n",
            "\n",
            "8.000   1.902         0.162        0.168         0.000         0.000 \n",
            "\n",
            "9.000   2.008         0.162        0.167         0.000         0.000 \n",
            "\n",
            "10.000   2.112         0.162        0.167         0.000         0.000 \n",
            "\n",
            "11.000   2.226         0.162        0.168         0.000         0.000 \n",
            "\n",
            "12.000   2.335         0.162        0.166         0.000         0.000 \n",
            "\n",
            "13.000   2.451         0.162        0.169         0.000         0.000 \n",
            "\n",
            "14.000   2.551         0.162        0.166         0.000         0.000 \n",
            "\n",
            "15.000   2.645         0.162        0.169         0.000         0.000 \n",
            "\n",
            "16.000   2.744         0.162        0.165         0.000         0.000 \n",
            "\n",
            "17.000   2.842         0.162        0.167         0.000         0.000 \n",
            "\n",
            "18.000   2.947         0.162        0.167         0.000         0.000 \n",
            "\n",
            "19.000   3.053         0.162        0.166         0.000         0.000 \n",
            "\n",
            "20.000   3.153         0.162        0.166         0.000         0.000 \n",
            "\n",
            "21.000   3.261         0.162        0.167         0.000         0.000 \n",
            "\n",
            "22.000   3.364         0.162        0.167         0.000         0.000 \n",
            "\n",
            "23.000   3.474         0.162        0.167         0.000         0.000 \n",
            "\n",
            "24.000   3.582         0.162        0.167         0.000         0.000 \n",
            "\n",
            "25.000   3.685         0.162        0.166         0.000         0.000 \n",
            "\n",
            "26.000   3.799         0.162        0.167         0.000         0.000 \n",
            "\n",
            "27.000   3.923         0.162        0.167         0.000         0.000 \n",
            "\n",
            "28.000   4.037         0.162        0.167         0.000         0.000 \n",
            "\n",
            "29.000   4.141         0.162        0.166         0.000         0.000 \n",
            "\n",
            "30.000   4.243         0.162        0.165         0.000         0.000 \n",
            "\n",
            "31.000   4.351         0.162        0.166         0.000         0.000 \n",
            "\n",
            "32.000   4.463         0.162        0.168         0.000         0.000 \n",
            "\n",
            "33.000   4.572         0.162        0.167         0.000         0.000 \n",
            "\n",
            "34.000   4.679         0.162        0.166         0.000         0.000 \n",
            "\n",
            "35.000   4.776         0.162        0.170         0.000         0.000 \n",
            "\n",
            "36.000   4.874         0.162        0.167         0.000         0.000 \n",
            "\n",
            "37.000   4.988         0.162        0.166         0.000         0.000 \n",
            "\n",
            "38.000   5.088         0.162        0.166         0.000         0.000 \n",
            "\n",
            "39.000   5.186         0.162        0.166         0.000         0.000 \n",
            "\n",
            "40.000   5.298         0.162        0.167         0.000         0.000 \n",
            "\n",
            "41.000   5.393         0.162        0.166         0.000         0.000 \n",
            "\n",
            "42.000   5.493         0.162        0.166         0.000         0.000 \n",
            "\n",
            "43.000   5.593         0.162        0.165         0.000         0.000 \n",
            "\n",
            "44.000   5.686         0.162        0.166         0.000         0.000 \n",
            "\n",
            "45.000   5.782         0.162        0.166         0.000         0.000 \n",
            "\n",
            "46.000   5.889         0.161        0.166         0.000         0.000 \n",
            "\n",
            "47.000   6.000         0.162        0.165         0.000         0.000 \n",
            "\n",
            "48.000   6.102         0.162        0.167         0.000         0.000 \n",
            "\n",
            "49.000   6.205         0.161        0.165         0.000         0.000 \n",
            "\n",
            "50.000   6.305         0.161        0.166         0.000         0.000 \n",
            "\n",
            "51.000   6.406         0.161        0.166         0.000         0.000 \n",
            "\n",
            "52.000   6.508         0.161        0.165         0.000         0.000 \n",
            "\n",
            "53.000   6.625         0.161        0.165         0.000         0.000 \n",
            "\n",
            "54.000   6.731         0.161        0.167         0.000         0.000 \n",
            "\n",
            "55.000   6.837         0.161        0.166         0.000         0.000 \n",
            "\n",
            "56.000   6.957         0.161        0.166         0.000         0.000 \n",
            "\n",
            "57.000   7.059         0.162        0.170         0.000         0.000 \n",
            "\n",
            "58.000   7.159         0.161        0.166         0.000         0.000 \n",
            "\n",
            "59.000   7.260         0.161        0.165         0.000         0.000 \n",
            "\n",
            "60.000   7.361         0.161        0.166         0.000         0.000 \n",
            "\n",
            "61.000   7.464         0.162        0.162         0.000         0.000 \n",
            "\n",
            "62.000   7.569         0.161        0.166         0.000         0.000 \n",
            "\n",
            "63.000   7.683         0.161        0.167         0.000         0.000 \n",
            "\n",
            "64.000   7.801         0.161        0.164         0.000         0.000 \n",
            "\n",
            "65.000   7.919         0.161        0.167         0.000         0.000 \n",
            "\n",
            "66.000   8.064         0.161        0.166         0.000         0.000 \n",
            "\n",
            "67.000   8.180         0.161        0.166         0.000         0.000 \n",
            "\n",
            "68.000   8.291         0.161        0.165         0.000         0.000 \n",
            "\n",
            "69.000   8.400         0.161        0.165         0.000         0.000 \n",
            "\n",
            "70.000   8.505         0.161        0.165         0.000         0.000 \n",
            "\n",
            "71.000   8.606         0.161        0.165         0.000         0.000 \n",
            "\n",
            "72.000   8.710         0.161        0.165         0.000         0.000 \n",
            "\n",
            "73.000   8.809         0.161        0.166         0.000         0.000 \n",
            "\n",
            "74.000   8.911         0.161        0.166         0.000         0.000 \n",
            "\n",
            "75.000   9.022         0.161        0.166         0.000         0.000 \n",
            "\n",
            "76.000   9.122         0.161        0.165         0.000         0.000 \n",
            "\n",
            "77.000   9.225         0.161        0.166         0.000         0.000 \n",
            "\n",
            "78.000   9.332         0.161        0.166         0.000         0.000 \n",
            "\n",
            "79.000   9.448         0.161        0.165         0.000         0.000 \n",
            "\n",
            "80.000   9.552         0.161        0.165         0.000         0.000 \n",
            "\n",
            "81.000   9.652         0.161        0.165         0.000         0.000 \n",
            "\n",
            "82.000   9.752         0.161        0.167         0.000         0.000 \n",
            "\n",
            "83.000   9.847         0.161        0.166         0.000         0.000 \n",
            "\n",
            "84.000   9.954         0.161        0.165         0.000         0.000 \n",
            "\n",
            "85.000  10.063         0.161        0.165         0.000         0.000 \n",
            "\n",
            "86.000  10.169         0.161        0.165         0.000         0.000 \n",
            "\n",
            "87.000  10.267         0.161        0.166         0.000         0.000 \n",
            "\n",
            "88.000  10.365         0.161        0.166         0.000         0.000 \n",
            "\n",
            "89.000  10.473         0.161        0.166         0.000         0.000 \n",
            "\n",
            "90.000  10.573         0.161        0.166         0.000         0.000 \n",
            "\n",
            "91.000  10.669         0.161        0.165         0.000         0.000 \n",
            "\n",
            "92.000  10.769         0.161        0.166         0.000         0.000 \n",
            "\n",
            "93.000  10.859         0.161        0.167         0.000         0.000 \n",
            "\n",
            "94.000  10.951         0.161        0.166         0.000         0.000 \n",
            "\n",
            "95.000  11.062         0.161        0.166         0.000         0.000 \n",
            "\n",
            "96.000  11.153         0.161        0.165         0.000         0.000 \n",
            "\n",
            "97.000  11.244         0.161        0.166         0.000         0.000 \n",
            "\n",
            "98.000  11.342         0.163        0.175         0.000         0.000 \n",
            "\n",
            "99.000  11.436         0.161        0.165         0.000         0.000 \n",
            "\n",
            "100.000  11.528         0.161        0.165         0.000         0.000 \n",
            "\n"
          ],
          "name": "stdout"
        }
      ]
    },
    {
      "cell_type": "code",
      "metadata": {
        "id": "FuJ3ix-QjMxA",
        "colab_type": "code",
        "colab": {
          "base_uri": "https://localhost:8080/",
          "height": 1000
        },
        "outputId": "4d74f073-384e-4db7-daa6-a0104cfda60a"
      },
      "source": [
        "param.reset_record()\n",
        "\n",
        "param.switch_starter='bp' #  start From Backpropagation\n",
        "param.switch_epochs=[50,50] # epochs of BP and NMF  \n",
        "\n",
        "set_random_seed(seed)\n",
        "_,resvec_switch=switch_br(X_train,Y_train,X_test,Y_test,param) # Switch_learning "
      ],
      "execution_count": 173,
      "outputs": [
        {
          "output_type": "stream",
          "text": [
            "Iter          sec           TRN              TSN               TRE              TSE            \u001b[34mBP\u001b[0m \n",
            "\n",
            "1.000   0.502         0.567        0.559         0.000         0.000 \n",
            "\n",
            "2.000   0.690         0.464        0.433         0.000         0.000 \n",
            "\n",
            "3.000   0.887         0.416        0.401         0.000         0.000 \n",
            "\n",
            "4.000   1.086         0.377        0.369         0.000         0.000 \n",
            "\n",
            "5.000   1.281         0.336        0.331         0.000         0.000 \n",
            "\n",
            "6.000   1.479         0.300        0.298         0.000         0.000 \n",
            "\n",
            "7.000   1.668         0.271        0.272         0.000         0.000 \n",
            "\n",
            "8.000   1.864         0.250        0.251         0.000         0.000 \n",
            "\n",
            "9.000   2.067         0.236        0.236         0.000         0.000 \n",
            "\n",
            "10.000   2.255         0.225        0.225         0.000         0.000 \n",
            "\n",
            "11.000   2.450         0.218        0.218         0.000         0.000 \n",
            "\n",
            "12.000   2.649         0.213        0.212         0.000         0.000 \n",
            "\n",
            "13.000   2.846         0.209        0.208         0.000         0.000 \n",
            "\n",
            "14.000   3.040         0.207        0.205         0.000         0.000 \n",
            "\n",
            "15.000   3.242         0.205        0.203         0.000         0.000 \n",
            "\n",
            "16.000   3.437         0.203        0.201         0.000         0.000 \n",
            "\n",
            "17.000   3.633         0.201        0.199         0.000         0.000 \n",
            "\n",
            "18.000   3.825         0.200        0.198         0.000         0.000 \n",
            "\n",
            "19.000   4.023         0.198        0.196         0.000         0.000 \n",
            "\n",
            "20.000   4.241         0.197        0.195         0.000         0.000 \n",
            "\n",
            "21.000   4.462         0.196        0.194         0.000         0.000 \n",
            "\n",
            "22.000   4.688         0.195        0.193         0.000         0.000 \n",
            "\n",
            "23.000   4.890         0.194        0.192         0.000         0.000 \n",
            "\n",
            "24.000   5.098         0.193        0.191         0.000         0.000 \n",
            "\n",
            "25.000   5.290         0.192        0.191         0.000         0.000 \n",
            "\n",
            "26.000   5.486         0.191        0.190         0.000         0.000 \n",
            "\n",
            "27.000   5.697         0.191        0.189         0.000         0.000 \n",
            "\n",
            "28.000   5.897         0.190        0.188         0.000         0.000 \n",
            "\n",
            "29.000   6.097         0.189        0.188         0.000         0.000 \n",
            "\n",
            "30.000   6.298         0.188        0.187         0.000         0.000 \n",
            "\n",
            "31.000   6.497         0.187        0.186         0.000         0.000 \n",
            "\n",
            "32.000   6.704         0.187        0.186         0.000         0.000 \n",
            "\n",
            "33.000   6.904         0.186        0.186         0.000         0.000 \n",
            "\n",
            "34.000   7.102         0.185        0.185         0.000         0.000 \n",
            "\n",
            "35.000   7.299         0.184        0.185         0.000         0.000 \n",
            "\n",
            "36.000   7.502         0.184        0.184         0.000         0.000 \n",
            "\n",
            "37.000   7.700         0.183        0.184         0.000         0.000 \n",
            "\n",
            "38.000   7.898         0.182        0.183         0.000         0.000 \n",
            "\n",
            "39.000   8.091         0.182        0.182         0.000         0.000 \n",
            "\n",
            "40.000   8.292         0.181        0.182         0.000         0.000 \n",
            "\n",
            "41.000   8.485         0.180        0.182         0.000         0.000 \n",
            "\n",
            "42.000   8.683         0.180        0.181         0.000         0.000 \n",
            "\n",
            "43.000   8.881         0.179        0.181         0.000         0.000 \n",
            "\n",
            "44.000   9.080         0.178        0.181         0.000         0.000 \n",
            "\n",
            "45.000   9.282         0.178        0.181         0.000         0.000 \n",
            "\n",
            "46.000   9.479         0.177        0.180         0.000         0.000 \n",
            "\n",
            "47.000   9.682         0.177        0.180         0.000         0.000 \n",
            "\n",
            "48.000   9.875         0.176        0.179         0.000         0.000 \n",
            "\n",
            "49.000  10.076         0.175        0.179         0.000         0.000 \n",
            "\n",
            "50.000  10.269         0.174        0.178         0.000         0.000 \n",
            "\n",
            "Iter          sec           TRN              TSN               TRE              TSE            \u001b[31mNMF\u001b[0m \n",
            "\n",
            "51.000  10.402         0.146        0.150         0.000         0.000 \n",
            "\n",
            "52.000  10.517         0.146        0.148         0.000         0.000 \n",
            "\n",
            "53.000  10.637         0.148        0.141         0.000         0.000 \n",
            "\n",
            "54.000  10.749         0.145        0.148         0.000         0.000 \n",
            "\n",
            "55.000  10.868         0.145        0.149         0.000         0.000 \n",
            "\n",
            "56.000  10.984         0.145        0.148         0.000         0.000 \n",
            "\n",
            "57.000  11.086         0.148        0.144         0.000         0.000 \n",
            "\n",
            "58.000  11.216         0.144        0.147         0.000         0.000 \n",
            "\n",
            "59.000  11.314         0.144        0.148         0.000         0.000 \n",
            "\n",
            "60.000  11.422         0.161        0.140         0.000         0.000 \n",
            "\n",
            "61.000  11.530         0.150        0.166         0.000         0.000 \n",
            "\n",
            "62.000  11.649         0.143        0.148         0.000         0.000 \n",
            "\n",
            "63.000  11.754         0.143        0.148         0.000         0.000 \n",
            "\n",
            "64.000  11.868         0.144        0.153         0.000         0.000 \n",
            "\n",
            "65.000  11.981         0.143        0.143         0.000         0.000 \n",
            "\n",
            "66.000  12.091         0.142        0.147         0.000         0.000 \n",
            "\n",
            "67.000  12.209         0.144        0.143         0.000         0.000 \n",
            "\n",
            "68.000  12.313         0.142        0.146         0.000         0.000 \n",
            "\n",
            "69.000  12.423         0.142        0.147         0.000         0.000 \n",
            "\n",
            "70.000  12.525         0.233        0.264         0.000         0.000 \n",
            "\n",
            "71.000  12.633         0.142        0.146         0.000         0.000 \n",
            "\n",
            "72.000  12.751         0.146        0.159         0.000         0.000 \n",
            "\n",
            "73.000  12.858         0.143        0.148         0.000         0.000 \n",
            "\n",
            "74.000  12.978         0.144        0.139         0.000         0.000 \n",
            "\n",
            "75.000  13.089         0.142        0.144         0.000         0.000 \n",
            "\n",
            "76.000  13.208         0.170        0.145         0.000         0.000 \n",
            "\n",
            "77.000  13.312         0.149        0.169         0.000         0.000 \n",
            "\n",
            "78.000  13.421         0.141        0.145         0.000         0.000 \n",
            "\n",
            "79.000  13.526         0.141        0.146         0.000         0.000 \n",
            "\n",
            "80.000  13.633         0.141        0.144         0.000         0.000 \n",
            "\n",
            "81.000  13.753         0.140        0.146         0.000         0.000 \n",
            "\n",
            "82.000  13.871         0.140        0.146         0.000         0.000 \n",
            "\n",
            "83.000  13.987         0.140        0.145         0.000         0.000 \n",
            "\n",
            "84.000  14.110         0.159        0.146         0.000         0.000 \n",
            "\n",
            "85.000  14.218         0.141        0.149         0.000         0.000 \n",
            "\n",
            "86.000  14.327         0.141        0.147         0.000         0.000 \n",
            "\n",
            "87.000  14.434         0.140        0.146         0.000         0.000 \n",
            "\n",
            "88.000  14.554         0.140        0.145         0.000         0.000 \n",
            "\n",
            "89.000  14.667         0.140        0.146         0.000         0.000 \n",
            "\n",
            "90.000  14.776         0.139        0.146         0.000         0.000 \n",
            "\n",
            "91.000  14.891         0.143        0.158         0.000         0.000 \n",
            "\n",
            "92.000  15.008         0.144        0.137         0.000         0.000 \n",
            "\n",
            "93.000  15.126         0.140        0.140         0.000         0.000 \n",
            "\n",
            "94.000  15.247         0.139        0.145         0.000         0.000 \n",
            "\n",
            "95.000  15.372         0.139        0.146         0.000         0.000 \n",
            "\n",
            "96.000  15.488         0.139        0.144         0.000         0.000 \n",
            "\n",
            "97.000  15.598         0.150        0.171         0.000         0.000 \n",
            "\n",
            "98.000  15.719         0.139        0.148         0.000         0.000 \n",
            "\n",
            "99.000  15.830         0.139        0.140         0.000         0.000 \n",
            "\n",
            "100.000  15.955         0.141        0.147         0.000         0.000 \n",
            "\n"
          ],
          "name": "stdout"
        }
      ]
    },
    {
      "cell_type": "code",
      "metadata": {
        "scrolled": true,
        "id": "qfK5j4iHjMxB",
        "colab_type": "code",
        "colab": {
          "base_uri": "https://localhost:8080/",
          "height": 544
        },
        "outputId": "e4e68bce-4b28-446a-a586-018e8d38b349"
      },
      "source": [
        "## Plotting results \n",
        "\n",
        "\n",
        "columns=['iter','time','TRN','TSN','TRE','TSE']\n",
        "fig,ax=plt.subplots(figsize=(8,8))\n",
        "##---------------TEST NORM graph for Regression Data --------------------\n",
        "pd.DataFrame(resvec_b,columns=columns)[['iter','TRN']].set_index('iter').plot(ax=ax,style='b')\n",
        "pd.DataFrame(resvec_n,columns=columns)[['iter','TRN']].set_index('iter').plot(ax=ax,style='r')\n",
        "pd.DataFrame(resvec_switch,columns=columns)[['iter','TRN']].set_index('iter').plot(ax=ax,style='g')\n",
        "ax.set_xlabel('epoch',fontsize=20)\n",
        "ax.set_ylabel('norm',fontsize=20)\n",
        "ax.set_ylim([0,.5])\n",
        "ax.set_title('Switch',fontsize=20)\n",
        "pd.DataFrame(resvec_n,columns=columns)[['iter','TSE']].set_index('iter').plot(ax=ax,style='r')\n",
        "pd.DataFrame(resvec_b,columns=columns)[['iter','TSE']].set_index('iter').plot(ax=ax,style='b')\n",
        "pd.DataFrame(resvec_switch,columns=columns)[['iter','TSE']].set_index('iter').plot(ax=ax,style='g')\n",
        "ax.set_xlabel('epoch')\n",
        "ax.set_ylabel('test error')\n",
        "\n",
        "ax.legend(['train','test','Switch'],fontsize=20)"
      ],
      "execution_count": 174,
      "outputs": [
        {
          "output_type": "execute_result",
          "data": {
            "text/plain": [
              "<matplotlib.legend.Legend at 0x7f8d21e9dd30>"
            ]
          },
          "metadata": {
            "tags": []
          },
          "execution_count": 174
        },
        {
          "output_type": "display_data",
          "data": {
            "image/png": "[encoded data removed]",
            "text/plain": [
              "<Figure size 576x576 with 1 Axes>"
            ]
          },
          "metadata": {
            "tags": [],
            "needs_background": "light"
          }
        }
      ]
    },
    {
      "cell_type": "markdown",
      "metadata": {
        "id": "tt2zUcVGjMxC",
        "colab_type": "text"
      },
      "source": [
        "### test 2: BP  & BP+N1 ( every epoch)"
      ]
    },
    {
      "cell_type": "code",
      "metadata": {
        "id": "EhT5tV0PjMxD",
        "colab_type": "code",
        "colab": {
          "base_uri": "https://localhost:8080/",
          "height": 187
        },
        "outputId": "3c15255f-7b50-42ed-b7cf-7be8347788a3"
      },
      "source": [
        "param=get_param_from_df(df=df,dataset=dataset,show_info=True) "
      ],
      "execution_count": 175,
      "outputs": [
        {
          "output_type": "stream",
          "text": [
            "hidden                      [100]\n",
            "bp_lamb            [0.005, 0.005]\n",
            "nmf_lamb           [0.005, 0.005]\n",
            "bp_batch                [500, 50]\n",
            "nmf_batch               [0, 1052]\n",
            "bp_initializer                 ae\n",
            "nmf_initializer             randn\n",
            "delta                      [0, 0]\n",
            "eval_term                      10\n",
            "Name: airfoil, dtype: object\n"
          ],
          "name": "stdout"
        }
      ]
    },
    {
      "cell_type": "code",
      "metadata": {
        "scrolled": true,
        "id": "mqfStLh-jMxE",
        "colab_type": "code",
        "colab": {
          "base_uri": "https://localhost:8080/",
          "height": 906
        },
        "outputId": "6ab26e06-4fe2-4503-8d32-633bc9950ebc"
      },
      "source": [
        "param.bp_epochs=1000 # the number of Backpropagtion epoch\n",
        "set_random_seed()\n",
        "_,resvec_b=deep_bp_br(X_train,Y_train,X_test,Y_test,param)"
      ],
      "execution_count": 176,
      "outputs": [
        {
          "output_type": "stream",
          "text": [
            "----Autoencoder-----\n",
            "Iter          sec           TRN              TSN               TRE              TSE            \u001b[34mBP\u001b[0m \n",
            "\n",
            "0.000   0.824         0.446        0.447         0.000         0.000 \n",
            "\n",
            "Iter          sec           TRN              TSN               TRE              TSE            \u001b[34mBP\u001b[0m \n",
            "\n",
            "1.000   1.354         0.370        0.381         0.000         0.000 \n",
            "\n",
            "2.000   1.549         0.309        0.324         0.000         0.000 \n",
            "\n",
            "3.000   1.743         0.266        0.281         0.000         0.000 \n",
            "\n",
            "4.000   1.939         0.237        0.251         0.000         0.000 \n",
            "\n",
            "5.000   2.135         0.220        0.233         0.000         0.000 \n",
            "\n",
            "6.000   2.322         0.212        0.222         0.000         0.000 \n",
            "\n",
            "7.000   2.518         0.206        0.216         0.000         0.000 \n",
            "\n",
            "8.000   2.710         0.202        0.211         0.000         0.000 \n",
            "\n",
            "9.000   2.909         0.199        0.208         0.000         0.000 \n",
            "\n",
            "10.000   3.124         0.196        0.205         0.000         0.000 \n",
            "\n",
            "11.000   3.323         0.194        0.203         0.000         0.000 \n",
            "\n",
            "12.000   3.532         0.193        0.201         0.000         0.000 \n",
            "\n"
          ],
          "name": "stdout"
        },
        {
          "output_type": "error",
          "ename": "KeyboardInterrupt",
          "evalue": "ignored",
          "traceback": [
            "\u001b[0;31m---------------------------------------------------------------------------\u001b[0m",
            "\u001b[0;31mKeyboardInterrupt\u001b[0m                         Traceback (most recent call last)",
            "\u001b[0;32m<ipython-input-176-1752076a9f2d>\u001b[0m in \u001b[0;36m<module>\u001b[0;34m()\u001b[0m\n\u001b[1;32m      1\u001b[0m \u001b[0mparam\u001b[0m\u001b[0;34m.\u001b[0m\u001b[0mbp_epochs\u001b[0m\u001b[0;34m=\u001b[0m\u001b[0;36m1000\u001b[0m \u001b[0;31m# the number of Backpropagtion epoch\u001b[0m\u001b[0;34m\u001b[0m\u001b[0;34m\u001b[0m\u001b[0m\n\u001b[1;32m      2\u001b[0m \u001b[0mset_random_seed\u001b[0m\u001b[0;34m(\u001b[0m\u001b[0;34m)\u001b[0m\u001b[0;34m\u001b[0m\u001b[0;34m\u001b[0m\u001b[0m\n\u001b[0;32m----> 3\u001b[0;31m \u001b[0m_\u001b[0m\u001b[0;34m,\u001b[0m\u001b[0mresvec_b\u001b[0m\u001b[0;34m=\u001b[0m\u001b[0mdeep_bp_br\u001b[0m\u001b[0;34m(\u001b[0m\u001b[0mX_train\u001b[0m\u001b[0;34m,\u001b[0m\u001b[0mY_train\u001b[0m\u001b[0;34m,\u001b[0m\u001b[0mX_test\u001b[0m\u001b[0;34m,\u001b[0m\u001b[0mY_test\u001b[0m\u001b[0;34m,\u001b[0m\u001b[0mparam\u001b[0m\u001b[0;34m)\u001b[0m\u001b[0;34m\u001b[0m\u001b[0;34m\u001b[0m\u001b[0m\n\u001b[0m",
            "\u001b[0;32m<ipython-input-95-023018a8f76d>\u001b[0m in \u001b[0;36mdeep_bp_br\u001b[0;34m(X_train, Y_train, X_test, Y_test, param)\u001b[0m\n\u001b[1;32m     66\u001b[0m     \u001b[0;32mfor\u001b[0m \u001b[0mepoch\u001b[0m \u001b[0;32min\u001b[0m \u001b[0mrange\u001b[0m\u001b[0;34m(\u001b[0m\u001b[0mepochs\u001b[0m\u001b[0;34m)\u001b[0m\u001b[0;34m:\u001b[0m\u001b[0;34m\u001b[0m\u001b[0;34m\u001b[0m\u001b[0m\n\u001b[1;32m     67\u001b[0m         \u001b[0mtf\u001b[0m\u001b[0;34m.\u001b[0m\u001b[0mrandom\u001b[0m\u001b[0;34m.\u001b[0m\u001b[0mset_seed\u001b[0m\u001b[0;34m(\u001b[0m\u001b[0;36m10\u001b[0m\u001b[0;34m)\u001b[0m\u001b[0;34m\u001b[0m\u001b[0;34m\u001b[0m\u001b[0m\n\u001b[0;32m---> 68\u001b[0;31m         \u001b[0mmodel\u001b[0m\u001b[0;34m.\u001b[0m\u001b[0mfit\u001b[0m\u001b[0;34m(\u001b[0m\u001b[0mx\u001b[0m\u001b[0;34m=\u001b[0m\u001b[0mX_train\u001b[0m\u001b[0;34m,\u001b[0m\u001b[0my\u001b[0m\u001b[0;34m=\u001b[0m\u001b[0mY_train\u001b[0m\u001b[0;34m,\u001b[0m\u001b[0mbatch_size\u001b[0m\u001b[0;34m=\u001b[0m\u001b[0mbatch\u001b[0m\u001b[0;34m[\u001b[0m\u001b[0;36m1\u001b[0m\u001b[0;34m]\u001b[0m\u001b[0;34m,\u001b[0m\u001b[0mepochs\u001b[0m\u001b[0;34m=\u001b[0m\u001b[0;36m1\u001b[0m\u001b[0;34m,\u001b[0m\u001b[0mvalidation_data\u001b[0m\u001b[0;34m=\u001b[0m\u001b[0;34m(\u001b[0m\u001b[0mX_test\u001b[0m\u001b[0;34m,\u001b[0m\u001b[0mY_test\u001b[0m\u001b[0;34m)\u001b[0m\u001b[0;34m,\u001b[0m\u001b[0mverbose\u001b[0m\u001b[0;34m=\u001b[0m\u001b[0;36m0\u001b[0m\u001b[0;34m)\u001b[0m\u001b[0;34m;\u001b[0m\u001b[0mtc0\u001b[0m\u001b[0;34m=\u001b[0m\u001b[0mabtime\u001b[0m\u001b[0;34m(\u001b[0m\u001b[0;34m)\u001b[0m\u001b[0;34m\u001b[0m\u001b[0;34m\u001b[0m\u001b[0m\n\u001b[0m\u001b[1;32m     69\u001b[0m         \u001b[0mWb\u001b[0m\u001b[0;34m=\u001b[0m\u001b[0mmodel\u001b[0m\u001b[0;34m.\u001b[0m\u001b[0mget_weights\u001b[0m\u001b[0;34m(\u001b[0m\u001b[0;34m)\u001b[0m\u001b[0;34m\u001b[0m\u001b[0;34m\u001b[0m\u001b[0m\n\u001b[1;32m     70\u001b[0m         \u001b[0mcheck_res\u001b[0m\u001b[0;34m=\u001b[0m\u001b[0mcheck_br\u001b[0m\u001b[0;34m(\u001b[0m\u001b[0mstnum\u001b[0m\u001b[0;34m[\u001b[0m\u001b[0;36m0\u001b[0m\u001b[0;34m]\u001b[0m\u001b[0;34m+\u001b[0m\u001b[0mepoch\u001b[0m\u001b[0;34m+\u001b[0m\u001b[0;36m1\u001b[0m\u001b[0;34m,\u001b[0m\u001b[0mstnum\u001b[0m\u001b[0;34m[\u001b[0m\u001b[0;36m1\u001b[0m\u001b[0;34m]\u001b[0m\u001b[0;34m+\u001b[0m\u001b[0mabtime\u001b[0m\u001b[0;34m(\u001b[0m\u001b[0;34m)\u001b[0m\u001b[0;34m-\u001b[0m\u001b[0mt0\u001b[0m\u001b[0;34m,\u001b[0m\u001b[0mX_train\u001b[0m\u001b[0;34m.\u001b[0m\u001b[0mT\u001b[0m\u001b[0;34m,\u001b[0m\u001b[0mY_train\u001b[0m\u001b[0;34m.\u001b[0m\u001b[0mT\u001b[0m\u001b[0;34m,\u001b[0m\u001b[0mX_test\u001b[0m\u001b[0;34m.\u001b[0m\u001b[0mT\u001b[0m\u001b[0;34m,\u001b[0m\u001b[0mY_test\u001b[0m\u001b[0;34m.\u001b[0m\u001b[0mT\u001b[0m\u001b[0;34m,\u001b[0m\u001b[0mWb\u001b[0m\u001b[0;34m,\u001b[0m\u001b[0mcheck_factor\u001b[0m\u001b[0;34m=\u001b[0m\u001b[0mcheck_factor\u001b[0m\u001b[0;34m)\u001b[0m\u001b[0;34m\u001b[0m\u001b[0;34m\u001b[0m\u001b[0m\n",
            "\u001b[0;32m/usr/local/lib/python3.6/dist-packages/tensorflow/python/keras/engine/training.py\u001b[0m in \u001b[0;36m_method_wrapper\u001b[0;34m(self, *args, **kwargs)\u001b[0m\n\u001b[1;32m    106\u001b[0m   \u001b[0;32mdef\u001b[0m \u001b[0m_method_wrapper\u001b[0m\u001b[0;34m(\u001b[0m\u001b[0mself\u001b[0m\u001b[0;34m,\u001b[0m \u001b[0;34m*\u001b[0m\u001b[0margs\u001b[0m\u001b[0;34m,\u001b[0m \u001b[0;34m**\u001b[0m\u001b[0mkwargs\u001b[0m\u001b[0;34m)\u001b[0m\u001b[0;34m:\u001b[0m\u001b[0;34m\u001b[0m\u001b[0;34m\u001b[0m\u001b[0m\n\u001b[1;32m    107\u001b[0m     \u001b[0;32mif\u001b[0m \u001b[0;32mnot\u001b[0m \u001b[0mself\u001b[0m\u001b[0;34m.\u001b[0m\u001b[0m_in_multi_worker_mode\u001b[0m\u001b[0;34m(\u001b[0m\u001b[0;34m)\u001b[0m\u001b[0;34m:\u001b[0m  \u001b[0;31m# pylint: disable=protected-access\u001b[0m\u001b[0;34m\u001b[0m\u001b[0;34m\u001b[0m\u001b[0m\n\u001b[0;32m--> 108\u001b[0;31m       \u001b[0;32mreturn\u001b[0m \u001b[0mmethod\u001b[0m\u001b[0;34m(\u001b[0m\u001b[0mself\u001b[0m\u001b[0;34m,\u001b[0m \u001b[0;34m*\u001b[0m\u001b[0margs\u001b[0m\u001b[0;34m,\u001b[0m \u001b[0;34m**\u001b[0m\u001b[0mkwargs\u001b[0m\u001b[0;34m)\u001b[0m\u001b[0;34m\u001b[0m\u001b[0;34m\u001b[0m\u001b[0m\n\u001b[0m\u001b[1;32m    109\u001b[0m \u001b[0;34m\u001b[0m\u001b[0m\n\u001b[1;32m    110\u001b[0m     \u001b[0;31m# Running inside `run_distribute_coordinator` already.\u001b[0m\u001b[0;34m\u001b[0m\u001b[0;34m\u001b[0m\u001b[0;34m\u001b[0m\u001b[0m\n",
            "\u001b[0;32m/usr/local/lib/python3.6/dist-packages/tensorflow/python/keras/engine/training.py\u001b[0m in \u001b[0;36mfit\u001b[0;34m(self, x, y, batch_size, epochs, verbose, callbacks, validation_split, validation_data, shuffle, class_weight, sample_weight, initial_epoch, steps_per_epoch, validation_steps, validation_batch_size, validation_freq, max_queue_size, workers, use_multiprocessing)\u001b[0m\n\u001b[1;32m   1120\u001b[0m                 \u001b[0muse_multiprocessing\u001b[0m\u001b[0;34m=\u001b[0m\u001b[0muse_multiprocessing\u001b[0m\u001b[0;34m,\u001b[0m\u001b[0;34m\u001b[0m\u001b[0;34m\u001b[0m\u001b[0m\n\u001b[1;32m   1121\u001b[0m                 \u001b[0mmodel\u001b[0m\u001b[0;34m=\u001b[0m\u001b[0mself\u001b[0m\u001b[0;34m,\u001b[0m\u001b[0;34m\u001b[0m\u001b[0;34m\u001b[0m\u001b[0m\n\u001b[0;32m-> 1122\u001b[0;31m                 steps_per_execution=self._steps_per_execution)\n\u001b[0m\u001b[1;32m   1123\u001b[0m           val_logs = self.evaluate(\n\u001b[1;32m   1124\u001b[0m               \u001b[0mx\u001b[0m\u001b[0;34m=\u001b[0m\u001b[0mval_x\u001b[0m\u001b[0;34m,\u001b[0m\u001b[0;34m\u001b[0m\u001b[0;34m\u001b[0m\u001b[0m\n",
            "\u001b[0;32m/usr/local/lib/python3.6/dist-packages/tensorflow/python/keras/engine/data_adapter.py\u001b[0m in \u001b[0;36m__init__\u001b[0;34m(self, x, y, sample_weight, batch_size, steps_per_epoch, initial_epoch, epochs, shuffle, class_weight, max_queue_size, workers, use_multiprocessing, model, steps_per_execution)\u001b[0m\n\u001b[1;32m   1115\u001b[0m         \u001b[0muse_multiprocessing\u001b[0m\u001b[0;34m=\u001b[0m\u001b[0muse_multiprocessing\u001b[0m\u001b[0;34m,\u001b[0m\u001b[0;34m\u001b[0m\u001b[0;34m\u001b[0m\u001b[0m\n\u001b[1;32m   1116\u001b[0m         \u001b[0mdistribution_strategy\u001b[0m\u001b[0;34m=\u001b[0m\u001b[0mds_context\u001b[0m\u001b[0;34m.\u001b[0m\u001b[0mget_strategy\u001b[0m\u001b[0;34m(\u001b[0m\u001b[0;34m)\u001b[0m\u001b[0;34m,\u001b[0m\u001b[0;34m\u001b[0m\u001b[0;34m\u001b[0m\u001b[0m\n\u001b[0;32m-> 1117\u001b[0;31m         model=model)\n\u001b[0m\u001b[1;32m   1118\u001b[0m \u001b[0;34m\u001b[0m\u001b[0m\n\u001b[1;32m   1119\u001b[0m     \u001b[0mstrategy\u001b[0m \u001b[0;34m=\u001b[0m \u001b[0mds_context\u001b[0m\u001b[0;34m.\u001b[0m\u001b[0mget_strategy\u001b[0m\u001b[0;34m(\u001b[0m\u001b[0;34m)\u001b[0m\u001b[0;34m\u001b[0m\u001b[0;34m\u001b[0m\u001b[0m\n",
            "\u001b[0;32m/usr/local/lib/python3.6/dist-packages/tensorflow/python/keras/engine/data_adapter.py\u001b[0m in \u001b[0;36m__init__\u001b[0;34m(self, x, y, sample_weights, sample_weight_modes, batch_size, epochs, steps, shuffle, **kwargs)\u001b[0m\n\u001b[1;32m    360\u001b[0m       \u001b[0;32mreturn\u001b[0m \u001b[0mflat_dataset\u001b[0m\u001b[0;34m\u001b[0m\u001b[0;34m\u001b[0m\u001b[0m\n\u001b[1;32m    361\u001b[0m \u001b[0;34m\u001b[0m\u001b[0m\n\u001b[0;32m--> 362\u001b[0;31m     \u001b[0mindices_dataset\u001b[0m \u001b[0;34m=\u001b[0m \u001b[0mindices_dataset\u001b[0m\u001b[0;34m.\u001b[0m\u001b[0mflat_map\u001b[0m\u001b[0;34m(\u001b[0m\u001b[0mslice_batch_indices\u001b[0m\u001b[0;34m)\u001b[0m\u001b[0;34m\u001b[0m\u001b[0;34m\u001b[0m\u001b[0m\n\u001b[0m\u001b[1;32m    363\u001b[0m \u001b[0;34m\u001b[0m\u001b[0m\n\u001b[1;32m    364\u001b[0m     \u001b[0mdataset\u001b[0m \u001b[0;34m=\u001b[0m \u001b[0mself\u001b[0m\u001b[0;34m.\u001b[0m\u001b[0mslice_inputs\u001b[0m\u001b[0;34m(\u001b[0m\u001b[0mindices_dataset\u001b[0m\u001b[0;34m,\u001b[0m \u001b[0minputs\u001b[0m\u001b[0;34m)\u001b[0m\u001b[0;34m\u001b[0m\u001b[0;34m\u001b[0m\u001b[0m\n",
            "\u001b[0;32m/usr/local/lib/python3.6/dist-packages/tensorflow/python/data/ops/dataset_ops.py\u001b[0m in \u001b[0;36mflat_map\u001b[0;34m(self, map_func)\u001b[0m\n\u001b[1;32m   1725\u001b[0m       \u001b[0mDataset\u001b[0m\u001b[0;34m:\u001b[0m \u001b[0mA\u001b[0m\u001b[0;31m \u001b[0m\u001b[0;31m`\u001b[0m\u001b[0mDataset\u001b[0m\u001b[0;31m`\u001b[0m\u001b[0;34m.\u001b[0m\u001b[0;34m\u001b[0m\u001b[0;34m\u001b[0m\u001b[0m\n\u001b[1;32m   1726\u001b[0m     \"\"\"\n\u001b[0;32m-> 1727\u001b[0;31m     \u001b[0;32mreturn\u001b[0m \u001b[0mFlatMapDataset\u001b[0m\u001b[0;34m(\u001b[0m\u001b[0mself\u001b[0m\u001b[0;34m,\u001b[0m \u001b[0mmap_func\u001b[0m\u001b[0;34m)\u001b[0m\u001b[0;34m\u001b[0m\u001b[0;34m\u001b[0m\u001b[0m\n\u001b[0m\u001b[1;32m   1728\u001b[0m \u001b[0;34m\u001b[0m\u001b[0m\n\u001b[1;32m   1729\u001b[0m   def interleave(self,\n",
            "\u001b[0;32m/usr/local/lib/python3.6/dist-packages/tensorflow/python/data/ops/dataset_ops.py\u001b[0m in \u001b[0;36m__init__\u001b[0;34m(self, input_dataset, map_func)\u001b[0m\n\u001b[1;32m   4121\u001b[0m     \u001b[0mself\u001b[0m\u001b[0;34m.\u001b[0m\u001b[0m_input_dataset\u001b[0m \u001b[0;34m=\u001b[0m \u001b[0minput_dataset\u001b[0m\u001b[0;34m\u001b[0m\u001b[0;34m\u001b[0m\u001b[0m\n\u001b[1;32m   4122\u001b[0m     self._map_func = StructuredFunctionWrapper(\n\u001b[0;32m-> 4123\u001b[0;31m         map_func, self._transformation_name(), dataset=input_dataset)\n\u001b[0m\u001b[1;32m   4124\u001b[0m     \u001b[0;32mif\u001b[0m \u001b[0;32mnot\u001b[0m \u001b[0misinstance\u001b[0m\u001b[0;34m(\u001b[0m\u001b[0mself\u001b[0m\u001b[0;34m.\u001b[0m\u001b[0m_map_func\u001b[0m\u001b[0;34m.\u001b[0m\u001b[0moutput_structure\u001b[0m\u001b[0;34m,\u001b[0m \u001b[0mDatasetSpec\u001b[0m\u001b[0;34m)\u001b[0m\u001b[0;34m:\u001b[0m\u001b[0;34m\u001b[0m\u001b[0;34m\u001b[0m\u001b[0m\n\u001b[1;32m   4125\u001b[0m       raise TypeError(\n",
            "\u001b[0;32m/usr/local/lib/python3.6/dist-packages/tensorflow/python/data/ops/dataset_ops.py\u001b[0m in \u001b[0;36m__init__\u001b[0;34m(self, func, transformation_name, dataset, input_classes, input_shapes, input_types, input_structure, add_to_graph, use_legacy_function, defun_kwargs)\u001b[0m\n\u001b[1;32m   3369\u001b[0m       \u001b[0;32mwith\u001b[0m \u001b[0mtracking\u001b[0m\u001b[0;34m.\u001b[0m\u001b[0mresource_tracker_scope\u001b[0m\u001b[0;34m(\u001b[0m\u001b[0mresource_tracker\u001b[0m\u001b[0;34m)\u001b[0m\u001b[0;34m:\u001b[0m\u001b[0;34m\u001b[0m\u001b[0;34m\u001b[0m\u001b[0m\n\u001b[1;32m   3370\u001b[0m         \u001b[0;31m# TODO(b/141462134): Switch to using garbage collection.\u001b[0m\u001b[0;34m\u001b[0m\u001b[0;34m\u001b[0m\u001b[0;34m\u001b[0m\u001b[0m\n\u001b[0;32m-> 3371\u001b[0;31m         \u001b[0mself\u001b[0m\u001b[0;34m.\u001b[0m\u001b[0m_function\u001b[0m \u001b[0;34m=\u001b[0m \u001b[0mwrapper_fn\u001b[0m\u001b[0;34m.\u001b[0m\u001b[0mget_concrete_function\u001b[0m\u001b[0;34m(\u001b[0m\u001b[0;34m)\u001b[0m\u001b[0;34m\u001b[0m\u001b[0;34m\u001b[0m\u001b[0m\n\u001b[0m\u001b[1;32m   3372\u001b[0m         \u001b[0;32mif\u001b[0m \u001b[0madd_to_graph\u001b[0m\u001b[0;34m:\u001b[0m\u001b[0;34m\u001b[0m\u001b[0;34m\u001b[0m\u001b[0m\n\u001b[1;32m   3373\u001b[0m           \u001b[0mself\u001b[0m\u001b[0;34m.\u001b[0m\u001b[0m_function\u001b[0m\u001b[0;34m.\u001b[0m\u001b[0madd_to_graph\u001b[0m\u001b[0;34m(\u001b[0m\u001b[0mops\u001b[0m\u001b[0;34m.\u001b[0m\u001b[0mget_default_graph\u001b[0m\u001b[0;34m(\u001b[0m\u001b[0;34m)\u001b[0m\u001b[0;34m)\u001b[0m\u001b[0;34m\u001b[0m\u001b[0;34m\u001b[0m\u001b[0m\n",
            "\u001b[0;32m/usr/local/lib/python3.6/dist-packages/tensorflow/python/eager/function.py\u001b[0m in \u001b[0;36mget_concrete_function\u001b[0;34m(self, *args, **kwargs)\u001b[0m\n\u001b[1;32m   2937\u001b[0m     \"\"\"\n\u001b[1;32m   2938\u001b[0m     graph_function = self._get_concrete_function_garbage_collected(\n\u001b[0;32m-> 2939\u001b[0;31m         *args, **kwargs)\n\u001b[0m\u001b[1;32m   2940\u001b[0m     \u001b[0mgraph_function\u001b[0m\u001b[0;34m.\u001b[0m\u001b[0m_garbage_collector\u001b[0m\u001b[0;34m.\u001b[0m\u001b[0mrelease\u001b[0m\u001b[0;34m(\u001b[0m\u001b[0;34m)\u001b[0m  \u001b[0;31m# pylint: disable=protected-access\u001b[0m\u001b[0;34m\u001b[0m\u001b[0;34m\u001b[0m\u001b[0m\n\u001b[1;32m   2941\u001b[0m     \u001b[0;32mreturn\u001b[0m \u001b[0mgraph_function\u001b[0m\u001b[0;34m\u001b[0m\u001b[0;34m\u001b[0m\u001b[0m\n",
            "\u001b[0;32m/usr/local/lib/python3.6/dist-packages/tensorflow/python/eager/function.py\u001b[0m in \u001b[0;36m_get_concrete_function_garbage_collected\u001b[0;34m(self, *args, **kwargs)\u001b[0m\n\u001b[1;32m   2904\u001b[0m       \u001b[0margs\u001b[0m\u001b[0;34m,\u001b[0m \u001b[0mkwargs\u001b[0m \u001b[0;34m=\u001b[0m \u001b[0;32mNone\u001b[0m\u001b[0;34m,\u001b[0m \u001b[0;32mNone\u001b[0m\u001b[0;34m\u001b[0m\u001b[0;34m\u001b[0m\u001b[0m\n\u001b[1;32m   2905\u001b[0m     \u001b[0;32mwith\u001b[0m \u001b[0mself\u001b[0m\u001b[0;34m.\u001b[0m\u001b[0m_lock\u001b[0m\u001b[0;34m:\u001b[0m\u001b[0;34m\u001b[0m\u001b[0;34m\u001b[0m\u001b[0m\n\u001b[0;32m-> 2906\u001b[0;31m       \u001b[0mgraph_function\u001b[0m\u001b[0;34m,\u001b[0m \u001b[0margs\u001b[0m\u001b[0;34m,\u001b[0m \u001b[0mkwargs\u001b[0m \u001b[0;34m=\u001b[0m \u001b[0mself\u001b[0m\u001b[0;34m.\u001b[0m\u001b[0m_maybe_define_function\u001b[0m\u001b[0;34m(\u001b[0m\u001b[0margs\u001b[0m\u001b[0;34m,\u001b[0m \u001b[0mkwargs\u001b[0m\u001b[0;34m)\u001b[0m\u001b[0;34m\u001b[0m\u001b[0;34m\u001b[0m\u001b[0m\n\u001b[0m\u001b[1;32m   2907\u001b[0m       \u001b[0mseen_names\u001b[0m \u001b[0;34m=\u001b[0m \u001b[0mset\u001b[0m\u001b[0;34m(\u001b[0m\u001b[0;34m)\u001b[0m\u001b[0;34m\u001b[0m\u001b[0;34m\u001b[0m\u001b[0m\n\u001b[1;32m   2908\u001b[0m       captured = object_identity.ObjectIdentitySet(\n",
            "\u001b[0;32m/usr/local/lib/python3.6/dist-packages/tensorflow/python/eager/function.py\u001b[0m in \u001b[0;36m_maybe_define_function\u001b[0;34m(self, args, kwargs)\u001b[0m\n\u001b[1;32m   3211\u001b[0m \u001b[0;34m\u001b[0m\u001b[0m\n\u001b[1;32m   3212\u001b[0m       \u001b[0mself\u001b[0m\u001b[0;34m.\u001b[0m\u001b[0m_function_cache\u001b[0m\u001b[0;34m.\u001b[0m\u001b[0mmissed\u001b[0m\u001b[0;34m.\u001b[0m\u001b[0madd\u001b[0m\u001b[0;34m(\u001b[0m\u001b[0mcall_context_key\u001b[0m\u001b[0;34m)\u001b[0m\u001b[0;34m\u001b[0m\u001b[0;34m\u001b[0m\u001b[0m\n\u001b[0;32m-> 3213\u001b[0;31m       \u001b[0mgraph_function\u001b[0m \u001b[0;34m=\u001b[0m \u001b[0mself\u001b[0m\u001b[0;34m.\u001b[0m\u001b[0m_create_graph_function\u001b[0m\u001b[0;34m(\u001b[0m\u001b[0margs\u001b[0m\u001b[0;34m,\u001b[0m \u001b[0mkwargs\u001b[0m\u001b[0;34m)\u001b[0m\u001b[0;34m\u001b[0m\u001b[0;34m\u001b[0m\u001b[0m\n\u001b[0m\u001b[1;32m   3214\u001b[0m       \u001b[0mself\u001b[0m\u001b[0;34m.\u001b[0m\u001b[0m_function_cache\u001b[0m\u001b[0;34m.\u001b[0m\u001b[0mprimary\u001b[0m\u001b[0;34m[\u001b[0m\u001b[0mcache_key\u001b[0m\u001b[0;34m]\u001b[0m \u001b[0;34m=\u001b[0m \u001b[0mgraph_function\u001b[0m\u001b[0;34m\u001b[0m\u001b[0;34m\u001b[0m\u001b[0m\n\u001b[1;32m   3215\u001b[0m       \u001b[0;32mreturn\u001b[0m \u001b[0mgraph_function\u001b[0m\u001b[0;34m,\u001b[0m \u001b[0margs\u001b[0m\u001b[0;34m,\u001b[0m \u001b[0mkwargs\u001b[0m\u001b[0;34m\u001b[0m\u001b[0;34m\u001b[0m\u001b[0m\n",
            "\u001b[0;32m/usr/local/lib/python3.6/dist-packages/tensorflow/python/eager/function.py\u001b[0m in \u001b[0;36m_create_graph_function\u001b[0;34m(self, args, kwargs, override_flat_arg_shapes)\u001b[0m\n\u001b[1;32m   3073\u001b[0m             \u001b[0marg_names\u001b[0m\u001b[0;34m=\u001b[0m\u001b[0marg_names\u001b[0m\u001b[0;34m,\u001b[0m\u001b[0;34m\u001b[0m\u001b[0;34m\u001b[0m\u001b[0m\n\u001b[1;32m   3074\u001b[0m             \u001b[0moverride_flat_arg_shapes\u001b[0m\u001b[0;34m=\u001b[0m\u001b[0moverride_flat_arg_shapes\u001b[0m\u001b[0;34m,\u001b[0m\u001b[0;34m\u001b[0m\u001b[0;34m\u001b[0m\u001b[0m\n\u001b[0;32m-> 3075\u001b[0;31m             capture_by_value=self._capture_by_value),\n\u001b[0m\u001b[1;32m   3076\u001b[0m         \u001b[0mself\u001b[0m\u001b[0;34m.\u001b[0m\u001b[0m_function_attributes\u001b[0m\u001b[0;34m,\u001b[0m\u001b[0;34m\u001b[0m\u001b[0;34m\u001b[0m\u001b[0m\n\u001b[1;32m   3077\u001b[0m         \u001b[0mfunction_spec\u001b[0m\u001b[0;34m=\u001b[0m\u001b[0mself\u001b[0m\u001b[0;34m.\u001b[0m\u001b[0mfunction_spec\u001b[0m\u001b[0;34m,\u001b[0m\u001b[0;34m\u001b[0m\u001b[0;34m\u001b[0m\u001b[0m\n",
            "\u001b[0;32m/usr/local/lib/python3.6/dist-packages/tensorflow/python/framework/func_graph.py\u001b[0m in \u001b[0;36mfunc_graph_from_py_func\u001b[0;34m(name, python_func, args, kwargs, signature, func_graph, autograph, autograph_options, add_control_dependencies, arg_names, op_return_value, collections, capture_by_value, override_flat_arg_shapes)\u001b[0m\n\u001b[1;32m    984\u001b[0m         \u001b[0m_\u001b[0m\u001b[0;34m,\u001b[0m \u001b[0moriginal_func\u001b[0m \u001b[0;34m=\u001b[0m \u001b[0mtf_decorator\u001b[0m\u001b[0;34m.\u001b[0m\u001b[0munwrap\u001b[0m\u001b[0;34m(\u001b[0m\u001b[0mpython_func\u001b[0m\u001b[0;34m)\u001b[0m\u001b[0;34m\u001b[0m\u001b[0;34m\u001b[0m\u001b[0m\n\u001b[1;32m    985\u001b[0m \u001b[0;34m\u001b[0m\u001b[0m\n\u001b[0;32m--> 986\u001b[0;31m       \u001b[0mfunc_outputs\u001b[0m \u001b[0;34m=\u001b[0m \u001b[0mpython_func\u001b[0m\u001b[0;34m(\u001b[0m\u001b[0;34m*\u001b[0m\u001b[0mfunc_args\u001b[0m\u001b[0;34m,\u001b[0m \u001b[0;34m**\u001b[0m\u001b[0mfunc_kwargs\u001b[0m\u001b[0;34m)\u001b[0m\u001b[0;34m\u001b[0m\u001b[0;34m\u001b[0m\u001b[0m\n\u001b[0m\u001b[1;32m    987\u001b[0m \u001b[0;34m\u001b[0m\u001b[0m\n\u001b[1;32m    988\u001b[0m       \u001b[0;31m# invariant: `func_outputs` contains only Tensors, CompositeTensors,\u001b[0m\u001b[0;34m\u001b[0m\u001b[0;34m\u001b[0m\u001b[0;34m\u001b[0m\u001b[0m\n",
            "\u001b[0;32m/usr/local/lib/python3.6/dist-packages/tensorflow/python/data/ops/dataset_ops.py\u001b[0m in \u001b[0;36mwrapper_fn\u001b[0;34m(*args)\u001b[0m\n\u001b[1;32m   3362\u001b[0m           attributes=defun_kwargs)\n\u001b[1;32m   3363\u001b[0m       \u001b[0;32mdef\u001b[0m \u001b[0mwrapper_fn\u001b[0m\u001b[0;34m(\u001b[0m\u001b[0;34m*\u001b[0m\u001b[0margs\u001b[0m\u001b[0;34m)\u001b[0m\u001b[0;34m:\u001b[0m  \u001b[0;31m# pylint: disable=missing-docstring\u001b[0m\u001b[0;34m\u001b[0m\u001b[0;34m\u001b[0m\u001b[0m\n\u001b[0;32m-> 3364\u001b[0;31m         \u001b[0mret\u001b[0m \u001b[0;34m=\u001b[0m \u001b[0m_wrapper_helper\u001b[0m\u001b[0;34m(\u001b[0m\u001b[0;34m*\u001b[0m\u001b[0margs\u001b[0m\u001b[0;34m)\u001b[0m\u001b[0;34m\u001b[0m\u001b[0;34m\u001b[0m\u001b[0m\n\u001b[0m\u001b[1;32m   3365\u001b[0m         \u001b[0mret\u001b[0m \u001b[0;34m=\u001b[0m \u001b[0mstructure\u001b[0m\u001b[0;34m.\u001b[0m\u001b[0mto_tensor_list\u001b[0m\u001b[0;34m(\u001b[0m\u001b[0mself\u001b[0m\u001b[0;34m.\u001b[0m\u001b[0m_output_structure\u001b[0m\u001b[0;34m,\u001b[0m \u001b[0mret\u001b[0m\u001b[0;34m)\u001b[0m\u001b[0;34m\u001b[0m\u001b[0;34m\u001b[0m\u001b[0m\n\u001b[1;32m   3366\u001b[0m         \u001b[0;32mreturn\u001b[0m \u001b[0;34m[\u001b[0m\u001b[0mops\u001b[0m\u001b[0;34m.\u001b[0m\u001b[0mconvert_to_tensor\u001b[0m\u001b[0;34m(\u001b[0m\u001b[0mt\u001b[0m\u001b[0;34m)\u001b[0m \u001b[0;32mfor\u001b[0m \u001b[0mt\u001b[0m \u001b[0;32min\u001b[0m \u001b[0mret\u001b[0m\u001b[0;34m]\u001b[0m\u001b[0;34m\u001b[0m\u001b[0;34m\u001b[0m\u001b[0m\n",
            "\u001b[0;32m/usr/local/lib/python3.6/dist-packages/tensorflow/python/data/ops/dataset_ops.py\u001b[0m in \u001b[0;36m_wrapper_helper\u001b[0;34m(*args)\u001b[0m\n\u001b[1;32m   3297\u001b[0m         \u001b[0mnested_args\u001b[0m \u001b[0;34m=\u001b[0m \u001b[0;34m(\u001b[0m\u001b[0mnested_args\u001b[0m\u001b[0;34m,\u001b[0m\u001b[0;34m)\u001b[0m\u001b[0;34m\u001b[0m\u001b[0;34m\u001b[0m\u001b[0m\n\u001b[1;32m   3298\u001b[0m \u001b[0;34m\u001b[0m\u001b[0m\n\u001b[0;32m-> 3299\u001b[0;31m       \u001b[0mret\u001b[0m \u001b[0;34m=\u001b[0m \u001b[0mautograph\u001b[0m\u001b[0;34m.\u001b[0m\u001b[0mtf_convert\u001b[0m\u001b[0;34m(\u001b[0m\u001b[0mfunc\u001b[0m\u001b[0;34m,\u001b[0m \u001b[0mag_ctx\u001b[0m\u001b[0;34m)\u001b[0m\u001b[0;34m(\u001b[0m\u001b[0;34m*\u001b[0m\u001b[0mnested_args\u001b[0m\u001b[0;34m)\u001b[0m\u001b[0;34m\u001b[0m\u001b[0;34m\u001b[0m\u001b[0m\n\u001b[0m\u001b[1;32m   3300\u001b[0m       \u001b[0;31m# If `func` returns a list of tensors, `nest.flatten()` and\u001b[0m\u001b[0;34m\u001b[0m\u001b[0;34m\u001b[0m\u001b[0;34m\u001b[0m\u001b[0m\n\u001b[1;32m   3301\u001b[0m       \u001b[0;31m# `ops.convert_to_tensor()` would conspire to attempt to stack\u001b[0m\u001b[0;34m\u001b[0m\u001b[0;34m\u001b[0m\u001b[0;34m\u001b[0m\u001b[0m\n",
            "\u001b[0;32m/usr/local/lib/python3.6/dist-packages/tensorflow/python/autograph/impl/api.py\u001b[0m in \u001b[0;36mwrapper\u001b[0;34m(*args, **kwargs)\u001b[0m\n\u001b[1;32m    253\u001b[0m       \u001b[0;32mtry\u001b[0m\u001b[0;34m:\u001b[0m\u001b[0;34m\u001b[0m\u001b[0;34m\u001b[0m\u001b[0m\n\u001b[1;32m    254\u001b[0m         \u001b[0;32mwith\u001b[0m \u001b[0mconversion_ctx\u001b[0m\u001b[0;34m:\u001b[0m\u001b[0;34m\u001b[0m\u001b[0;34m\u001b[0m\u001b[0m\n\u001b[0;32m--> 255\u001b[0;31m           \u001b[0;32mreturn\u001b[0m \u001b[0mconverted_call\u001b[0m\u001b[0;34m(\u001b[0m\u001b[0mf\u001b[0m\u001b[0;34m,\u001b[0m \u001b[0margs\u001b[0m\u001b[0;34m,\u001b[0m \u001b[0mkwargs\u001b[0m\u001b[0;34m,\u001b[0m \u001b[0moptions\u001b[0m\u001b[0;34m=\u001b[0m\u001b[0moptions\u001b[0m\u001b[0;34m)\u001b[0m\u001b[0;34m\u001b[0m\u001b[0;34m\u001b[0m\u001b[0m\n\u001b[0m\u001b[1;32m    256\u001b[0m       \u001b[0;32mexcept\u001b[0m \u001b[0mException\u001b[0m \u001b[0;32mas\u001b[0m \u001b[0me\u001b[0m\u001b[0;34m:\u001b[0m  \u001b[0;31m# pylint:disable=broad-except\u001b[0m\u001b[0;34m\u001b[0m\u001b[0;34m\u001b[0m\u001b[0m\n\u001b[1;32m    257\u001b[0m         \u001b[0;32mif\u001b[0m \u001b[0mhasattr\u001b[0m\u001b[0;34m(\u001b[0m\u001b[0me\u001b[0m\u001b[0;34m,\u001b[0m \u001b[0;34m'ag_error_metadata'\u001b[0m\u001b[0;34m)\u001b[0m\u001b[0;34m:\u001b[0m\u001b[0;34m\u001b[0m\u001b[0;34m\u001b[0m\u001b[0m\n",
            "\u001b[0;32m/usr/local/lib/python3.6/dist-packages/tensorflow/python/autograph/impl/api.py\u001b[0m in \u001b[0;36mconverted_call\u001b[0;34m(f, args, kwargs, caller_fn_scope, options)\u001b[0m\n\u001b[1;32m    530\u001b[0m \u001b[0;34m\u001b[0m\u001b[0m\n\u001b[1;32m    531\u001b[0m   \u001b[0;32mif\u001b[0m \u001b[0;32mnot\u001b[0m \u001b[0moptions\u001b[0m\u001b[0;34m.\u001b[0m\u001b[0muser_requested\u001b[0m \u001b[0;32mand\u001b[0m \u001b[0mconversion\u001b[0m\u001b[0;34m.\u001b[0m\u001b[0mis_whitelisted\u001b[0m\u001b[0;34m(\u001b[0m\u001b[0mf\u001b[0m\u001b[0;34m)\u001b[0m\u001b[0;34m:\u001b[0m\u001b[0;34m\u001b[0m\u001b[0;34m\u001b[0m\u001b[0m\n\u001b[0;32m--> 532\u001b[0;31m     \u001b[0;32mreturn\u001b[0m \u001b[0m_call_unconverted\u001b[0m\u001b[0;34m(\u001b[0m\u001b[0mf\u001b[0m\u001b[0;34m,\u001b[0m \u001b[0margs\u001b[0m\u001b[0;34m,\u001b[0m \u001b[0mkwargs\u001b[0m\u001b[0;34m,\u001b[0m \u001b[0moptions\u001b[0m\u001b[0;34m)\u001b[0m\u001b[0;34m\u001b[0m\u001b[0;34m\u001b[0m\u001b[0m\n\u001b[0m\u001b[1;32m    533\u001b[0m \u001b[0;34m\u001b[0m\u001b[0m\n\u001b[1;32m    534\u001b[0m   \u001b[0;31m# internal_convert_user_code is for example turned off when issuing a dynamic\u001b[0m\u001b[0;34m\u001b[0m\u001b[0;34m\u001b[0m\u001b[0;34m\u001b[0m\u001b[0m\n",
            "\u001b[0;32m/usr/local/lib/python3.6/dist-packages/tensorflow/python/autograph/impl/api.py\u001b[0m in \u001b[0;36m_call_unconverted\u001b[0;34m(f, args, kwargs, options, update_cache)\u001b[0m\n\u001b[1;32m    337\u001b[0m \u001b[0;34m\u001b[0m\u001b[0m\n\u001b[1;32m    338\u001b[0m   \u001b[0;32mif\u001b[0m \u001b[0mkwargs\u001b[0m \u001b[0;32mis\u001b[0m \u001b[0;32mnot\u001b[0m \u001b[0;32mNone\u001b[0m\u001b[0;34m:\u001b[0m\u001b[0;34m\u001b[0m\u001b[0;34m\u001b[0m\u001b[0m\n\u001b[0;32m--> 339\u001b[0;31m     \u001b[0;32mreturn\u001b[0m \u001b[0mf\u001b[0m\u001b[0;34m(\u001b[0m\u001b[0;34m*\u001b[0m\u001b[0margs\u001b[0m\u001b[0;34m,\u001b[0m \u001b[0;34m**\u001b[0m\u001b[0mkwargs\u001b[0m\u001b[0;34m)\u001b[0m\u001b[0;34m\u001b[0m\u001b[0;34m\u001b[0m\u001b[0m\n\u001b[0m\u001b[1;32m    340\u001b[0m   \u001b[0;32mreturn\u001b[0m \u001b[0mf\u001b[0m\u001b[0;34m(\u001b[0m\u001b[0;34m*\u001b[0m\u001b[0margs\u001b[0m\u001b[0;34m)\u001b[0m\u001b[0;34m\u001b[0m\u001b[0;34m\u001b[0m\u001b[0m\n\u001b[1;32m    341\u001b[0m \u001b[0;34m\u001b[0m\u001b[0m\n",
            "\u001b[0;32m/usr/local/lib/python3.6/dist-packages/tensorflow/python/keras/engine/data_adapter.py\u001b[0m in \u001b[0;36mslice_batch_indices\u001b[0;34m(indices)\u001b[0m\n\u001b[1;32m    352\u001b[0m       \u001b[0;32mif\u001b[0m \u001b[0mself\u001b[0m\u001b[0;34m.\u001b[0m\u001b[0m_partial_batch_size\u001b[0m\u001b[0;34m:\u001b[0m\u001b[0;34m\u001b[0m\u001b[0;34m\u001b[0m\u001b[0m\n\u001b[1;32m    353\u001b[0m         index_remainder = dataset_ops.DatasetV2.from_tensors(array_ops.slice(\n\u001b[0;32m--> 354\u001b[0;31m             indices, [num_in_full_batch], [self._partial_batch_size]))\n\u001b[0m\u001b[1;32m    355\u001b[0m         \u001b[0mflat_dataset\u001b[0m \u001b[0;34m=\u001b[0m \u001b[0mflat_dataset\u001b[0m\u001b[0;34m.\u001b[0m\u001b[0mconcatenate\u001b[0m\u001b[0;34m(\u001b[0m\u001b[0mindex_remainder\u001b[0m\u001b[0;34m)\u001b[0m\u001b[0;34m\u001b[0m\u001b[0;34m\u001b[0m\u001b[0m\n\u001b[1;32m    356\u001b[0m \u001b[0;34m\u001b[0m\u001b[0m\n",
            "\u001b[0;32m/usr/local/lib/python3.6/dist-packages/tensorflow/python/util/dispatch.py\u001b[0m in \u001b[0;36mwrapper\u001b[0;34m(*args, **kwargs)\u001b[0m\n\u001b[1;32m    199\u001b[0m     \u001b[0;34m\"\"\"Call target, and fall back on dispatchers if there is a TypeError.\"\"\"\u001b[0m\u001b[0;34m\u001b[0m\u001b[0;34m\u001b[0m\u001b[0m\n\u001b[1;32m    200\u001b[0m     \u001b[0;32mtry\u001b[0m\u001b[0;34m:\u001b[0m\u001b[0;34m\u001b[0m\u001b[0;34m\u001b[0m\u001b[0m\n\u001b[0;32m--> 201\u001b[0;31m       \u001b[0;32mreturn\u001b[0m \u001b[0mtarget\u001b[0m\u001b[0;34m(\u001b[0m\u001b[0;34m*\u001b[0m\u001b[0margs\u001b[0m\u001b[0;34m,\u001b[0m \u001b[0;34m**\u001b[0m\u001b[0mkwargs\u001b[0m\u001b[0;34m)\u001b[0m\u001b[0;34m\u001b[0m\u001b[0;34m\u001b[0m\u001b[0m\n\u001b[0m\u001b[1;32m    202\u001b[0m     \u001b[0;32mexcept\u001b[0m \u001b[0;34m(\u001b[0m\u001b[0mTypeError\u001b[0m\u001b[0;34m,\u001b[0m \u001b[0mValueError\u001b[0m\u001b[0;34m)\u001b[0m\u001b[0;34m:\u001b[0m\u001b[0;34m\u001b[0m\u001b[0;34m\u001b[0m\u001b[0m\n\u001b[1;32m    203\u001b[0m       \u001b[0;31m# Note: convert_to_eager_tensor currently raises a ValueError, not a\u001b[0m\u001b[0;34m\u001b[0m\u001b[0;34m\u001b[0m\u001b[0;34m\u001b[0m\u001b[0m\n",
            "\u001b[0;32m/usr/local/lib/python3.6/dist-packages/tensorflow/python/ops/array_ops.py\u001b[0m in \u001b[0;36mslice\u001b[0;34m(input_, begin, size, name)\u001b[0m\n\u001b[1;32m   1078\u001b[0m     \u001b[0mA\u001b[0m\u001b[0;31m \u001b[0m\u001b[0;31m`\u001b[0m\u001b[0mTensor\u001b[0m\u001b[0;31m`\u001b[0m \u001b[0mthe\u001b[0m \u001b[0msame\u001b[0m \u001b[0mtype\u001b[0m \u001b[0;32mas\u001b[0m\u001b[0;31m \u001b[0m\u001b[0;31m`\u001b[0m\u001b[0minput_\u001b[0m\u001b[0;31m`\u001b[0m\u001b[0;34m.\u001b[0m\u001b[0;34m\u001b[0m\u001b[0;34m\u001b[0m\u001b[0m\n\u001b[1;32m   1079\u001b[0m   \"\"\"\n\u001b[0;32m-> 1080\u001b[0;31m   \u001b[0;32mreturn\u001b[0m \u001b[0mgen_array_ops\u001b[0m\u001b[0;34m.\u001b[0m\u001b[0m_slice\u001b[0m\u001b[0;34m(\u001b[0m\u001b[0minput_\u001b[0m\u001b[0;34m,\u001b[0m \u001b[0mbegin\u001b[0m\u001b[0;34m,\u001b[0m \u001b[0msize\u001b[0m\u001b[0;34m,\u001b[0m \u001b[0mname\u001b[0m\u001b[0;34m=\u001b[0m\u001b[0mname\u001b[0m\u001b[0;34m)\u001b[0m\u001b[0;34m\u001b[0m\u001b[0;34m\u001b[0m\u001b[0m\n\u001b[0m\u001b[1;32m   1081\u001b[0m \u001b[0;34m\u001b[0m\u001b[0m\n\u001b[1;32m   1082\u001b[0m \u001b[0;34m\u001b[0m\u001b[0m\n",
            "\u001b[0;32m/usr/local/lib/python3.6/dist-packages/tensorflow/python/ops/gen_array_ops.py\u001b[0m in \u001b[0;36m_slice\u001b[0;34m(input, begin, size, name)\u001b[0m\n\u001b[1;32m   9254\u001b[0m   \u001b[0;31m# Add nodes to the TensorFlow graph.\u001b[0m\u001b[0;34m\u001b[0m\u001b[0;34m\u001b[0m\u001b[0;34m\u001b[0m\u001b[0m\n\u001b[1;32m   9255\u001b[0m   _, _, _op, _outputs = _op_def_library._apply_op_helper(\n\u001b[0;32m-> 9256\u001b[0;31m         \"Slice\", input=input, begin=begin, size=size, name=name)\n\u001b[0m\u001b[1;32m   9257\u001b[0m   \u001b[0m_result\u001b[0m \u001b[0;34m=\u001b[0m \u001b[0m_outputs\u001b[0m\u001b[0;34m[\u001b[0m\u001b[0;34m:\u001b[0m\u001b[0;34m]\u001b[0m\u001b[0;34m\u001b[0m\u001b[0;34m\u001b[0m\u001b[0m\n\u001b[1;32m   9258\u001b[0m   \u001b[0;32mif\u001b[0m \u001b[0m_execute\u001b[0m\u001b[0;34m.\u001b[0m\u001b[0mmust_record_gradient\u001b[0m\u001b[0;34m(\u001b[0m\u001b[0;34m)\u001b[0m\u001b[0;34m:\u001b[0m\u001b[0;34m\u001b[0m\u001b[0;34m\u001b[0m\u001b[0m\n",
            "\u001b[0;32m/usr/local/lib/python3.6/dist-packages/tensorflow/python/framework/op_def_library.py\u001b[0m in \u001b[0;36m_apply_op_helper\u001b[0;34m(op_type_name, name, **keywords)\u001b[0m\n\u001b[1;32m    468\u001b[0m               \u001b[0mdtype\u001b[0m\u001b[0;34m=\u001b[0m\u001b[0mdtype\u001b[0m\u001b[0;34m,\u001b[0m\u001b[0;34m\u001b[0m\u001b[0;34m\u001b[0m\u001b[0m\n\u001b[1;32m    469\u001b[0m               \u001b[0mas_ref\u001b[0m\u001b[0;34m=\u001b[0m\u001b[0minput_arg\u001b[0m\u001b[0;34m.\u001b[0m\u001b[0mis_ref\u001b[0m\u001b[0;34m,\u001b[0m\u001b[0;34m\u001b[0m\u001b[0;34m\u001b[0m\u001b[0m\n\u001b[0;32m--> 470\u001b[0;31m               preferred_dtype=default_dtype)\n\u001b[0m\u001b[1;32m    471\u001b[0m         \u001b[0;32mexcept\u001b[0m \u001b[0mTypeError\u001b[0m \u001b[0;32mas\u001b[0m \u001b[0merr\u001b[0m\u001b[0;34m:\u001b[0m\u001b[0;34m\u001b[0m\u001b[0;34m\u001b[0m\u001b[0m\n\u001b[1;32m    472\u001b[0m           \u001b[0;32mif\u001b[0m \u001b[0mdtype\u001b[0m \u001b[0;32mis\u001b[0m \u001b[0;32mNone\u001b[0m\u001b[0;34m:\u001b[0m\u001b[0;34m\u001b[0m\u001b[0;34m\u001b[0m\u001b[0m\n",
            "\u001b[0;32m/usr/local/lib/python3.6/dist-packages/tensorflow/python/framework/ops.py\u001b[0m in \u001b[0;36mconvert_to_tensor\u001b[0;34m(value, dtype, name, as_ref, preferred_dtype, dtype_hint, ctx, accepted_result_types)\u001b[0m\n\u001b[1;32m   1497\u001b[0m \u001b[0;34m\u001b[0m\u001b[0m\n\u001b[1;32m   1498\u001b[0m     \u001b[0;32mif\u001b[0m \u001b[0mret\u001b[0m \u001b[0;32mis\u001b[0m \u001b[0;32mNone\u001b[0m\u001b[0;34m:\u001b[0m\u001b[0;34m\u001b[0m\u001b[0;34m\u001b[0m\u001b[0m\n\u001b[0;32m-> 1499\u001b[0;31m       \u001b[0mret\u001b[0m \u001b[0;34m=\u001b[0m \u001b[0mconversion_func\u001b[0m\u001b[0;34m(\u001b[0m\u001b[0mvalue\u001b[0m\u001b[0;34m,\u001b[0m \u001b[0mdtype\u001b[0m\u001b[0;34m=\u001b[0m\u001b[0mdtype\u001b[0m\u001b[0;34m,\u001b[0m \u001b[0mname\u001b[0m\u001b[0;34m=\u001b[0m\u001b[0mname\u001b[0m\u001b[0;34m,\u001b[0m \u001b[0mas_ref\u001b[0m\u001b[0;34m=\u001b[0m\u001b[0mas_ref\u001b[0m\u001b[0;34m)\u001b[0m\u001b[0;34m\u001b[0m\u001b[0;34m\u001b[0m\u001b[0m\n\u001b[0m\u001b[1;32m   1500\u001b[0m \u001b[0;34m\u001b[0m\u001b[0m\n\u001b[1;32m   1501\u001b[0m     \u001b[0;32mif\u001b[0m \u001b[0mret\u001b[0m \u001b[0;32mis\u001b[0m \u001b[0mNotImplemented\u001b[0m\u001b[0;34m:\u001b[0m\u001b[0;34m\u001b[0m\u001b[0;34m\u001b[0m\u001b[0m\n",
            "\u001b[0;32m/usr/local/lib/python3.6/dist-packages/tensorflow/python/framework/constant_op.py\u001b[0m in \u001b[0;36m_constant_tensor_conversion_function\u001b[0;34m(v, dtype, name, as_ref)\u001b[0m\n\u001b[1;32m    336\u001b[0m                                          as_ref=False):\n\u001b[1;32m    337\u001b[0m   \u001b[0m_\u001b[0m \u001b[0;34m=\u001b[0m \u001b[0mas_ref\u001b[0m\u001b[0;34m\u001b[0m\u001b[0;34m\u001b[0m\u001b[0m\n\u001b[0;32m--> 338\u001b[0;31m   \u001b[0;32mreturn\u001b[0m \u001b[0mconstant\u001b[0m\u001b[0;34m(\u001b[0m\u001b[0mv\u001b[0m\u001b[0;34m,\u001b[0m \u001b[0mdtype\u001b[0m\u001b[0;34m=\u001b[0m\u001b[0mdtype\u001b[0m\u001b[0;34m,\u001b[0m \u001b[0mname\u001b[0m\u001b[0;34m=\u001b[0m\u001b[0mname\u001b[0m\u001b[0;34m)\u001b[0m\u001b[0;34m\u001b[0m\u001b[0;34m\u001b[0m\u001b[0m\n\u001b[0m\u001b[1;32m    339\u001b[0m \u001b[0;34m\u001b[0m\u001b[0m\n\u001b[1;32m    340\u001b[0m \u001b[0;34m\u001b[0m\u001b[0m\n",
            "\u001b[0;32m/usr/local/lib/python3.6/dist-packages/tensorflow/python/framework/constant_op.py\u001b[0m in \u001b[0;36mconstant\u001b[0;34m(value, dtype, shape, name)\u001b[0m\n\u001b[1;32m    262\u001b[0m   \"\"\"\n\u001b[1;32m    263\u001b[0m   return _constant_impl(value, dtype, shape, name, verify_shape=False,\n\u001b[0;32m--> 264\u001b[0;31m                         allow_broadcast=True)\n\u001b[0m\u001b[1;32m    265\u001b[0m \u001b[0;34m\u001b[0m\u001b[0m\n\u001b[1;32m    266\u001b[0m \u001b[0;34m\u001b[0m\u001b[0m\n",
            "\u001b[0;32m/usr/local/lib/python3.6/dist-packages/tensorflow/python/framework/constant_op.py\u001b[0m in \u001b[0;36m_constant_impl\u001b[0;34m(value, dtype, shape, name, verify_shape, allow_broadcast)\u001b[0m\n\u001b[1;32m    280\u001b[0m       tensor_util.make_tensor_proto(\n\u001b[1;32m    281\u001b[0m           \u001b[0mvalue\u001b[0m\u001b[0;34m,\u001b[0m \u001b[0mdtype\u001b[0m\u001b[0;34m=\u001b[0m\u001b[0mdtype\u001b[0m\u001b[0;34m,\u001b[0m \u001b[0mshape\u001b[0m\u001b[0;34m=\u001b[0m\u001b[0mshape\u001b[0m\u001b[0;34m,\u001b[0m \u001b[0mverify_shape\u001b[0m\u001b[0;34m=\u001b[0m\u001b[0mverify_shape\u001b[0m\u001b[0;34m,\u001b[0m\u001b[0;34m\u001b[0m\u001b[0;34m\u001b[0m\u001b[0m\n\u001b[0;32m--> 282\u001b[0;31m           allow_broadcast=allow_broadcast))\n\u001b[0m\u001b[1;32m    283\u001b[0m   \u001b[0mdtype_value\u001b[0m \u001b[0;34m=\u001b[0m \u001b[0mattr_value_pb2\u001b[0m\u001b[0;34m.\u001b[0m\u001b[0mAttrValue\u001b[0m\u001b[0;34m(\u001b[0m\u001b[0mtype\u001b[0m\u001b[0;34m=\u001b[0m\u001b[0mtensor_value\u001b[0m\u001b[0;34m.\u001b[0m\u001b[0mtensor\u001b[0m\u001b[0;34m.\u001b[0m\u001b[0mdtype\u001b[0m\u001b[0;34m)\u001b[0m\u001b[0;34m\u001b[0m\u001b[0;34m\u001b[0m\u001b[0m\n\u001b[1;32m    284\u001b[0m   \u001b[0mattrs\u001b[0m \u001b[0;34m=\u001b[0m \u001b[0;34m{\u001b[0m\u001b[0;34m\"value\"\u001b[0m\u001b[0;34m:\u001b[0m \u001b[0mtensor_value\u001b[0m\u001b[0;34m,\u001b[0m \u001b[0;34m\"dtype\"\u001b[0m\u001b[0;34m:\u001b[0m \u001b[0mdtype_value\u001b[0m\u001b[0;34m}\u001b[0m\u001b[0;34m\u001b[0m\u001b[0;34m\u001b[0m\u001b[0m\n",
            "\u001b[0;32m/usr/local/lib/python3.6/dist-packages/tensorflow/python/framework/tensor_util.py\u001b[0m in \u001b[0;36mmake_tensor_proto\u001b[0;34m(values, dtype, shape, verify_shape, allow_broadcast)\u001b[0m\n\u001b[1;32m    472\u001b[0m       \u001b[0mdowncasted_array\u001b[0m \u001b[0;34m=\u001b[0m \u001b[0mnparray\u001b[0m\u001b[0;34m.\u001b[0m\u001b[0mastype\u001b[0m\u001b[0;34m(\u001b[0m\u001b[0mnp\u001b[0m\u001b[0;34m.\u001b[0m\u001b[0mint32\u001b[0m\u001b[0;34m)\u001b[0m\u001b[0;34m\u001b[0m\u001b[0;34m\u001b[0m\u001b[0m\n\u001b[1;32m    473\u001b[0m       \u001b[0;31m# Do not down cast if it leads to precision loss.\u001b[0m\u001b[0;34m\u001b[0m\u001b[0;34m\u001b[0m\u001b[0;34m\u001b[0m\u001b[0m\n\u001b[0;32m--> 474\u001b[0;31m       \u001b[0;32mif\u001b[0m \u001b[0mnp\u001b[0m\u001b[0;34m.\u001b[0m\u001b[0marray_equal\u001b[0m\u001b[0;34m(\u001b[0m\u001b[0mdowncasted_array\u001b[0m\u001b[0;34m,\u001b[0m \u001b[0mnparray\u001b[0m\u001b[0;34m)\u001b[0m\u001b[0;34m:\u001b[0m\u001b[0;34m\u001b[0m\u001b[0;34m\u001b[0m\u001b[0m\n\u001b[0m\u001b[1;32m    475\u001b[0m         \u001b[0mnparray\u001b[0m \u001b[0;34m=\u001b[0m \u001b[0mdowncasted_array\u001b[0m\u001b[0;34m\u001b[0m\u001b[0;34m\u001b[0m\u001b[0m\n\u001b[1;32m    476\u001b[0m \u001b[0;34m\u001b[0m\u001b[0m\n",
            "\u001b[0;32m<__array_function__ internals>\u001b[0m in \u001b[0;36marray_equal\u001b[0;34m(*args, **kwargs)\u001b[0m\n",
            "\u001b[0;32m/usr/local/lib/python3.6/dist-packages/numpy/core/numeric.py\u001b[0m in \u001b[0;36marray_equal\u001b[0;34m(a1, a2)\u001b[0m\n\u001b[1;32m   2325\u001b[0m     \u001b[0;32mif\u001b[0m \u001b[0ma1\u001b[0m\u001b[0;34m.\u001b[0m\u001b[0mshape\u001b[0m \u001b[0;34m!=\u001b[0m \u001b[0ma2\u001b[0m\u001b[0;34m.\u001b[0m\u001b[0mshape\u001b[0m\u001b[0;34m:\u001b[0m\u001b[0;34m\u001b[0m\u001b[0;34m\u001b[0m\u001b[0m\n\u001b[1;32m   2326\u001b[0m         \u001b[0;32mreturn\u001b[0m \u001b[0;32mFalse\u001b[0m\u001b[0;34m\u001b[0m\u001b[0;34m\u001b[0m\u001b[0m\n\u001b[0;32m-> 2327\u001b[0;31m     \u001b[0;32mreturn\u001b[0m \u001b[0mbool\u001b[0m\u001b[0;34m(\u001b[0m\u001b[0masarray\u001b[0m\u001b[0;34m(\u001b[0m\u001b[0ma1\u001b[0m \u001b[0;34m==\u001b[0m \u001b[0ma2\u001b[0m\u001b[0;34m)\u001b[0m\u001b[0;34m.\u001b[0m\u001b[0mall\u001b[0m\u001b[0;34m(\u001b[0m\u001b[0;34m)\u001b[0m\u001b[0;34m)\u001b[0m\u001b[0;34m\u001b[0m\u001b[0;34m\u001b[0m\u001b[0m\n\u001b[0m\u001b[1;32m   2328\u001b[0m \u001b[0;34m\u001b[0m\u001b[0m\n\u001b[1;32m   2329\u001b[0m \u001b[0;34m\u001b[0m\u001b[0m\n",
            "\u001b[0;31mKeyboardInterrupt\u001b[0m: "
          ]
        }
      ]
    },
    {
      "cell_type": "code",
      "metadata": {
        "id": "6_NV5F3BjMxF",
        "colab_type": "code",
        "colab": {}
      },
      "source": [
        "param.reset_record()\n",
        "param.bp_epochs=100 \n",
        "param.eval_term=1#  set Evaluation term ==1 to check the BP+N1 performance\n",
        "\n",
        "\n",
        "set_random_seed()\n",
        "_,_,resvec_bpn1=bpn1_br(X_train,Y_train,X_test,Y_test,param)"
      ],
      "execution_count": null,
      "outputs": []
    },
    {
      "cell_type": "code",
      "metadata": {
        "id": "81VTLavsjMxG",
        "colab_type": "code",
        "colab": {}
      },
      "source": [
        "columns=['iter','time','TRN','TSN','TRE','TSE']\n",
        "\n",
        "\n",
        "fig,ax=plt.subplots(figsize=(8,8))\n",
        "\n",
        "pd.DataFrame(resvec_b,columns=columns)[['iter','TSN']].set_index('iter').plot(ax=ax,style='b')\n",
        "pd.DataFrame(resvec_bpn1,columns=columns)[['iter','TSN']].set_index('iter').plot(ax=ax,style='k')\n",
        "ax.set_xlabel('iter')\n",
        "ax.set_ylabel('test norm')\n",
        "\n",
        "#pd.DataFrame(resvec_b,columns=columns)[['iter','TSE']].set_index('iter').plot(ax=ax,style='b')\n",
        "#pd.DataFrame(resvec_bpn1,columns=columns)[['iter','TSE']].set_index('iter').plot(ax=ax,style='k')\n",
        "#ax.set_xlabel('iter')\n",
        "#ax.set_ylabel('test error')\n",
        "\n",
        "ax.legend(['BP','BP+N1'],fontsize=30)"
      ],
      "execution_count": null,
      "outputs": []
    },
    {
      "cell_type": "code",
      "metadata": {
        "id": "QZLXfQv1jMxH",
        "colab_type": "code",
        "colab": {}
      },
      "source": [
        ""
      ],
      "execution_count": null,
      "outputs": []
    },
    {
      "cell_type": "markdown",
      "metadata": {
        "id": "XkYQ4Qi1jMxI",
        "colab_type": "text"
      },
      "source": [
        "### test 3: BP & BP+N1 for time check( eval_term==10)"
      ]
    },
    {
      "cell_type": "code",
      "metadata": {
        "id": "o14LSC9ijMxI",
        "colab_type": "code",
        "colab": {
          "base_uri": "https://localhost:8080/",
          "height": 187
        },
        "outputId": "6080faa0-13dd-43aa-d4b7-0e6d1d61e87e"
      },
      "source": [
        "param=get_param_from_df(df=df,dataset=dataset,show_info=True) "
      ],
      "execution_count": 165,
      "outputs": [
        {
          "output_type": "stream",
          "text": [
            "hidden                      [100]\n",
            "bp_lamb            [0.005, 0.005]\n",
            "nmf_lamb           [0.005, 0.005]\n",
            "bp_batch                [500, 50]\n",
            "nmf_batch               [0, 1052]\n",
            "bp_initializer                 ae\n",
            "nmf_initializer             randn\n",
            "delta                      [0, 0]\n",
            "eval_term                      10\n",
            "Name: airfoil, dtype: object\n"
          ],
          "name": "stdout"
        }
      ]
    },
    {
      "cell_type": "code",
      "metadata": {
        "id": "4pi7vHfVjMxJ",
        "colab_type": "code",
        "colab": {
          "base_uri": "https://localhost:8080/",
          "height": 1000
        },
        "outputId": "f25bd44d-2e58-47f3-9ef0-dde15097855d"
      },
      "source": [
        "param.reset_record()\n",
        "param.bp_epochs=100 # the number of Backpropagtion epoch\n",
        "set_random_seed()\n",
        "_,resvec_b=deep_bp_br(X_train,Y_train,X_test,Y_test,param)"
      ],
      "execution_count": 166,
      "outputs": [
        {
          "output_type": "stream",
          "text": [
            "----Autoencoder-----\n",
            "Iter          sec           TRN              TSN               TRE              TSE            \u001b[34mBP\u001b[0m \n",
            "\n",
            "0.000   0.879         0.446        0.447         0.000         0.000 \n",
            "\n",
            "Iter          sec           TRN              TSN               TRE              TSE            \u001b[34mBP\u001b[0m \n",
            "\n",
            "1.000   1.371         0.370        0.381         0.000         0.000 \n",
            "\n",
            "2.000   1.560         0.309        0.324         0.000         0.000 \n",
            "\n",
            "3.000   1.760         0.266        0.281         0.000         0.000 \n",
            "\n",
            "4.000   1.953         0.237        0.251         0.000         0.000 \n",
            "\n",
            "5.000   2.144         0.220        0.233         0.000         0.000 \n",
            "\n",
            "6.000   2.391         0.212        0.222         0.000         0.000 \n",
            "\n",
            "7.000   2.587         0.206        0.216         0.000         0.000 \n",
            "\n",
            "8.000   2.797         0.202        0.211         0.000         0.000 \n",
            "\n",
            "9.000   2.990         0.199        0.208         0.000         0.000 \n",
            "\n",
            "10.000   3.189         0.196        0.205         0.000         0.000 \n",
            "\n",
            "11.000   3.399         0.194        0.203         0.000         0.000 \n",
            "\n",
            "12.000   3.600         0.193        0.201         0.000         0.000 \n",
            "\n",
            "13.000   3.793         0.191        0.200         0.000         0.000 \n",
            "\n",
            "14.000   3.988         0.189        0.198         0.000         0.000 \n",
            "\n",
            "15.000   4.178         0.188        0.197         0.000         0.000 \n",
            "\n",
            "16.000   4.376         0.187        0.196         0.000         0.000 \n",
            "\n",
            "17.000   4.566         0.186        0.196         0.000         0.000 \n",
            "\n",
            "18.000   4.756         0.185        0.195         0.000         0.000 \n",
            "\n",
            "19.000   4.956         0.184        0.194         0.000         0.000 \n",
            "\n",
            "20.000   5.151         0.182        0.193         0.000         0.000 \n",
            "\n",
            "21.000   5.344         0.181        0.192         0.000         0.000 \n",
            "\n",
            "22.000   5.534         0.180        0.192         0.000         0.000 \n",
            "\n",
            "23.000   5.731         0.180        0.191         0.000         0.000 \n",
            "\n",
            "24.000   5.924         0.179        0.191         0.000         0.000 \n",
            "\n",
            "25.000   6.116         0.178        0.190         0.000         0.000 \n",
            "\n",
            "26.000   6.304         0.177        0.190         0.000         0.000 \n",
            "\n",
            "27.000   6.497         0.176        0.189         0.000         0.000 \n",
            "\n",
            "28.000   6.690         0.175        0.188         0.000         0.000 \n",
            "\n",
            "29.000   6.889         0.174        0.188         0.000         0.000 \n",
            "\n",
            "30.000   7.078         0.174        0.187         0.000         0.000 \n",
            "\n",
            "31.000   7.270         0.173        0.186         0.000         0.000 \n",
            "\n",
            "32.000   7.462         0.172        0.186         0.000         0.000 \n",
            "\n",
            "33.000   7.659         0.171        0.185         0.000         0.000 \n",
            "\n",
            "34.000   7.858         0.170        0.185         0.000         0.000 \n",
            "\n",
            "35.000   8.057         0.169        0.184         0.000         0.000 \n",
            "\n",
            "36.000   8.253         0.169        0.183         0.000         0.000 \n",
            "\n",
            "37.000   8.461         0.168        0.183         0.000         0.000 \n",
            "\n",
            "38.000   8.653         0.167        0.182         0.000         0.000 \n",
            "\n",
            "39.000   8.855         0.167        0.182         0.000         0.000 \n",
            "\n",
            "40.000   9.048         0.166        0.181         0.000         0.000 \n",
            "\n",
            "41.000   9.245         0.165        0.180         0.000         0.000 \n",
            "\n",
            "42.000   9.441         0.165        0.180         0.000         0.000 \n",
            "\n",
            "43.000   9.630         0.164        0.179         0.000         0.000 \n",
            "\n",
            "44.000   9.825         0.163        0.178         0.000         0.000 \n",
            "\n",
            "45.000  10.032         0.163        0.178         0.000         0.000 \n",
            "\n",
            "46.000  10.225         0.162        0.177         0.000         0.000 \n",
            "\n",
            "47.000  10.425         0.161        0.177         0.000         0.000 \n",
            "\n",
            "48.000  10.620         0.161        0.176         0.000         0.000 \n",
            "\n",
            "49.000  10.827         0.160        0.175         0.000         0.000 \n",
            "\n",
            "50.000  11.024         0.159        0.175         0.000         0.000 \n",
            "\n",
            "51.000  11.221         0.159        0.174         0.000         0.000 \n",
            "\n",
            "52.000  11.420         0.158        0.174         0.000         0.000 \n",
            "\n",
            "53.000  11.630         0.158        0.173         0.000         0.000 \n",
            "\n",
            "54.000  11.823         0.157        0.173         0.000         0.000 \n",
            "\n",
            "55.000  12.018         0.157        0.172         0.000         0.000 \n",
            "\n",
            "56.000  12.208         0.156        0.172         0.000         0.000 \n",
            "\n",
            "57.000  12.399         0.155        0.171         0.000         0.000 \n",
            "\n",
            "58.000  12.620         0.155        0.171         0.000         0.000 \n",
            "\n",
            "59.000  12.815         0.154        0.170         0.000         0.000 \n",
            "\n",
            "60.000  13.010         0.154        0.170         0.000         0.000 \n",
            "\n",
            "61.000  13.208         0.153        0.169         0.000         0.000 \n",
            "\n",
            "62.000  13.408         0.153        0.169         0.000         0.000 \n",
            "\n",
            "63.000  13.602         0.152        0.168         0.000         0.000 \n",
            "\n",
            "64.000  13.797         0.151        0.167         0.000         0.000 \n",
            "\n",
            "65.000  13.994         0.151        0.167         0.000         0.000 \n",
            "\n",
            "66.000  14.217         0.150        0.166         0.000         0.000 \n",
            "\n",
            "67.000  14.435         0.150        0.166         0.000         0.000 \n",
            "\n",
            "68.000  14.635         0.149        0.165         0.000         0.000 \n",
            "\n",
            "69.000  14.833         0.149        0.165         0.000         0.000 \n",
            "\n",
            "70.000  15.034         0.148        0.164         0.000         0.000 \n",
            "\n",
            "71.000  15.229         0.148        0.164         0.000         0.000 \n",
            "\n",
            "72.000  15.423         0.147        0.164         0.000         0.000 \n",
            "\n",
            "73.000  15.619         0.147        0.163         0.000         0.000 \n",
            "\n",
            "74.000  15.819         0.146        0.163         0.000         0.000 \n",
            "\n",
            "75.000  16.014         0.146        0.162         0.000         0.000 \n",
            "\n",
            "76.000  16.210         0.145        0.162         0.000         0.000 \n",
            "\n",
            "77.000  16.403         0.145        0.162         0.000         0.000 \n",
            "\n",
            "78.000  16.601         0.145        0.161         0.000         0.000 \n",
            "\n",
            "79.000  16.797         0.144        0.160         0.000         0.000 \n",
            "\n",
            "80.000  16.992         0.144        0.160         0.000         0.000 \n",
            "\n",
            "81.000  17.182         0.143        0.160         0.000         0.000 \n",
            "\n",
            "82.000  17.377         0.143        0.159         0.000         0.000 \n",
            "\n",
            "83.000  17.580         0.142        0.159         0.000         0.000 \n",
            "\n",
            "84.000  17.785         0.142        0.158         0.000         0.000 \n",
            "\n",
            "85.000  17.982         0.141        0.158         0.000         0.000 \n",
            "\n",
            "86.000  18.173         0.141        0.157         0.000         0.000 \n",
            "\n",
            "87.000  18.370         0.140        0.157         0.000         0.000 \n",
            "\n",
            "88.000  18.576         0.140        0.157         0.000         0.000 \n",
            "\n",
            "89.000  18.785         0.139        0.156         0.000         0.000 \n",
            "\n",
            "90.000  18.986         0.139        0.156         0.000         0.000 \n",
            "\n",
            "91.000  19.184         0.139        0.155         0.000         0.000 \n",
            "\n",
            "92.000  19.374         0.138        0.155         0.000         0.000 \n",
            "\n",
            "93.000  19.575         0.138        0.154         0.000         0.000 \n",
            "\n",
            "94.000  19.775         0.138        0.154         0.000         0.000 \n",
            "\n",
            "95.000  19.977         0.137        0.153         0.000         0.000 \n",
            "\n",
            "96.000  20.166         0.137        0.153         0.000         0.000 \n",
            "\n",
            "97.000  20.360         0.136        0.153         0.000         0.000 \n",
            "\n",
            "98.000  20.549         0.136        0.153         0.000         0.000 \n",
            "\n",
            "99.000  20.753         0.136        0.152         0.000         0.000 \n",
            "\n",
            "100.000  20.946         0.135        0.151         0.000         0.000 \n",
            "\n"
          ],
          "name": "stdout"
        }
      ]
    },
    {
      "cell_type": "code",
      "metadata": {
        "id": "YNYsrAKZjMxK",
        "colab_type": "code",
        "colab": {
          "base_uri": "https://localhost:8080/",
          "height": 134
        },
        "outputId": "954e4178-d72c-4895-d046-8cfe5225ba58"
      },
      "source": [
        "\n",
        "param.reset_record()\n",
        "param.bp_epochs=100 \n",
        "param.eval_term=10#  start From Backpropagation\n",
        "set_random_seed(seed)\n",
        "_,_,resvec_bpn1=bpn1_br(X_train,Y_train,X_test,Y_test,param)i"
      ],
      "execution_count": 167,
      "outputs": [
        {
          "output_type": "error",
          "ename": "SyntaxError",
          "evalue": "ignored",
          "traceback": [
            "\u001b[0;36m  File \u001b[0;32m\"<ipython-input-167-e32d787f7d8e>\"\u001b[0;36m, line \u001b[0;32m6\u001b[0m\n\u001b[0;31m    _,_,resvec_bpn1=bpn1_br(X_train,Y_train,X_test,Y_test,param)i\u001b[0m\n\u001b[0m                                                                ^\u001b[0m\n\u001b[0;31mSyntaxError\u001b[0m\u001b[0;31m:\u001b[0m invalid syntax\n"
          ]
        }
      ]
    },
    {
      "cell_type": "code",
      "metadata": {
        "id": "t51CuWjUjMxM",
        "colab_type": "code",
        "colab": {}
      },
      "source": [
        "columns=['iter','time','TRN','TSN','TRE','TSE']\n",
        "\n",
        "\n",
        "fig,ax=plt.subplots(figsize=(8,8))\n",
        "ii\n",
        "pd.DataFrame(resvec_b,columns=columns)[['time','TSN']].set_index('time').plot(ax=ax,style='b')\n",
        "pd.DataFrame(resvec_bpn1,columns=columns)[['time','TSN']].set_index('time').plot(ax=ax,style='k')\n",
        "ax.set_xlabel('time[sec]')\n",
        "ax.set_ylabel('test norm')\n",
        "\n",
        "#pd.DataFrame(resvec_b,columns=columns)[['iter','TSE']].set_index('iter').plot(ax=ax,style='b')\n",
        "#pd.DataFrame(resvec_bpn1,columns=columns)[['iter','TSE']].set_index('iter').plot(ax=ax,style='k')\n",
        "#ax.set_xlabel('time[sec]')\n",
        "#ax.set_ylabel('test error')\n",
        "\n",
        "ax.legend(['BP','BP+N1'],fontsize=30)"
      ],
      "execution_count": null,
      "outputs": []
    },
    {
      "cell_type": "markdown",
      "metadata": {
        "id": "f9zyCmL2jMxN",
        "colab_type": "text"
      },
      "source": [
        "### MyGraph"
      ]
    },
    {
      "cell_type": "code",
      "metadata": {
        "id": "2JLOz-VbjMxO",
        "colab_type": "code",
        "colab": {}
      },
      "source": [
        "dnn_solver_list=['bp','bpn1','bpn1','bpn1','bpn1']\n",
        "eval_term_list=[0,1,4,16,64]"
      ],
      "execution_count": null,
      "outputs": []
    },
    {
      "cell_type": "code",
      "metadata": {
        "id": "tO1KSJa2jMxP",
        "colab_type": "code",
        "colab": {}
      },
      "source": [
        "resvec_list=[]\n",
        "param.bp_epochs=1000\n",
        "param.bp_batch=[500,10]\n",
        "for i in range(len(dnn_solver_list)):\n",
        "    param.dnn_solver=dnn_solver_list[i]\n",
        "    param.eval_term=eval_term_list[i]\n",
        "    param.reset_record()\n",
        "    set_random_seed()\n",
        "    _,resvec=deep_nn_br(X_train,Y_train,X_test,Y_test,param)\n",
        "    resvec_list.append(resvec)"
      ],
      "execution_count": null,
      "outputs": []
    },
    {
      "cell_type": "code",
      "metadata": {
        "id": "-sjT1NetjMxR",
        "colab_type": "code",
        "colab": {}
      },
      "source": [
        "## preprocess the data for stopping crterion cut\n",
        "resvec_list_stopcut=[]\n",
        "for resvec in resvec_list:\n",
        "    resvec_cut=find_girigiri(convert_to_df(resvec),cut_crit='TRN',limit=0.1,upordown='down',transcend=True)\n",
        "    resvec_list_stopcut.append(resvec_cut)\n",
        "    "
      ],
      "execution_count": null,
      "outputs": []
    },
    {
      "cell_type": "code",
      "metadata": {
        "id": "j_UuMQwDjMxS",
        "colab_type": "code",
        "colab": {}
      },
      "source": [
        "\n",
        "resvec_cut=find_girigiri(convert_to_df(resvec_list[0]),cut_crit='TRN',limit=0.1,upordown='down',transcend=True)\n",
        "print(resvec_cut)"
      ],
      "execution_count": null,
      "outputs": []
    },
    {
      "cell_type": "code",
      "metadata": {
        "id": "8zIQoNpHjMxT",
        "colab_type": "code",
        "colab": {}
      },
      "source": [
        "column=['time','TRN']\n",
        "fig,ax=plt.subplots(figsize=(8,8))\n",
        "\n",
        "draw_df_graph(resvec_list_stopcut,column,ax,linewidth=1)\n",
        "\n",
        "ax.legend(['BP','proposed $p=1$','proposed $p=4$','proposed $p=16$','proposed $p=64$'],fontsize=20)\n",
        "#ax.set_xlim(0,600)\n",
        "#ax.set_ylim(5,10)\n",
        "\n",
        "\n",
        "ax.set_xlabel('time[sec]',fontsize=20)\n",
        "ax.set_ylabel('test error[%]',fontsize=20)\n",
        "\n",
        "ax.tick_params(axis=\"x\", labelsize=15)\n",
        "ax.tick_params(axis=\"y\", labelsize=15)\n",
        "\n",
        "ax.grid(True)"
      ],
      "execution_count": null,
      "outputs": []
    },
    {
      "cell_type": "code",
      "metadata": {
        "run_control": {
          "marked": true
        },
        "id": "_v_v9uRxjMxU",
        "colab_type": "code",
        "colab": {}
      },
      "source": [
        "timelist=[]\n",
        "for resvec in resvec_list_stopcut:\n",
        "    timelist.append(resvec.iloc[-1]['time'])"
      ],
      "execution_count": null,
      "outputs": []
    },
    {
      "cell_type": "code",
      "metadata": {
        "id": "70wuAVbvjMxV",
        "colab_type": "code",
        "colab": {}
      },
      "source": [
        "fig,ax=plt.subplots(figsize=(8,8))\n",
        "ax.bar(['BP','$p=1$','$p=4$','$p=16$','$p=64$'],timelist, color=['blue', 'red', 'green', 'purple', 'gold'])\n",
        "\n",
        "ax.set_xlabel('method',fontsize=20)\n",
        "ax.set_ylabel('elapsed time[sec]',fontsize=20)\n",
        "\n",
        "ax.tick_params(axis=\"x\", labelsize=15)\n",
        "ax.tick_params(axis=\"y\", labelsize=15)\n",
        "ax.grid(True,axis='y')"
      ],
      "execution_count": null,
      "outputs": []
    },
    {
      "cell_type": "code",
      "metadata": {
        "id": "gTkv_nDkjMxW",
        "colab_type": "code",
        "colab": {}
      },
      "source": [
        "testlist=[]\n",
        "for resvec in resvec_list_stopcut:\n",
        "    testlist.append(resvec.iloc[-1]['TSE'])"
      ],
      "execution_count": null,
      "outputs": []
    },
    {
      "cell_type": "code",
      "metadata": {
        "id": "g96y3eMfjMxX",
        "colab_type": "code",
        "colab": {}
      },
      "source": [
        "fig,ax=plt.subplots(figsize=(8,8))\n",
        "ax.bar(['BP','$p=1$','$p=4$','$p=16$','$p=64$'],testlist, color=['blue', 'red', 'green', 'purple', 'gold'])\n",
        "\n",
        "ax.set_xlabel('method',fontsize=20)\n",
        "ax.set_ylabel('test error[%]',fontsize=20)\n",
        "\n",
        "ax.tick_params(axis=\"x\", labelsize=15)\n",
        "ax.tick_params(axis=\"y\", labelsize=15)\n",
        "\n",
        "#ax.set_ylim(0,5)\n",
        "ax.grid(True,axis='y')"
      ],
      "execution_count": null,
      "outputs": []
    },
    {
      "cell_type": "code",
      "metadata": {
        "id": "vOA3e2Czz7UD",
        "colab_type": "code",
        "colab": {}
      },
      "source": [
        "!git config --global user.email \"bshean11@gmail.com\"\n",
        "!git config --global user.name \"surib123\""
      ],
      "execution_count": 179,
      "outputs": []
    },
    {
      "cell_type": "code",
      "metadata": {
        "id": "YpYAwjDu01sw",
        "colab_type": "code",
        "colab": {}
      },
      "source": [
        "!cd MyResearch"
      ],
      "execution_count": 197,
      "outputs": []
    },
    {
      "cell_type": "code",
      "metadata": {
        "id": "A80pm36O0DRD",
        "colab_type": "code",
        "colab": {
          "base_uri": "https://localhost:8080/",
          "height": 340
        },
        "outputId": "ba24dc66-6816-4ab3-f1b8-9f4916f08b1d"
      },
      "source": [
        "!git commit -m \"first commit\""
      ],
      "execution_count": 193,
      "outputs": [
        {
          "output_type": "stream",
          "text": [
            "On branch master\n",
            "\n",
            "Initial commit\n",
            "\n",
            "Untracked files:\n",
            "\t\u001b[31mCommand_Notebook.ipynb\u001b[m\n",
            "\t\u001b[31mCompetition/\u001b[m\n",
            "\t\u001b[31mCoursera-Material/\u001b[m\n",
            "\t\u001b[31mDeepLearning/\u001b[m\n",
            "\t\u001b[31mHow to Use Google_Colab.ipynb\u001b[m\n",
            "\t\u001b[31mMyResearch/\u001b[m\n",
            "\t\u001b[31mPython/\u001b[m\n",
            "\t\u001b[31mdataset/\u001b[m\n",
            "\t\u001b[31mexecutive_processing/\u001b[m\n",
            "\t\u001b[31mmodel.png\u001b[m\n",
            "\t\u001b[31mmysubmission.csv\u001b[m\n",
            "\t\u001b[31msnippets_notebook\u001b[m\n",
            "\n",
            "nothing added to commit but untracked files present\n"
          ],
          "name": "stdout"
        }
      ]
    },
    {
      "cell_type": "code",
      "metadata": {
        "id": "HkYYh7UmxsE4",
        "colab_type": "code",
        "colab": {}
      },
      "source": [
        "!git remote add origin https://github.com/surib123/Accelerating_BP_by_Using_NMF_based_methods.git"
      ],
      "execution_count": 187,
      "outputs": []
    },
    {
      "cell_type": "code",
      "metadata": {
        "id": "SSbogMNw0UOT",
        "colab_type": "code",
        "colab": {
          "base_uri": "https://localhost:8080/",
          "height": 51
        },
        "outputId": "ad33af17-853c-4255-edd0-eff7c3b4549a"
      },
      "source": [
        "!git push -u origin master"
      ],
      "execution_count": 188,
      "outputs": [
        {
          "output_type": "stream",
          "text": [
            "error: src refspec master does not match any.\n",
            "error: failed to push some refs to 'https://github.com/surib123/Accelerating_BP_by_Using_NMF_based_methods.git'\n"
          ],
          "name": "stdout"
        }
      ]
    },
    {
      "cell_type": "code",
      "metadata": {
        "id": "-An7QV_d0jQr",
        "colab_type": "code",
        "colab": {}
      },
      "source": [
        ""
      ],
      "execution_count": null,
      "outputs": []
    }
  ]
}